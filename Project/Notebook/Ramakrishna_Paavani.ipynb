{
 "cells": [
  {
   "cell_type": "markdown",
   "metadata": {
    "id": "iubb-lqAIpQO"
   },
   "source": [
    "# Name : Paavani Ramakrishna\n",
    "# Git Username: paavani2000\n",
    "# USC ID: 7696462483"
   ]
  },
  {
   "cell_type": "code",
   "execution_count": 1,
   "metadata": {
    "id": "yQR0V_FtIraA"
   },
   "outputs": [],
   "source": [
    "# from google.colab import drive\n",
    "# drive.mount('/content/drive')\n",
    "\n",
    "# # Example: Download to Google Drive directly\n",
    "# !wget -O \"/content/drive/My Drive/Data/RealWaste.zip\" \"https://www.dropbox.com/scl/fo/hkszyb94vqwvvmo9cvxxs/AC2hEJs-emerHNzw_fZE100/RealWaste?rlkey=y4f8atxry7rqas9hv6kr7qc91&subfolder_nav_tracking=1&dl=1\"\n",
    "\n",
    "# # Unzip it in Drive to save Colab RAM\n",
    "# !unzip \"/content/drive/My Drive/Data/RealWaste.zip\" -d \"/content/drive/My Drive/Data/RealWaste\"\n"
   ]
  },
  {
   "cell_type": "code",
   "execution_count": 2,
   "metadata": {
    "id": "1NUqLBqmLS8k"
   },
   "outputs": [],
   "source": [
    "# Import necessary libraries\n",
    "import os\n",
    "import numpy as np\n",
    "import tensorflow as tf\n",
    "from tensorflow.keras.applications import ResNet50, VGG16, EfficientNetB0\n",
    "from tensorflow.keras.models import Model\n",
    "from tensorflow.keras.layers import Dense, GlobalAveragePooling2D, Dropout, BatchNormalization\n",
    "from tensorflow.keras.utils import to_categorical\n",
    "from tensorflow.keras.optimizers import Adam\n",
    "from tensorflow.keras.callbacks import EarlyStopping, ModelCheckpoint\n",
    "from tensorflow.keras.preprocessing.image import ImageDataGenerator\n",
    "from tensorflow.keras.regularizers import l2\n",
    "import matplotlib.pyplot as plt\n",
    "from sklearn.metrics import precision_score, recall_score, roc_auc_score, f1_score\n",
    "import cv2\n",
    "from google.colab import drive"
   ]
  },
  {
   "cell_type": "code",
   "execution_count": 3,
   "metadata": {
    "colab": {
     "base_uri": "https://localhost:8080/"
    },
    "id": "TRuCn4x-LTJD",
    "outputId": "d3a4ef57-8054-4013-ed74-206c4371b571"
   },
   "outputs": [
    {
     "name": "stdout",
     "output_type": "stream",
     "text": [
      "Mounted at /content/drive\n",
      "Found 9 waste categories: ['1-Cardboard', '2-Food Organics', '3-Glass', '4-Metal', '5-Miscellaneous Trash', '6-Paper', '7-Plastic', '8-Textile Trash', '9-Vegetation']\n"
     ]
    }
   ],
   "source": [
    "from google.colab import drive\n",
    "drive.mount('/content/drive')\n",
    "\n",
    "# Now directly access the dataset\n",
    "data_dir = '/content/drive/My Drive/Data/RealWaste'\n",
    "classes = sorted(os.listdir(data_dir))\n",
    "num_classes = len(classes)\n",
    "image_size = (224, 224)  # Standard size for the pre-trained models\n",
    "validation_split = 0.2   # 20% for validation as specified\n",
    "\n",
    "print(f\"Found {num_classes} waste categories: {classes}\")"
   ]
  },
  {
   "cell_type": "markdown",
   "metadata": {
    "id": "A_d7Rz4uyiW3"
   },
   "source": [
    "Pre-processing"
   ]
  },
  {
   "cell_type": "code",
   "execution_count": 20,
   "metadata": {
    "colab": {
     "base_uri": "https://localhost:8080/"
    },
    "id": "6RYA9FvwOY3l",
    "outputId": "d5cd6701-84c2-439c-d2b9-e19d2d0e13cb"
   },
   "outputs": [
    {
     "name": "stdout",
     "output_type": "stream",
     "text": [
      "Dataset split: 3034 training, 764 validation, 954 test images\n"
     ]
    }
   ],
   "source": [
    "train_paths = []\n",
    "train_labels = []\n",
    "val_paths = []\n",
    "val_labels = []\n",
    "test_paths = []\n",
    "test_labels = []\n",
    "\n",
    "# Process images and create train/val/test splits\n",
    "for class_idx, class_name in enumerate(classes):\n",
    "    class_dir = os.path.join(data_dir, class_name)\n",
    "    image_files = sorted([f for f in os.listdir(class_dir) if f.endswith(('.jpg', '.jpeg', '.png'))])\n",
    "\n",
    "    # Calculate split indices\n",
    "    train_end = int(len(image_files) * 0.8)  # First 80% for training/validation\n",
    "\n",
    "    # Split the train portion for training (80%) and validation (20% of training)\n",
    "    train_val_files = image_files[:train_end]\n",
    "    val_idx = int(len(train_val_files) * 0.8)\n",
    "\n",
    "    # Assign to respective sets\n",
    "    for i, img_file in enumerate(train_val_files):\n",
    "        img_path = os.path.join(class_dir, img_file)\n",
    "        if i < val_idx:\n",
    "            train_paths.append(img_path)\n",
    "            train_labels.append(class_idx)\n",
    "        else:\n",
    "            val_paths.append(img_path)\n",
    "            val_labels.append(class_idx)\n",
    "\n",
    "    # Test set (last 20% of all images)\n",
    "    for img_file in image_files[train_end:]:\n",
    "        img_path = os.path.join(class_dir, img_file)\n",
    "        test_paths.append(img_path)\n",
    "        test_labels.append(class_idx)\n",
    "\n",
    "# Convert labels to one-hot encoding\n",
    "train_labels_onehot = to_categorical(train_labels, num_classes)\n",
    "val_labels_onehot = to_categorical(val_labels, num_classes)\n",
    "test_labels_onehot = to_categorical(test_labels, num_classes)\n",
    "\n",
    "print(f\"Dataset split: {len(train_paths)} training, {len(val_paths)} validation, {len(test_paths)} test images\")"
   ]
  },
  {
   "cell_type": "code",
   "execution_count": 21,
   "metadata": {
    "colab": {
     "base_uri": "https://localhost:8080/"
    },
    "id": "fft8doNIOYyQ",
    "outputId": "adc37838-b9ef-471a-ea9d-0f2fede4e111"
   },
   "outputs": [
    {
     "name": "stdout",
     "output_type": "stream",
     "text": [
      "Data generators created. Sample batch shape: (5, 224, 224, 3), Labels shape: (5, 9)\n",
      "Sample image range: [15.00, 240.00]\n"
     ]
    }
   ],
   "source": [
    "# Custom data generator\n",
    "class WasteImageGenerator(tf.keras.utils.Sequence):\n",
    "    def __init__(self, img_paths, labels, batch_size, img_size, augment=False, shuffle=True):\n",
    "        self.img_paths = img_paths\n",
    "        self.labels = labels\n",
    "        self.batch_size = batch_size\n",
    "        self.img_size = img_size\n",
    "        self.augment = augment\n",
    "        self.shuffle = shuffle  # Add shuffle parameter\n",
    "        self.indices = np.arange(len(self.img_paths))\n",
    "        if self.shuffle:\n",
    "            np.random.shuffle(self.indices)\n",
    "\n",
    "        # Create augmentation generator if needed\n",
    "        if self.augment:\n",
    "            self.augmenter = ImageDataGenerator(\n",
    "                rotation_range=20,\n",
    "                width_shift_range=0.2,\n",
    "                height_shift_range=0.2,\n",
    "                shear_range=0.15,\n",
    "                zoom_range=0.2,\n",
    "                horizontal_flip=True,\n",
    "                vertical_flip=False,\n",
    "                fill_mode='nearest',\n",
    "                brightness_range=[0.8, 1.2],\n",
    "                channel_shift_range=50.0\n",
    "            )\n",
    "\n",
    "    def __len__(self):\n",
    "        return int(np.ceil(len(self.img_paths) / self.batch_size))\n",
    "\n",
    "    def __getitem__(self, idx):\n",
    "        batch_indices = self.indices[idx * self.batch_size:(idx + 1) * self.batch_size]\n",
    "        batch_x = np.zeros((len(batch_indices), *self.img_size, 3), dtype=np.float32)\n",
    "        batch_y = np.zeros((len(batch_indices), self.labels.shape[1]), dtype=np.float32)\n",
    "\n",
    "        for i, idx in enumerate(batch_indices):\n",
    "            # Load and preprocess image\n",
    "            img = cv2.imread(self.img_paths[idx])\n",
    "            img = cv2.cvtColor(img, cv2.COLOR_BGR2RGB)\n",
    "            img = cv2.resize(img, self.img_size)\n",
    "\n",
    "            # Apply augmentation if enabled\n",
    "            if self.augment:\n",
    "                img = self.augmenter.random_transform(img)\n",
    "\n",
    "            # REMOVED NORMALIZATION - Use raw pixel values as is\n",
    "            # This key change improved performance to >70%\n",
    "            batch_x[i] = img\n",
    "            batch_y[i] = self.labels[idx]\n",
    "\n",
    "        return batch_x, batch_y\n",
    "\n",
    "    def on_epoch_end(self):\n",
    "        if self.shuffle:\n",
    "            np.random.shuffle(self.indices)\n",
    "\n",
    "# Create data generators with the custom class - training with shuffle, evaluation WITHOUT shuffle\n",
    "batch_size = 5  # As specified in requirements\n",
    "train_gen = WasteImageGenerator(train_paths, train_labels_onehot, batch_size, image_size, augment=True, shuffle=True)\n",
    "val_gen = WasteImageGenerator(val_paths, val_labels_onehot, batch_size, image_size, augment=False, shuffle=True)  # Shuffle still OK for validation during training\n",
    "test_gen = WasteImageGenerator(test_paths, test_labels_onehot, batch_size, image_size, augment=False, shuffle=False)  # NO shuffle for evaluation!\n",
    "\n",
    "# Verify data loading by examining a single batch\n",
    "x_sample, y_sample = train_gen[0]\n",
    "print(f\"Data generators created. Sample batch shape: {x_sample.shape}, Labels shape: {y_sample.shape}\")\n",
    "print(f\"Sample image range: [{np.min(x_sample[0]):.2f}, {np.max(x_sample[0]):.2f}]\")"
   ]
  },
  {
   "cell_type": "code",
   "execution_count": 22,
   "metadata": {
    "id": "mVym2bgwOYhK"
   },
   "outputs": [],
   "source": [
    "# Custom early stopping callback that only starts monitoring after minimum epochs\n",
    "class DelayedEarlyStopping(tf.keras.callbacks.EarlyStopping):\n",
    "    def __init__(self, min_epochs=50, **kwargs):\n",
    "        super(DelayedEarlyStopping, self).__init__(**kwargs)\n",
    "        self.min_epochs = min_epochs\n",
    "\n",
    "    def on_epoch_end(self, epoch, logs=None):\n",
    "        # Only start monitoring after reaching min_epochs\n",
    "        if epoch < self.min_epochs:\n",
    "            return\n",
    "        # After min_epochs, proceed with normal early stopping logic\n",
    "        super().on_epoch_end(epoch, logs)"
   ]
  },
  {
   "cell_type": "markdown",
   "metadata": {
    "id": "eIvfJ-Cayrze"
   },
   "source": [
    "1. ResNet50 Model"
   ]
  },
  {
   "cell_type": "code",
   "execution_count": 23,
   "metadata": {
    "id": "w_ieTfRSXWj1"
   },
   "outputs": [],
   "source": [
    "# Create model with optimized architecture\n",
    "def create_waste_classifier(base_model_name, input_shape, num_classes):\n",
    "    \"\"\"\n",
    "    Create a transfer learning model for waste classification with specified architecture\n",
    "    \"\"\"\n",
    "    # Initialize the base model according to selection\n",
    "    if base_model_name == 'ResNet50':\n",
    "        base_model = ResNet50(weights='imagenet', include_top=False, input_shape=input_shape)\n",
    "    elif base_model_name == 'VGG16':\n",
    "        base_model = VGG16(weights='imagenet', include_top=False, input_shape=input_shape)\n",
    "    elif base_model_name == 'EfficientNetB0':\n",
    "        base_model = EfficientNetB0(weights='imagenet', include_top=False, input_shape=input_shape)\n",
    "    else:\n",
    "        raise ValueError(f\"Unknown model type: {base_model_name}\")\n",
    "\n",
    "    # Freeze all layers in the base model\n",
    "    for layer in base_model.layers:\n",
    "        layer.trainable = False\n",
    "\n",
    "    # Get the output from the base model\n",
    "    x = base_model.output\n",
    "\n",
    "    # Add custom classification head with regularization techniques\n",
    "    x = GlobalAveragePooling2D()(x)\n",
    "    x = BatchNormalization()(x)\n",
    "    x = Dense(256, activation='relu', kernel_regularizer=l2(0.001))(x)  # Optimized L2 value\n",
    "    x = BatchNormalization()(x)\n",
    "    x = Dropout(0.2)(x)  # 20% dropout rate as specified\n",
    "\n",
    "    # Final classification layer with softmax\n",
    "    predictions = Dense(num_classes, activation='softmax', kernel_regularizer=l2(0.001))(x)\n",
    "\n",
    "    # Create and compile the model with lower learning rate\n",
    "    model = Model(inputs=base_model.input, outputs=predictions)\n",
    "    model.compile(\n",
    "        optimizer=Adam(learning_rate=0.0001),  # Optimized lower learning rate\n",
    "        loss='categorical_crossentropy',\n",
    "        metrics=['accuracy']\n",
    "    )\n",
    "\n",
    "    return model"
   ]
  },
  {
   "cell_type": "code",
   "execution_count": 24,
   "metadata": {
    "id": "Y0-VV5GNXZ8a"
   },
   "outputs": [],
   "source": [
    "# Evaluation function\n",
    "def evaluate_model(model, data_generator, class_names):\n",
    "    \"\"\"\n",
    "    Evaluate model performance with multiple metrics - using non-shuffled data\n",
    "    \"\"\"\n",
    "    # Create a non-shuffled generator for evaluation to ensure consistent order\n",
    "    eval_gen = WasteImageGenerator(\n",
    "        data_generator.img_paths,\n",
    "        data_generator.labels,\n",
    "        data_generator.batch_size,\n",
    "        data_generator.img_size,\n",
    "        augment=False,\n",
    "        shuffle=False  # Critical: No shuffling during evaluation\n",
    "    )\n",
    "\n",
    "    # Predict on all batches\n",
    "    y_true = []\n",
    "    y_pred = []\n",
    "    y_scores = []\n",
    "\n",
    "    for i in range(len(eval_gen)):\n",
    "        x_batch, y_batch = eval_gen[i]\n",
    "        batch_preds = model.predict(x_batch, verbose=0)\n",
    "\n",
    "        y_true.extend(np.argmax(y_batch, axis=1))\n",
    "        y_pred.extend(np.argmax(batch_preds, axis=1))\n",
    "        y_scores.extend(batch_preds)\n",
    "\n",
    "    # Convert to numpy arrays\n",
    "    y_true = np.array(y_true)\n",
    "    y_pred = np.array(y_pred)\n",
    "    y_scores = np.array(y_scores)\n",
    "\n",
    "    # Calculate metrics\n",
    "    precision = precision_score(y_true, y_pred, average='weighted')\n",
    "    recall = recall_score(y_true, y_pred, average='weighted')\n",
    "    f1 = f1_score(y_true, y_pred, average='weighted')\n",
    "\n",
    "    # For multiclass AUC, use one-vs-rest approach\n",
    "    try:\n",
    "        auc = roc_auc_score(to_categorical(y_true, num_classes=len(class_names)),\n",
    "                            y_scores, multi_class='ovr', average='weighted')\n",
    "    except:\n",
    "        auc = 0.0  # In case of error (e.g. only one class in batch)\n",
    "\n",
    "    # Calculate accuracy manually\n",
    "    accuracy = np.mean(y_true == y_pred)\n",
    "\n",
    "    return {\n",
    "        'accuracy': accuracy,\n",
    "        'precision': precision,\n",
    "        'recall': recall,\n",
    "        'f1_score': f1,\n",
    "        'auc': auc\n",
    "    }"
   ]
  },
  {
   "cell_type": "code",
   "execution_count": 25,
   "metadata": {
    "id": "VNMh4EBMXZxV"
   },
   "outputs": [],
   "source": [
    "from tensorflow.keras.callbacks import EarlyStopping, ModelCheckpoint, ReduceLROnPlateau\n",
    "# Set up model name and create it\n",
    "model_name = 'ResNet50'\n",
    "input_shape = (*image_size, 3)\n",
    "resnet50_model = create_waste_classifier(model_name, input_shape, num_classes)\n",
    "\n",
    "# Set up callbacks with delayed early stopping and reduced LR\n",
    "callbacks = [\n",
    "    DelayedEarlyStopping(\n",
    "        min_epochs=50,            # Start monitoring only after 50 epochs\n",
    "        monitor='val_loss',\n",
    "        patience=10,\n",
    "        verbose=1,\n",
    "        restore_best_weights=True\n",
    "    ),\n",
    "    ModelCheckpoint(\n",
    "        f'{model_name}_waste_classifier.h5',\n",
    "        monitor='val_loss',\n",
    "        save_best_only=True,\n",
    "        verbose=1\n",
    "    ),\n",
    "    # Add learning rate reduction\n",
    "    ReduceLROnPlateau(\n",
    "        monitor='val_loss',\n",
    "        factor=0.5,\n",
    "        patience=5,\n",
    "        min_lr=0.00001,\n",
    "        verbose=1\n",
    "    )\n",
    "]"
   ]
  },
  {
   "cell_type": "code",
   "execution_count": 26,
   "metadata": {
    "colab": {
     "base_uri": "https://localhost:8080/"
    },
    "id": "jAjleqgjXZZ6",
    "outputId": "b1d965a1-5a88-4d3d-fd71-b2a3c371c813"
   },
   "outputs": [
    {
     "name": "stdout",
     "output_type": "stream",
     "text": [
      "Training ResNet50 model with minimum 50 epochs...\n",
      "Epoch 1/100\n",
      "\u001b[1m607/607\u001b[0m \u001b[32m━━━━━━━━━━━━━━━━━━━━\u001b[0m\u001b[37m\u001b[0m \u001b[1m0s\u001b[0m 101ms/step - accuracy: 0.2952 - loss: 2.7358\n",
      "Epoch 1: val_loss improved from inf to 1.89368, saving model to ResNet50_waste_classifier.h5\n"
     ]
    },
    {
     "name": "stderr",
     "output_type": "stream",
     "text": [
      "WARNING:absl:You are saving your model as an HDF5 file via `model.save()` or `keras.saving.save_model(model)`. This file format is considered legacy. We recommend using instead the native Keras format, e.g. `model.save('my_model.keras')` or `keras.saving.save_model(model, 'my_model.keras')`. \n"
     ]
    },
    {
     "name": "stdout",
     "output_type": "stream",
     "text": [
      "\b\b\b\b\b\b\b\b\b\b\b\b\b\b\b\b\b\b\b\b\b\b\b\b\b\b\b\b\b\b\b\b\b\b\b\b\b\b\b\b\b\b\b\b\b\b\b\b\b\b\b\b\b\b\b\b\b\b\b\b\b\b\b\b\b\b\b\b\b\b\b\b\b\b\b\b\r",
      "\u001b[1m607/607\u001b[0m \u001b[32m━━━━━━━━━━━━━━━━━━━━\u001b[0m\u001b[37m\u001b[0m \u001b[1m83s\u001b[0m 119ms/step - accuracy: 0.2954 - loss: 2.7352 - val_accuracy: 0.5772 - val_loss: 1.8937 - learning_rate: 1.0000e-04\n",
      "Epoch 2/100\n",
      "\u001b[1m607/607\u001b[0m \u001b[32m━━━━━━━━━━━━━━━━━━━━\u001b[0m\u001b[37m\u001b[0m \u001b[1m0s\u001b[0m 96ms/step - accuracy: 0.5476 - loss: 1.8627\n",
      "Epoch 2: val_loss improved from 1.89368 to 1.64698, saving model to ResNet50_waste_classifier.h5\n"
     ]
    },
    {
     "name": "stderr",
     "output_type": "stream",
     "text": [
      "WARNING:absl:You are saving your model as an HDF5 file via `model.save()` or `keras.saving.save_model(model)`. This file format is considered legacy. We recommend using instead the native Keras format, e.g. `model.save('my_model.keras')` or `keras.saving.save_model(model, 'my_model.keras')`. \n"
     ]
    },
    {
     "name": "stdout",
     "output_type": "stream",
     "text": [
      "\b\b\b\b\b\b\b\b\b\b\b\b\b\b\b\b\b\b\b\b\b\b\b\b\b\b\b\b\b\b\b\b\b\b\b\b\b\b\b\b\b\b\b\b\b\b\b\b\b\b\b\b\b\b\b\b\b\b\b\b\b\b\b\b\b\b\b\b\b\b\b\b\b\b\b\r",
      "\u001b[1m607/607\u001b[0m \u001b[32m━━━━━━━━━━━━━━━━━━━━\u001b[0m\u001b[37m\u001b[0m \u001b[1m64s\u001b[0m 105ms/step - accuracy: 0.5476 - loss: 1.8627 - val_accuracy: 0.6584 - val_loss: 1.6470 - learning_rate: 1.0000e-04\n",
      "Epoch 3/100\n",
      "\u001b[1m607/607\u001b[0m \u001b[32m━━━━━━━━━━━━━━━━━━━━\u001b[0m\u001b[37m\u001b[0m \u001b[1m0s\u001b[0m 95ms/step - accuracy: 0.6144 - loss: 1.6353\n",
      "Epoch 3: val_loss improved from 1.64698 to 1.58372, saving model to ResNet50_waste_classifier.h5\n"
     ]
    },
    {
     "name": "stderr",
     "output_type": "stream",
     "text": [
      "WARNING:absl:You are saving your model as an HDF5 file via `model.save()` or `keras.saving.save_model(model)`. This file format is considered legacy. We recommend using instead the native Keras format, e.g. `model.save('my_model.keras')` or `keras.saving.save_model(model, 'my_model.keras')`. \n"
     ]
    },
    {
     "name": "stdout",
     "output_type": "stream",
     "text": [
      "\b\b\b\b\b\b\b\b\b\b\b\b\b\b\b\b\b\b\b\b\b\b\b\b\b\b\b\b\b\b\b\b\b\b\b\b\b\b\b\b\b\b\b\b\b\b\b\b\b\b\b\b\b\b\b\b\b\b\b\b\b\b\b\b\b\b\b\b\b\b\b\b\b\b\b\r",
      "\u001b[1m607/607\u001b[0m \u001b[32m━━━━━━━━━━━━━━━━━━━━\u001b[0m\u001b[37m\u001b[0m \u001b[1m63s\u001b[0m 105ms/step - accuracy: 0.6144 - loss: 1.6353 - val_accuracy: 0.6793 - val_loss: 1.5837 - learning_rate: 1.0000e-04\n",
      "Epoch 4/100\n",
      "\u001b[1m607/607\u001b[0m \u001b[32m━━━━━━━━━━━━━━━━━━━━\u001b[0m\u001b[37m\u001b[0m \u001b[1m0s\u001b[0m 95ms/step - accuracy: 0.6245 - loss: 1.5920\n",
      "Epoch 4: val_loss improved from 1.58372 to 1.52663, saving model to ResNet50_waste_classifier.h5\n"
     ]
    },
    {
     "name": "stderr",
     "output_type": "stream",
     "text": [
      "WARNING:absl:You are saving your model as an HDF5 file via `model.save()` or `keras.saving.save_model(model)`. This file format is considered legacy. We recommend using instead the native Keras format, e.g. `model.save('my_model.keras')` or `keras.saving.save_model(model, 'my_model.keras')`. \n"
     ]
    },
    {
     "name": "stdout",
     "output_type": "stream",
     "text": [
      "\b\b\b\b\b\b\b\b\b\b\b\b\b\b\b\b\b\b\b\b\b\b\b\b\b\b\b\b\b\b\b\b\b\b\b\b\b\b\b\b\b\b\b\b\b\b\b\b\b\b\b\b\b\b\b\b\b\b\b\b\b\b\b\b\b\b\b\b\b\b\b\b\b\b\b\r",
      "\u001b[1m607/607\u001b[0m \u001b[32m━━━━━━━━━━━━━━━━━━━━\u001b[0m\u001b[37m\u001b[0m \u001b[1m64s\u001b[0m 105ms/step - accuracy: 0.6245 - loss: 1.5920 - val_accuracy: 0.6885 - val_loss: 1.5266 - learning_rate: 1.0000e-04\n",
      "Epoch 5/100\n",
      "\u001b[1m607/607\u001b[0m \u001b[32m━━━━━━━━━━━━━━━━━━━━\u001b[0m\u001b[37m\u001b[0m \u001b[1m0s\u001b[0m 96ms/step - accuracy: 0.6731 - loss: 1.4542\n",
      "Epoch 5: val_loss did not improve from 1.52663\n",
      "\u001b[1m607/607\u001b[0m \u001b[32m━━━━━━━━━━━━━━━━━━━━\u001b[0m\u001b[37m\u001b[0m \u001b[1m63s\u001b[0m 104ms/step - accuracy: 0.6731 - loss: 1.4543 - val_accuracy: 0.6806 - val_loss: 1.5446 - learning_rate: 1.0000e-04\n",
      "Epoch 6/100\n",
      "\u001b[1m607/607\u001b[0m \u001b[32m━━━━━━━━━━━━━━━━━━━━\u001b[0m\u001b[37m\u001b[0m \u001b[1m0s\u001b[0m 95ms/step - accuracy: 0.6859 - loss: 1.3765\n",
      "Epoch 6: val_loss improved from 1.52663 to 1.51066, saving model to ResNet50_waste_classifier.h5\n"
     ]
    },
    {
     "name": "stderr",
     "output_type": "stream",
     "text": [
      "WARNING:absl:You are saving your model as an HDF5 file via `model.save()` or `keras.saving.save_model(model)`. This file format is considered legacy. We recommend using instead the native Keras format, e.g. `model.save('my_model.keras')` or `keras.saving.save_model(model, 'my_model.keras')`. \n"
     ]
    },
    {
     "name": "stdout",
     "output_type": "stream",
     "text": [
      "\b\b\b\b\b\b\b\b\b\b\b\b\b\b\b\b\b\b\b\b\b\b\b\b\b\b\b\b\b\b\b\b\b\b\b\b\b\b\b\b\b\b\b\b\b\b\b\b\b\b\b\b\b\b\b\b\b\b\b\b\b\b\b\b\b\b\b\b\b\b\b\b\b\b\b\r",
      "\u001b[1m607/607\u001b[0m \u001b[32m━━━━━━━━━━━━━━━━━━━━\u001b[0m\u001b[37m\u001b[0m \u001b[1m64s\u001b[0m 105ms/step - accuracy: 0.6859 - loss: 1.3766 - val_accuracy: 0.6911 - val_loss: 1.5107 - learning_rate: 1.0000e-04\n",
      "Epoch 7/100\n",
      "\u001b[1m607/607\u001b[0m \u001b[32m━━━━━━━━━━━━━━━━━━━━\u001b[0m\u001b[37m\u001b[0m \u001b[1m0s\u001b[0m 95ms/step - accuracy: 0.6773 - loss: 1.4117\n",
      "Epoch 7: val_loss improved from 1.51066 to 1.38984, saving model to ResNet50_waste_classifier.h5\n"
     ]
    },
    {
     "name": "stderr",
     "output_type": "stream",
     "text": [
      "WARNING:absl:You are saving your model as an HDF5 file via `model.save()` or `keras.saving.save_model(model)`. This file format is considered legacy. We recommend using instead the native Keras format, e.g. `model.save('my_model.keras')` or `keras.saving.save_model(model, 'my_model.keras')`. \n"
     ]
    },
    {
     "name": "stdout",
     "output_type": "stream",
     "text": [
      "\b\b\b\b\b\b\b\b\b\b\b\b\b\b\b\b\b\b\b\b\b\b\b\b\b\b\b\b\b\b\b\b\b\b\b\b\b\b\b\b\b\b\b\b\b\b\b\b\b\b\b\b\b\b\b\b\b\b\b\b\b\b\b\b\b\b\b\b\b\b\b\b\b\b\b\r",
      "\u001b[1m607/607\u001b[0m \u001b[32m━━━━━━━━━━━━━━━━━━━━\u001b[0m\u001b[37m\u001b[0m \u001b[1m64s\u001b[0m 105ms/step - accuracy: 0.6773 - loss: 1.4117 - val_accuracy: 0.7264 - val_loss: 1.3898 - learning_rate: 1.0000e-04\n",
      "Epoch 8/100\n",
      "\u001b[1m607/607\u001b[0m \u001b[32m━━━━━━━━━━━━━━━━━━━━\u001b[0m\u001b[37m\u001b[0m \u001b[1m0s\u001b[0m 95ms/step - accuracy: 0.6964 - loss: 1.3653\n",
      "Epoch 8: val_loss did not improve from 1.38984\n",
      "\u001b[1m607/607\u001b[0m \u001b[32m━━━━━━━━━━━━━━━━━━━━\u001b[0m\u001b[37m\u001b[0m \u001b[1m63s\u001b[0m 104ms/step - accuracy: 0.6964 - loss: 1.3653 - val_accuracy: 0.7107 - val_loss: 1.4577 - learning_rate: 1.0000e-04\n",
      "Epoch 9/100\n",
      "\u001b[1m607/607\u001b[0m \u001b[32m━━━━━━━━━━━━━━━━━━━━\u001b[0m\u001b[37m\u001b[0m \u001b[1m0s\u001b[0m 95ms/step - accuracy: 0.7197 - loss: 1.3090\n",
      "Epoch 9: val_loss did not improve from 1.38984\n",
      "\u001b[1m607/607\u001b[0m \u001b[32m━━━━━━━━━━━━━━━━━━━━\u001b[0m\u001b[37m\u001b[0m \u001b[1m63s\u001b[0m 104ms/step - accuracy: 0.7197 - loss: 1.3090 - val_accuracy: 0.7094 - val_loss: 1.4631 - learning_rate: 1.0000e-04\n",
      "Epoch 10/100\n",
      "\u001b[1m607/607\u001b[0m \u001b[32m━━━━━━━━━━━━━━━━━━━━\u001b[0m\u001b[37m\u001b[0m \u001b[1m0s\u001b[0m 95ms/step - accuracy: 0.6983 - loss: 1.3216\n",
      "Epoch 10: val_loss did not improve from 1.38984\n",
      "\u001b[1m607/607\u001b[0m \u001b[32m━━━━━━━━━━━━━━━━━━━━\u001b[0m\u001b[37m\u001b[0m \u001b[1m63s\u001b[0m 103ms/step - accuracy: 0.6983 - loss: 1.3215 - val_accuracy: 0.6924 - val_loss: 1.4948 - learning_rate: 1.0000e-04\n",
      "Epoch 11/100\n",
      "\u001b[1m607/607\u001b[0m \u001b[32m━━━━━━━━━━━━━━━━━━━━\u001b[0m\u001b[37m\u001b[0m \u001b[1m0s\u001b[0m 95ms/step - accuracy: 0.7265 - loss: 1.2535\n",
      "Epoch 11: val_loss did not improve from 1.38984\n",
      "\u001b[1m607/607\u001b[0m \u001b[32m━━━━━━━━━━━━━━━━━━━━\u001b[0m\u001b[37m\u001b[0m \u001b[1m63s\u001b[0m 104ms/step - accuracy: 0.7265 - loss: 1.2535 - val_accuracy: 0.7264 - val_loss: 1.4468 - learning_rate: 1.0000e-04\n",
      "Epoch 12/100\n",
      "\u001b[1m607/607\u001b[0m \u001b[32m━━━━━━━━━━━━━━━━━━━━\u001b[0m\u001b[37m\u001b[0m \u001b[1m0s\u001b[0m 95ms/step - accuracy: 0.7396 - loss: 1.2363\n",
      "Epoch 12: val_loss did not improve from 1.38984\n",
      "\n",
      "Epoch 12: ReduceLROnPlateau reducing learning rate to 4.999999873689376e-05.\n",
      "\u001b[1m607/607\u001b[0m \u001b[32m━━━━━━━━━━━━━━━━━━━━\u001b[0m\u001b[37m\u001b[0m \u001b[1m63s\u001b[0m 104ms/step - accuracy: 0.7396 - loss: 1.2362 - val_accuracy: 0.7107 - val_loss: 1.5051 - learning_rate: 1.0000e-04\n",
      "Epoch 13/100\n",
      "\u001b[1m607/607\u001b[0m \u001b[32m━━━━━━━━━━━━━━━━━━━━\u001b[0m\u001b[37m\u001b[0m \u001b[1m0s\u001b[0m 95ms/step - accuracy: 0.7254 - loss: 1.2508\n",
      "Epoch 13: val_loss did not improve from 1.38984\n",
      "\u001b[1m607/607\u001b[0m \u001b[32m━━━━━━━━━━━━━━━━━━━━\u001b[0m\u001b[37m\u001b[0m \u001b[1m63s\u001b[0m 104ms/step - accuracy: 0.7254 - loss: 1.2507 - val_accuracy: 0.7094 - val_loss: 1.4809 - learning_rate: 5.0000e-05\n",
      "Epoch 14/100\n",
      "\u001b[1m607/607\u001b[0m \u001b[32m━━━━━━━━━━━━━━━━━━━━\u001b[0m\u001b[37m\u001b[0m \u001b[1m0s\u001b[0m 96ms/step - accuracy: 0.7538 - loss: 1.1638\n",
      "Epoch 14: val_loss did not improve from 1.38984\n",
      "\u001b[1m607/607\u001b[0m \u001b[32m━━━━━━━━━━━━━━━━━━━━\u001b[0m\u001b[37m\u001b[0m \u001b[1m63s\u001b[0m 104ms/step - accuracy: 0.7538 - loss: 1.1639 - val_accuracy: 0.7120 - val_loss: 1.4555 - learning_rate: 5.0000e-05\n",
      "Epoch 15/100\n",
      "\u001b[1m607/607\u001b[0m \u001b[32m━━━━━━━━━━━━━━━━━━━━\u001b[0m\u001b[37m\u001b[0m \u001b[1m0s\u001b[0m 95ms/step - accuracy: 0.7393 - loss: 1.1814\n",
      "Epoch 15: val_loss did not improve from 1.38984\n",
      "\u001b[1m607/607\u001b[0m \u001b[32m━━━━━━━━━━━━━━━━━━━━\u001b[0m\u001b[37m\u001b[0m \u001b[1m63s\u001b[0m 104ms/step - accuracy: 0.7393 - loss: 1.1814 - val_accuracy: 0.7186 - val_loss: 1.4034 - learning_rate: 5.0000e-05\n",
      "Epoch 16/100\n",
      "\u001b[1m607/607\u001b[0m \u001b[32m━━━━━━━━━━━━━━━━━━━━\u001b[0m\u001b[37m\u001b[0m \u001b[1m0s\u001b[0m 95ms/step - accuracy: 0.7740 - loss: 1.1414\n",
      "Epoch 16: val_loss did not improve from 1.38984\n",
      "\u001b[1m607/607\u001b[0m \u001b[32m━━━━━━━━━━━━━━━━━━━━\u001b[0m\u001b[37m\u001b[0m \u001b[1m63s\u001b[0m 104ms/step - accuracy: 0.7740 - loss: 1.1415 - val_accuracy: 0.7264 - val_loss: 1.3984 - learning_rate: 5.0000e-05\n",
      "Epoch 17/100\n",
      "\u001b[1m607/607\u001b[0m \u001b[32m━━━━━━━━━━━━━━━━━━━━\u001b[0m\u001b[37m\u001b[0m \u001b[1m0s\u001b[0m 95ms/step - accuracy: 0.7590 - loss: 1.1128\n",
      "Epoch 17: val_loss did not improve from 1.38984\n",
      "\n",
      "Epoch 17: ReduceLROnPlateau reducing learning rate to 2.499999936844688e-05.\n",
      "\u001b[1m607/607\u001b[0m \u001b[32m━━━━━━━━━━━━━━━━━━━━\u001b[0m\u001b[37m\u001b[0m \u001b[1m63s\u001b[0m 104ms/step - accuracy: 0.7590 - loss: 1.1128 - val_accuracy: 0.7134 - val_loss: 1.4236 - learning_rate: 5.0000e-05\n",
      "Epoch 18/100\n",
      "\u001b[1m607/607\u001b[0m \u001b[32m━━━━━━━━━━━━━━━━━━━━\u001b[0m\u001b[37m\u001b[0m \u001b[1m0s\u001b[0m 95ms/step - accuracy: 0.7720 - loss: 1.1091\n",
      "Epoch 18: val_loss did not improve from 1.38984\n",
      "\u001b[1m607/607\u001b[0m \u001b[32m━━━━━━━━━━━━━━━━━━━━\u001b[0m\u001b[37m\u001b[0m \u001b[1m63s\u001b[0m 104ms/step - accuracy: 0.7720 - loss: 1.1092 - val_accuracy: 0.7251 - val_loss: 1.3989 - learning_rate: 2.5000e-05\n",
      "Epoch 19/100\n",
      "\u001b[1m607/607\u001b[0m \u001b[32m━━━━━━━━━━━━━━━━━━━━\u001b[0m\u001b[37m\u001b[0m \u001b[1m0s\u001b[0m 95ms/step - accuracy: 0.7820 - loss: 1.0722\n",
      "Epoch 19: val_loss did not improve from 1.38984\n",
      "\u001b[1m607/607\u001b[0m \u001b[32m━━━━━━━━━━━━━━━━━━━━\u001b[0m\u001b[37m\u001b[0m \u001b[1m63s\u001b[0m 104ms/step - accuracy: 0.7820 - loss: 1.0723 - val_accuracy: 0.7212 - val_loss: 1.4008 - learning_rate: 2.5000e-05\n",
      "Epoch 20/100\n",
      "\u001b[1m607/607\u001b[0m \u001b[32m━━━━━━━━━━━━━━━━━━━━\u001b[0m\u001b[37m\u001b[0m \u001b[1m0s\u001b[0m 95ms/step - accuracy: 0.7760 - loss: 1.0940\n",
      "Epoch 20: val_loss improved from 1.38984 to 1.37388, saving model to ResNet50_waste_classifier.h5\n"
     ]
    },
    {
     "name": "stderr",
     "output_type": "stream",
     "text": [
      "WARNING:absl:You are saving your model as an HDF5 file via `model.save()` or `keras.saving.save_model(model)`. This file format is considered legacy. We recommend using instead the native Keras format, e.g. `model.save('my_model.keras')` or `keras.saving.save_model(model, 'my_model.keras')`. \n"
     ]
    },
    {
     "name": "stdout",
     "output_type": "stream",
     "text": [
      "\b\b\b\b\b\b\b\b\b\b\b\b\b\b\b\b\b\b\b\b\b\b\b\b\b\b\b\b\b\b\b\b\b\b\b\b\b\b\b\b\b\b\b\b\b\b\b\b\b\b\b\b\b\b\b\b\b\b\b\b\b\b\b\b\b\b\b\b\b\b\b\b\b\b\b\r",
      "\u001b[1m607/607\u001b[0m \u001b[32m━━━━━━━━━━━━━━━━━━━━\u001b[0m\u001b[37m\u001b[0m \u001b[1m64s\u001b[0m 105ms/step - accuracy: 0.7759 - loss: 1.0941 - val_accuracy: 0.7186 - val_loss: 1.3739 - learning_rate: 2.5000e-05\n",
      "Epoch 21/100\n",
      "\u001b[1m607/607\u001b[0m \u001b[32m━━━━━━━━━━━━━━━━━━━━\u001b[0m\u001b[37m\u001b[0m \u001b[1m0s\u001b[0m 95ms/step - accuracy: 0.7654 - loss: 1.1075\n",
      "Epoch 21: val_loss did not improve from 1.37388\n",
      "\u001b[1m607/607\u001b[0m \u001b[32m━━━━━━━━━━━━━━━━━━━━\u001b[0m\u001b[37m\u001b[0m \u001b[1m63s\u001b[0m 104ms/step - accuracy: 0.7654 - loss: 1.1076 - val_accuracy: 0.7212 - val_loss: 1.3984 - learning_rate: 2.5000e-05\n",
      "Epoch 22/100\n",
      "\u001b[1m607/607\u001b[0m \u001b[32m━━━━━━━━━━━━━━━━━━━━\u001b[0m\u001b[37m\u001b[0m \u001b[1m0s\u001b[0m 95ms/step - accuracy: 0.7540 - loss: 1.1142\n",
      "Epoch 22: val_loss did not improve from 1.37388\n",
      "\u001b[1m607/607\u001b[0m \u001b[32m━━━━━━━━━━━━━━━━━━━━\u001b[0m\u001b[37m\u001b[0m \u001b[1m63s\u001b[0m 104ms/step - accuracy: 0.7540 - loss: 1.1142 - val_accuracy: 0.7186 - val_loss: 1.3855 - learning_rate: 2.5000e-05\n",
      "Epoch 23/100\n",
      "\u001b[1m607/607\u001b[0m \u001b[32m━━━━━━━━━━━━━━━━━━━━\u001b[0m\u001b[37m\u001b[0m \u001b[1m0s\u001b[0m 95ms/step - accuracy: 0.7759 - loss: 1.0894\n",
      "Epoch 23: val_loss did not improve from 1.37388\n",
      "\u001b[1m607/607\u001b[0m \u001b[32m━━━━━━━━━━━━━━━━━━━━\u001b[0m\u001b[37m\u001b[0m \u001b[1m63s\u001b[0m 104ms/step - accuracy: 0.7759 - loss: 1.0894 - val_accuracy: 0.7238 - val_loss: 1.4038 - learning_rate: 2.5000e-05\n",
      "Epoch 24/100\n",
      "\u001b[1m607/607\u001b[0m \u001b[32m━━━━━━━━━━━━━━━━━━━━\u001b[0m\u001b[37m\u001b[0m \u001b[1m0s\u001b[0m 95ms/step - accuracy: 0.7605 - loss: 1.1669\n",
      "Epoch 24: val_loss improved from 1.37388 to 1.37253, saving model to ResNet50_waste_classifier.h5\n"
     ]
    },
    {
     "name": "stderr",
     "output_type": "stream",
     "text": [
      "WARNING:absl:You are saving your model as an HDF5 file via `model.save()` or `keras.saving.save_model(model)`. This file format is considered legacy. We recommend using instead the native Keras format, e.g. `model.save('my_model.keras')` or `keras.saving.save_model(model, 'my_model.keras')`. \n"
     ]
    },
    {
     "name": "stdout",
     "output_type": "stream",
     "text": [
      "\b\b\b\b\b\b\b\b\b\b\b\b\b\b\b\b\b\b\b\b\b\b\b\b\b\b\b\b\b\b\b\b\b\b\b\b\b\b\b\b\b\b\b\b\b\b\b\b\b\b\b\b\b\b\b\b\b\b\b\b\b\b\b\b\b\b\b\b\b\b\b\b\b\b\b\r",
      "\u001b[1m607/607\u001b[0m \u001b[32m━━━━━━━━━━━━━━━━━━━━\u001b[0m\u001b[37m\u001b[0m \u001b[1m64s\u001b[0m 105ms/step - accuracy: 0.7605 - loss: 1.1668 - val_accuracy: 0.7264 - val_loss: 1.3725 - learning_rate: 2.5000e-05\n",
      "Epoch 25/100\n",
      "\u001b[1m607/607\u001b[0m \u001b[32m━━━━━━━━━━━━━━━━━━━━\u001b[0m\u001b[37m\u001b[0m \u001b[1m0s\u001b[0m 95ms/step - accuracy: 0.7779 - loss: 1.0771\n",
      "Epoch 25: val_loss did not improve from 1.37253\n",
      "\u001b[1m607/607\u001b[0m \u001b[32m━━━━━━━━━━━━━━━━━━━━\u001b[0m\u001b[37m\u001b[0m \u001b[1m63s\u001b[0m 104ms/step - accuracy: 0.7779 - loss: 1.0771 - val_accuracy: 0.7225 - val_loss: 1.4016 - learning_rate: 2.5000e-05\n",
      "Epoch 26/100\n",
      "\u001b[1m607/607\u001b[0m \u001b[32m━━━━━━━━━━━━━━━━━━━━\u001b[0m\u001b[37m\u001b[0m \u001b[1m0s\u001b[0m 95ms/step - accuracy: 0.7521 - loss: 1.1406\n",
      "Epoch 26: val_loss did not improve from 1.37253\n",
      "\u001b[1m607/607\u001b[0m \u001b[32m━━━━━━━━━━━━━━━━━━━━\u001b[0m\u001b[37m\u001b[0m \u001b[1m63s\u001b[0m 104ms/step - accuracy: 0.7522 - loss: 1.1405 - val_accuracy: 0.7081 - val_loss: 1.4079 - learning_rate: 2.5000e-05\n",
      "Epoch 27/100\n",
      "\u001b[1m607/607\u001b[0m \u001b[32m━━━━━━━━━━━━━━━━━━━━\u001b[0m\u001b[37m\u001b[0m \u001b[1m0s\u001b[0m 95ms/step - accuracy: 0.7766 - loss: 1.0912\n",
      "Epoch 27: val_loss did not improve from 1.37253\n",
      "\u001b[1m607/607\u001b[0m \u001b[32m━━━━━━━━━━━━━━━━━━━━\u001b[0m\u001b[37m\u001b[0m \u001b[1m63s\u001b[0m 104ms/step - accuracy: 0.7766 - loss: 1.0912 - val_accuracy: 0.7147 - val_loss: 1.3885 - learning_rate: 2.5000e-05\n",
      "Epoch 28/100\n",
      "\u001b[1m607/607\u001b[0m \u001b[32m━━━━━━━━━━━━━━━━━━━━\u001b[0m\u001b[37m\u001b[0m \u001b[1m0s\u001b[0m 95ms/step - accuracy: 0.7712 - loss: 1.1020\n",
      "Epoch 28: val_loss did not improve from 1.37253\n",
      "\u001b[1m607/607\u001b[0m \u001b[32m━━━━━━━━━━━━━━━━━━━━\u001b[0m\u001b[37m\u001b[0m \u001b[1m63s\u001b[0m 104ms/step - accuracy: 0.7712 - loss: 1.1020 - val_accuracy: 0.7212 - val_loss: 1.3730 - learning_rate: 2.5000e-05\n",
      "Epoch 29/100\n",
      "\u001b[1m607/607\u001b[0m \u001b[32m━━━━━━━━━━━━━━━━━━━━\u001b[0m\u001b[37m\u001b[0m \u001b[1m0s\u001b[0m 95ms/step - accuracy: 0.7962 - loss: 1.0264\n",
      "Epoch 29: val_loss improved from 1.37253 to 1.35501, saving model to ResNet50_waste_classifier.h5\n"
     ]
    },
    {
     "name": "stderr",
     "output_type": "stream",
     "text": [
      "WARNING:absl:You are saving your model as an HDF5 file via `model.save()` or `keras.saving.save_model(model)`. This file format is considered legacy. We recommend using instead the native Keras format, e.g. `model.save('my_model.keras')` or `keras.saving.save_model(model, 'my_model.keras')`. \n"
     ]
    },
    {
     "name": "stdout",
     "output_type": "stream",
     "text": [
      "\b\b\b\b\b\b\b\b\b\b\b\b\b\b\b\b\b\b\b\b\b\b\b\b\b\b\b\b\b\b\b\b\b\b\b\b\b\b\b\b\b\b\b\b\b\b\b\b\b\b\b\b\b\b\b\b\b\b\b\b\b\b\b\b\b\b\b\b\b\b\b\b\b\b\b\r",
      "\u001b[1m607/607\u001b[0m \u001b[32m━━━━━━━━━━━━━━━━━━━━\u001b[0m\u001b[37m\u001b[0m \u001b[1m63s\u001b[0m 104ms/step - accuracy: 0.7962 - loss: 1.0264 - val_accuracy: 0.7264 - val_loss: 1.3550 - learning_rate: 2.5000e-05\n",
      "Epoch 30/100\n",
      "\u001b[1m607/607\u001b[0m \u001b[32m━━━━━━━━━━━━━━━━━━━━\u001b[0m\u001b[37m\u001b[0m \u001b[1m0s\u001b[0m 95ms/step - accuracy: 0.7871 - loss: 1.0258\n",
      "Epoch 30: val_loss did not improve from 1.35501\n",
      "\u001b[1m607/607\u001b[0m \u001b[32m━━━━━━━━━━━━━━━━━━━━\u001b[0m\u001b[37m\u001b[0m \u001b[1m63s\u001b[0m 104ms/step - accuracy: 0.7871 - loss: 1.0258 - val_accuracy: 0.7304 - val_loss: 1.3688 - learning_rate: 2.5000e-05\n",
      "Epoch 31/100\n",
      "\u001b[1m607/607\u001b[0m \u001b[32m━━━━━━━━━━━━━━━━━━━━\u001b[0m\u001b[37m\u001b[0m \u001b[1m0s\u001b[0m 95ms/step - accuracy: 0.7919 - loss: 1.0566\n",
      "Epoch 31: val_loss did not improve from 1.35501\n",
      "\u001b[1m607/607\u001b[0m \u001b[32m━━━━━━━━━━━━━━━━━━━━\u001b[0m\u001b[37m\u001b[0m \u001b[1m63s\u001b[0m 104ms/step - accuracy: 0.7918 - loss: 1.0566 - val_accuracy: 0.7238 - val_loss: 1.3756 - learning_rate: 2.5000e-05\n",
      "Epoch 32/100\n",
      "\u001b[1m607/607\u001b[0m \u001b[32m━━━━━━━━━━━━━━━━━━━━\u001b[0m\u001b[37m\u001b[0m \u001b[1m0s\u001b[0m 95ms/step - accuracy: 0.7915 - loss: 1.0354\n",
      "Epoch 32: val_loss did not improve from 1.35501\n",
      "\u001b[1m607/607\u001b[0m \u001b[32m━━━━━━━━━━━━━━━━━━━━\u001b[0m\u001b[37m\u001b[0m \u001b[1m63s\u001b[0m 104ms/step - accuracy: 0.7915 - loss: 1.0354 - val_accuracy: 0.7291 - val_loss: 1.3618 - learning_rate: 2.5000e-05\n",
      "Epoch 33/100\n",
      "\u001b[1m607/607\u001b[0m \u001b[32m━━━━━━━━━━━━━━━━━━━━\u001b[0m\u001b[37m\u001b[0m \u001b[1m0s\u001b[0m 94ms/step - accuracy: 0.8031 - loss: 0.9897\n",
      "Epoch 33: val_loss did not improve from 1.35501\n",
      "\u001b[1m607/607\u001b[0m \u001b[32m━━━━━━━━━━━━━━━━━━━━\u001b[0m\u001b[37m\u001b[0m \u001b[1m63s\u001b[0m 103ms/step - accuracy: 0.8031 - loss: 0.9898 - val_accuracy: 0.7291 - val_loss: 1.3779 - learning_rate: 2.5000e-05\n",
      "Epoch 34/100\n",
      "\u001b[1m607/607\u001b[0m \u001b[32m━━━━━━━━━━━━━━━━━━━━\u001b[0m\u001b[37m\u001b[0m \u001b[1m0s\u001b[0m 95ms/step - accuracy: 0.7843 - loss: 1.0528\n",
      "Epoch 34: val_loss improved from 1.35501 to 1.33439, saving model to ResNet50_waste_classifier.h5\n"
     ]
    },
    {
     "name": "stderr",
     "output_type": "stream",
     "text": [
      "WARNING:absl:You are saving your model as an HDF5 file via `model.save()` or `keras.saving.save_model(model)`. This file format is considered legacy. We recommend using instead the native Keras format, e.g. `model.save('my_model.keras')` or `keras.saving.save_model(model, 'my_model.keras')`. \n"
     ]
    },
    {
     "name": "stdout",
     "output_type": "stream",
     "text": [
      "\b\b\b\b\b\b\b\b\b\b\b\b\b\b\b\b\b\b\b\b\b\b\b\b\b\b\b\b\b\b\b\b\b\b\b\b\b\b\b\b\b\b\b\b\b\b\b\b\b\b\b\b\b\b\b\b\b\b\b\b\b\b\b\b\b\b\b\b\b\b\b\b\b\b\b\r",
      "\u001b[1m607/607\u001b[0m \u001b[32m━━━━━━━━━━━━━━━━━━━━\u001b[0m\u001b[37m\u001b[0m \u001b[1m64s\u001b[0m 105ms/step - accuracy: 0.7843 - loss: 1.0528 - val_accuracy: 0.7317 - val_loss: 1.3344 - learning_rate: 2.5000e-05\n",
      "Epoch 35/100\n",
      "\u001b[1m607/607\u001b[0m \u001b[32m━━━━━━━━━━━━━━━━━━━━\u001b[0m\u001b[37m\u001b[0m \u001b[1m0s\u001b[0m 95ms/step - accuracy: 0.7834 - loss: 1.0213\n",
      "Epoch 35: val_loss did not improve from 1.33439\n",
      "\u001b[1m607/607\u001b[0m \u001b[32m━━━━━━━━━━━━━━━━━━━━\u001b[0m\u001b[37m\u001b[0m \u001b[1m63s\u001b[0m 104ms/step - accuracy: 0.7834 - loss: 1.0213 - val_accuracy: 0.7277 - val_loss: 1.3649 - learning_rate: 2.5000e-05\n",
      "Epoch 36/100\n",
      "\u001b[1m607/607\u001b[0m \u001b[32m━━━━━━━━━━━━━━━━━━━━\u001b[0m\u001b[37m\u001b[0m \u001b[1m0s\u001b[0m 95ms/step - accuracy: 0.7805 - loss: 1.0619\n",
      "Epoch 36: val_loss did not improve from 1.33439\n",
      "\u001b[1m607/607\u001b[0m \u001b[32m━━━━━━━━━━━━━━━━━━━━\u001b[0m\u001b[37m\u001b[0m \u001b[1m63s\u001b[0m 104ms/step - accuracy: 0.7805 - loss: 1.0619 - val_accuracy: 0.7382 - val_loss: 1.3424 - learning_rate: 2.5000e-05\n",
      "Epoch 37/100\n",
      "\u001b[1m607/607\u001b[0m \u001b[32m━━━━━━━━━━━━━━━━━━━━\u001b[0m\u001b[37m\u001b[0m \u001b[1m0s\u001b[0m 95ms/step - accuracy: 0.7931 - loss: 0.9998\n",
      "Epoch 37: val_loss did not improve from 1.33439\n",
      "\u001b[1m607/607\u001b[0m \u001b[32m━━━━━━━━━━━━━━━━━━━━\u001b[0m\u001b[37m\u001b[0m \u001b[1m63s\u001b[0m 103ms/step - accuracy: 0.7931 - loss: 0.9999 - val_accuracy: 0.7317 - val_loss: 1.3584 - learning_rate: 2.5000e-05\n",
      "Epoch 38/100\n",
      "\u001b[1m607/607\u001b[0m \u001b[32m━━━━━━━━━━━━━━━━━━━━\u001b[0m\u001b[37m\u001b[0m \u001b[1m0s\u001b[0m 95ms/step - accuracy: 0.7939 - loss: 1.0104\n",
      "Epoch 38: val_loss did not improve from 1.33439\n",
      "\u001b[1m607/607\u001b[0m \u001b[32m━━━━━━━━━━━━━━━━━━━━\u001b[0m\u001b[37m\u001b[0m \u001b[1m63s\u001b[0m 104ms/step - accuracy: 0.7939 - loss: 1.0104 - val_accuracy: 0.7356 - val_loss: 1.3395 - learning_rate: 2.5000e-05\n",
      "Epoch 39/100\n",
      "\u001b[1m607/607\u001b[0m \u001b[32m━━━━━━━━━━━━━━━━━━━━\u001b[0m\u001b[37m\u001b[0m \u001b[1m0s\u001b[0m 95ms/step - accuracy: 0.8006 - loss: 0.9880\n",
      "Epoch 39: val_loss did not improve from 1.33439\n",
      "\n",
      "Epoch 39: ReduceLROnPlateau reducing learning rate to 1.249999968422344e-05.\n",
      "\u001b[1m607/607\u001b[0m \u001b[32m━━━━━━━━━━━━━━━━━━━━\u001b[0m\u001b[37m\u001b[0m \u001b[1m63s\u001b[0m 104ms/step - accuracy: 0.8006 - loss: 0.9880 - val_accuracy: 0.7343 - val_loss: 1.3566 - learning_rate: 2.5000e-05\n",
      "Epoch 40/100\n",
      "\u001b[1m607/607\u001b[0m \u001b[32m━━━━━━━━━━━━━━━━━━━━\u001b[0m\u001b[37m\u001b[0m \u001b[1m0s\u001b[0m 95ms/step - accuracy: 0.7882 - loss: 1.0331\n",
      "Epoch 40: val_loss improved from 1.33439 to 1.32944, saving model to ResNet50_waste_classifier.h5\n"
     ]
    },
    {
     "name": "stderr",
     "output_type": "stream",
     "text": [
      "WARNING:absl:You are saving your model as an HDF5 file via `model.save()` or `keras.saving.save_model(model)`. This file format is considered legacy. We recommend using instead the native Keras format, e.g. `model.save('my_model.keras')` or `keras.saving.save_model(model, 'my_model.keras')`. \n"
     ]
    },
    {
     "name": "stdout",
     "output_type": "stream",
     "text": [
      "\b\b\b\b\b\b\b\b\b\b\b\b\b\b\b\b\b\b\b\b\b\b\b\b\b\b\b\b\b\b\b\b\b\b\b\b\b\b\b\b\b\b\b\b\b\b\b\b\b\b\b\b\b\b\b\b\b\b\b\b\b\b\b\b\b\b\b\b\b\b\b\b\b\b\b\r",
      "\u001b[1m607/607\u001b[0m \u001b[32m━━━━━━━━━━━━━━━━━━━━\u001b[0m\u001b[37m\u001b[0m \u001b[1m64s\u001b[0m 105ms/step - accuracy: 0.7882 - loss: 1.0331 - val_accuracy: 0.7382 - val_loss: 1.3294 - learning_rate: 1.2500e-05\n",
      "Epoch 41/100\n",
      "\u001b[1m607/607\u001b[0m \u001b[32m━━━━━━━━━━━━━━━━━━━━\u001b[0m\u001b[37m\u001b[0m \u001b[1m0s\u001b[0m 96ms/step - accuracy: 0.8202 - loss: 0.9424\n",
      "Epoch 41: val_loss did not improve from 1.32944\n",
      "\u001b[1m607/607\u001b[0m \u001b[32m━━━━━━━━━━━━━━━━━━━━\u001b[0m\u001b[37m\u001b[0m \u001b[1m63s\u001b[0m 105ms/step - accuracy: 0.8202 - loss: 0.9424 - val_accuracy: 0.7330 - val_loss: 1.3571 - learning_rate: 1.2500e-05\n",
      "Epoch 42/100\n",
      "\u001b[1m607/607\u001b[0m \u001b[32m━━━━━━━━━━━━━━━━━━━━\u001b[0m\u001b[37m\u001b[0m \u001b[1m0s\u001b[0m 95ms/step - accuracy: 0.7938 - loss: 1.0331\n",
      "Epoch 42: val_loss improved from 1.32944 to 1.32635, saving model to ResNet50_waste_classifier.h5\n"
     ]
    },
    {
     "name": "stderr",
     "output_type": "stream",
     "text": [
      "WARNING:absl:You are saving your model as an HDF5 file via `model.save()` or `keras.saving.save_model(model)`. This file format is considered legacy. We recommend using instead the native Keras format, e.g. `model.save('my_model.keras')` or `keras.saving.save_model(model, 'my_model.keras')`. \n"
     ]
    },
    {
     "name": "stdout",
     "output_type": "stream",
     "text": [
      "\b\b\b\b\b\b\b\b\b\b\b\b\b\b\b\b\b\b\b\b\b\b\b\b\b\b\b\b\b\b\b\b\b\b\b\b\b\b\b\b\b\b\b\b\b\b\b\b\b\b\b\b\b\b\b\b\b\b\b\b\b\b\b\b\b\b\b\b\b\b\b\b\b\b\b\r",
      "\u001b[1m607/607\u001b[0m \u001b[32m━━━━━━━━━━━━━━━━━━━━\u001b[0m\u001b[37m\u001b[0m \u001b[1m64s\u001b[0m 105ms/step - accuracy: 0.7938 - loss: 1.0331 - val_accuracy: 0.7291 - val_loss: 1.3264 - learning_rate: 1.2500e-05\n",
      "Epoch 43/100\n",
      "\u001b[1m607/607\u001b[0m \u001b[32m━━━━━━━━━━━━━━━━━━━━\u001b[0m\u001b[37m\u001b[0m \u001b[1m0s\u001b[0m 95ms/step - accuracy: 0.8133 - loss: 0.9711\n",
      "Epoch 43: val_loss improved from 1.32635 to 1.31653, saving model to ResNet50_waste_classifier.h5\n"
     ]
    },
    {
     "name": "stderr",
     "output_type": "stream",
     "text": [
      "WARNING:absl:You are saving your model as an HDF5 file via `model.save()` or `keras.saving.save_model(model)`. This file format is considered legacy. We recommend using instead the native Keras format, e.g. `model.save('my_model.keras')` or `keras.saving.save_model(model, 'my_model.keras')`. \n"
     ]
    },
    {
     "name": "stdout",
     "output_type": "stream",
     "text": [
      "\b\b\b\b\b\b\b\b\b\b\b\b\b\b\b\b\b\b\b\b\b\b\b\b\b\b\b\b\b\b\b\b\b\b\b\b\b\b\b\b\b\b\b\b\b\b\b\b\b\b\b\b\b\b\b\b\b\b\b\b\b\b\b\b\b\b\b\b\b\b\b\b\b\b\b\r",
      "\u001b[1m607/607\u001b[0m \u001b[32m━━━━━━━━━━━━━━━━━━━━\u001b[0m\u001b[37m\u001b[0m \u001b[1m64s\u001b[0m 105ms/step - accuracy: 0.8133 - loss: 0.9712 - val_accuracy: 0.7330 - val_loss: 1.3165 - learning_rate: 1.2500e-05\n",
      "Epoch 44/100\n",
      "\u001b[1m607/607\u001b[0m \u001b[32m━━━━━━━━━━━━━━━━━━━━\u001b[0m\u001b[37m\u001b[0m \u001b[1m0s\u001b[0m 95ms/step - accuracy: 0.8035 - loss: 0.9925\n",
      "Epoch 44: val_loss did not improve from 1.31653\n",
      "\u001b[1m607/607\u001b[0m \u001b[32m━━━━━━━━━━━━━━━━━━━━\u001b[0m\u001b[37m\u001b[0m \u001b[1m63s\u001b[0m 104ms/step - accuracy: 0.8035 - loss: 0.9925 - val_accuracy: 0.7330 - val_loss: 1.3280 - learning_rate: 1.2500e-05\n",
      "Epoch 45/100\n",
      "\u001b[1m607/607\u001b[0m \u001b[32m━━━━━━━━━━━━━━━━━━━━\u001b[0m\u001b[37m\u001b[0m \u001b[1m0s\u001b[0m 95ms/step - accuracy: 0.7924 - loss: 1.0101\n",
      "Epoch 45: val_loss did not improve from 1.31653\n",
      "\u001b[1m607/607\u001b[0m \u001b[32m━━━━━━━━━━━━━━━━━━━━\u001b[0m\u001b[37m\u001b[0m \u001b[1m63s\u001b[0m 104ms/step - accuracy: 0.7923 - loss: 1.0101 - val_accuracy: 0.7343 - val_loss: 1.3427 - learning_rate: 1.2500e-05\n",
      "Epoch 46/100\n",
      "\u001b[1m607/607\u001b[0m \u001b[32m━━━━━━━━━━━━━━━━━━━━\u001b[0m\u001b[37m\u001b[0m \u001b[1m0s\u001b[0m 96ms/step - accuracy: 0.8124 - loss: 0.9648\n",
      "Epoch 46: val_loss did not improve from 1.31653\n",
      "\u001b[1m607/607\u001b[0m \u001b[32m━━━━━━━━━━━━━━━━━━━━\u001b[0m\u001b[37m\u001b[0m \u001b[1m63s\u001b[0m 104ms/step - accuracy: 0.8124 - loss: 0.9648 - val_accuracy: 0.7330 - val_loss: 1.3216 - learning_rate: 1.2500e-05\n",
      "Epoch 47/100\n",
      "\u001b[1m607/607\u001b[0m \u001b[32m━━━━━━━━━━━━━━━━━━━━\u001b[0m\u001b[37m\u001b[0m \u001b[1m0s\u001b[0m 95ms/step - accuracy: 0.7994 - loss: 0.9662\n",
      "Epoch 47: val_loss did not improve from 1.31653\n",
      "\u001b[1m607/607\u001b[0m \u001b[32m━━━━━━━━━━━━━━━━━━━━\u001b[0m\u001b[37m\u001b[0m \u001b[1m63s\u001b[0m 104ms/step - accuracy: 0.7994 - loss: 0.9662 - val_accuracy: 0.7382 - val_loss: 1.3200 - learning_rate: 1.2500e-05\n",
      "Epoch 48/100\n",
      "\u001b[1m607/607\u001b[0m \u001b[32m━━━━━━━━━━━━━━━━━━━━\u001b[0m\u001b[37m\u001b[0m \u001b[1m0s\u001b[0m 95ms/step - accuracy: 0.8165 - loss: 0.9650\n",
      "Epoch 48: val_loss did not improve from 1.31653\n",
      "\n",
      "Epoch 48: ReduceLROnPlateau reducing learning rate to 1e-05.\n",
      "\u001b[1m607/607\u001b[0m \u001b[32m━━━━━━━━━━━━━━━━━━━━\u001b[0m\u001b[37m\u001b[0m \u001b[1m63s\u001b[0m 104ms/step - accuracy: 0.8165 - loss: 0.9650 - val_accuracy: 0.7343 - val_loss: 1.3239 - learning_rate: 1.2500e-05\n",
      "Epoch 49/100\n",
      "\u001b[1m607/607\u001b[0m \u001b[32m━━━━━━━━━━━━━━━━━━━━\u001b[0m\u001b[37m\u001b[0m \u001b[1m0s\u001b[0m 95ms/step - accuracy: 0.8139 - loss: 0.9549\n",
      "Epoch 49: val_loss did not improve from 1.31653\n",
      "\u001b[1m607/607\u001b[0m \u001b[32m━━━━━━━━━━━━━━━━━━━━\u001b[0m\u001b[37m\u001b[0m \u001b[1m63s\u001b[0m 104ms/step - accuracy: 0.8139 - loss: 0.9549 - val_accuracy: 0.7251 - val_loss: 1.3687 - learning_rate: 1.0000e-05\n",
      "Epoch 50/100\n",
      "\u001b[1m607/607\u001b[0m \u001b[32m━━━━━━━━━━━━━━━━━━━━\u001b[0m\u001b[37m\u001b[0m \u001b[1m0s\u001b[0m 95ms/step - accuracy: 0.8137 - loss: 0.9769\n",
      "Epoch 50: val_loss did not improve from 1.31653\n",
      "\u001b[1m607/607\u001b[0m \u001b[32m━━━━━━━━━━━━━━━━━━━━\u001b[0m\u001b[37m\u001b[0m \u001b[1m63s\u001b[0m 104ms/step - accuracy: 0.8137 - loss: 0.9769 - val_accuracy: 0.7369 - val_loss: 1.3288 - learning_rate: 1.0000e-05\n",
      "Epoch 51/100\n",
      "\u001b[1m607/607\u001b[0m \u001b[32m━━━━━━━━━━━━━━━━━━━━\u001b[0m\u001b[37m\u001b[0m \u001b[1m0s\u001b[0m 95ms/step - accuracy: 0.8212 - loss: 0.9472\n",
      "Epoch 51: val_loss did not improve from 1.31653\n",
      "\u001b[1m607/607\u001b[0m \u001b[32m━━━━━━━━━━━━━━━━━━━━\u001b[0m\u001b[37m\u001b[0m \u001b[1m63s\u001b[0m 104ms/step - accuracy: 0.8212 - loss: 0.9472 - val_accuracy: 0.7277 - val_loss: 1.3570 - learning_rate: 1.0000e-05\n",
      "Epoch 52/100\n",
      "\u001b[1m607/607\u001b[0m \u001b[32m━━━━━━━━━━━━━━━━━━━━\u001b[0m\u001b[37m\u001b[0m \u001b[1m0s\u001b[0m 95ms/step - accuracy: 0.8004 - loss: 0.9814\n",
      "Epoch 52: val_loss did not improve from 1.31653\n",
      "\u001b[1m607/607\u001b[0m \u001b[32m━━━━━━━━━━━━━━━━━━━━\u001b[0m\u001b[37m\u001b[0m \u001b[1m63s\u001b[0m 104ms/step - accuracy: 0.8004 - loss: 0.9814 - val_accuracy: 0.7330 - val_loss: 1.3488 - learning_rate: 1.0000e-05\n",
      "Epoch 53/100\n",
      "\u001b[1m607/607\u001b[0m \u001b[32m━━━━━━━━━━━━━━━━━━━━\u001b[0m\u001b[37m\u001b[0m \u001b[1m0s\u001b[0m 94ms/step - accuracy: 0.8155 - loss: 0.9748\n",
      "Epoch 53: val_loss did not improve from 1.31653\n",
      "\u001b[1m607/607\u001b[0m \u001b[32m━━━━━━━━━━━━━━━━━━━━\u001b[0m\u001b[37m\u001b[0m \u001b[1m63s\u001b[0m 103ms/step - accuracy: 0.8155 - loss: 0.9748 - val_accuracy: 0.7408 - val_loss: 1.3246 - learning_rate: 1.0000e-05\n",
      "Epoch 54/100\n",
      "\u001b[1m607/607\u001b[0m \u001b[32m━━━━━━━━━━━━━━━━━━━━\u001b[0m\u001b[37m\u001b[0m \u001b[1m0s\u001b[0m 95ms/step - accuracy: 0.7918 - loss: 0.9796\n",
      "Epoch 54: val_loss did not improve from 1.31653\n",
      "\u001b[1m607/607\u001b[0m \u001b[32m━━━━━━━━━━━━━━━━━━━━\u001b[0m\u001b[37m\u001b[0m \u001b[1m63s\u001b[0m 104ms/step - accuracy: 0.7918 - loss: 0.9796 - val_accuracy: 0.7382 - val_loss: 1.3306 - learning_rate: 1.0000e-05\n",
      "Epoch 55/100\n",
      "\u001b[1m607/607\u001b[0m \u001b[32m━━━━━━━━━━━━━━━━━━━━\u001b[0m\u001b[37m\u001b[0m \u001b[1m0s\u001b[0m 95ms/step - accuracy: 0.8052 - loss: 0.9419\n",
      "Epoch 55: val_loss did not improve from 1.31653\n",
      "\u001b[1m607/607\u001b[0m \u001b[32m━━━━━━━━━━━━━━━━━━━━\u001b[0m\u001b[37m\u001b[0m \u001b[1m63s\u001b[0m 104ms/step - accuracy: 0.8052 - loss: 0.9419 - val_accuracy: 0.7343 - val_loss: 1.3494 - learning_rate: 1.0000e-05\n",
      "Epoch 56/100\n",
      "\u001b[1m607/607\u001b[0m \u001b[32m━━━━━━━━━━━━━━━━━━━━\u001b[0m\u001b[37m\u001b[0m \u001b[1m0s\u001b[0m 94ms/step - accuracy: 0.7962 - loss: 1.0035\n",
      "Epoch 56: val_loss did not improve from 1.31653\n",
      "\u001b[1m607/607\u001b[0m \u001b[32m━━━━━━━━━━━━━━━━━━━━\u001b[0m\u001b[37m\u001b[0m \u001b[1m63s\u001b[0m 103ms/step - accuracy: 0.7962 - loss: 1.0034 - val_accuracy: 0.7317 - val_loss: 1.3355 - learning_rate: 1.0000e-05\n",
      "Epoch 57/100\n",
      "\u001b[1m607/607\u001b[0m \u001b[32m━━━━━━━━━━━━━━━━━━━━\u001b[0m\u001b[37m\u001b[0m \u001b[1m0s\u001b[0m 96ms/step - accuracy: 0.8102 - loss: 0.9736\n",
      "Epoch 57: val_loss did not improve from 1.31653\n",
      "\u001b[1m607/607\u001b[0m \u001b[32m━━━━━━━━━━━━━━━━━━━━\u001b[0m\u001b[37m\u001b[0m \u001b[1m63s\u001b[0m 104ms/step - accuracy: 0.8102 - loss: 0.9735 - val_accuracy: 0.7277 - val_loss: 1.3557 - learning_rate: 1.0000e-05\n",
      "Epoch 58/100\n",
      "\u001b[1m607/607\u001b[0m \u001b[32m━━━━━━━━━━━━━━━━━━━━\u001b[0m\u001b[37m\u001b[0m \u001b[1m0s\u001b[0m 95ms/step - accuracy: 0.8159 - loss: 0.9772\n",
      "Epoch 58: val_loss did not improve from 1.31653\n",
      "\u001b[1m607/607\u001b[0m \u001b[32m━━━━━━━━━━━━━━━━━━━━\u001b[0m\u001b[37m\u001b[0m \u001b[1m63s\u001b[0m 104ms/step - accuracy: 0.8159 - loss: 0.9772 - val_accuracy: 0.7343 - val_loss: 1.3517 - learning_rate: 1.0000e-05\n",
      "Epoch 59/100\n",
      "\u001b[1m607/607\u001b[0m \u001b[32m━━━━━━━━━━━━━━━━━━━━\u001b[0m\u001b[37m\u001b[0m \u001b[1m0s\u001b[0m 95ms/step - accuracy: 0.7983 - loss: 1.0032\n",
      "Epoch 59: val_loss did not improve from 1.31653\n",
      "\u001b[1m607/607\u001b[0m \u001b[32m━━━━━━━━━━━━━━━━━━━━\u001b[0m\u001b[37m\u001b[0m \u001b[1m63s\u001b[0m 104ms/step - accuracy: 0.7983 - loss: 1.0031 - val_accuracy: 0.7343 - val_loss: 1.3305 - learning_rate: 1.0000e-05\n",
      "Epoch 60/100\n",
      "\u001b[1m607/607\u001b[0m \u001b[32m━━━━━━━━━━━━━━━━━━━━\u001b[0m\u001b[37m\u001b[0m \u001b[1m0s\u001b[0m 96ms/step - accuracy: 0.8039 - loss: 0.9704\n",
      "Epoch 60: val_loss did not improve from 1.31653\n",
      "\u001b[1m607/607\u001b[0m \u001b[32m━━━━━━━━━━━━━━━━━━━━\u001b[0m\u001b[37m\u001b[0m \u001b[1m63s\u001b[0m 104ms/step - accuracy: 0.8039 - loss: 0.9704 - val_accuracy: 0.7277 - val_loss: 1.3356 - learning_rate: 1.0000e-05\n",
      "Epoch 61/100\n",
      "\u001b[1m607/607\u001b[0m \u001b[32m━━━━━━━━━━━━━━━━━━━━\u001b[0m\u001b[37m\u001b[0m \u001b[1m0s\u001b[0m 95ms/step - accuracy: 0.8164 - loss: 0.9454\n",
      "Epoch 61: val_loss did not improve from 1.31653\n",
      "\u001b[1m607/607\u001b[0m \u001b[32m━━━━━━━━━━━━━━━━━━━━\u001b[0m\u001b[37m\u001b[0m \u001b[1m63s\u001b[0m 104ms/step - accuracy: 0.8164 - loss: 0.9454 - val_accuracy: 0.7317 - val_loss: 1.3340 - learning_rate: 1.0000e-05\n",
      "Epoch 62/100\n",
      "\u001b[1m607/607\u001b[0m \u001b[32m━━━━━━━━━━━━━━━━━━━━\u001b[0m\u001b[37m\u001b[0m \u001b[1m0s\u001b[0m 95ms/step - accuracy: 0.8337 - loss: 0.9047\n",
      "Epoch 62: val_loss did not improve from 1.31653\n",
      "\u001b[1m607/607\u001b[0m \u001b[32m━━━━━━━━━━━━━━━━━━━━\u001b[0m\u001b[37m\u001b[0m \u001b[1m63s\u001b[0m 104ms/step - accuracy: 0.8337 - loss: 0.9047 - val_accuracy: 0.7277 - val_loss: 1.3421 - learning_rate: 1.0000e-05\n",
      "Epoch 63/100\n",
      "\u001b[1m607/607\u001b[0m \u001b[32m━━━━━━━━━━━━━━━━━━━━\u001b[0m\u001b[37m\u001b[0m \u001b[1m0s\u001b[0m 95ms/step - accuracy: 0.8087 - loss: 0.9497\n",
      "Epoch 63: val_loss did not improve from 1.31653\n",
      "\u001b[1m607/607\u001b[0m \u001b[32m━━━━━━━━━━━━━━━━━━━━\u001b[0m\u001b[37m\u001b[0m \u001b[1m63s\u001b[0m 104ms/step - accuracy: 0.8087 - loss: 0.9497 - val_accuracy: 0.7343 - val_loss: 1.3329 - learning_rate: 1.0000e-05\n",
      "Epoch 63: early stopping\n",
      "Restoring model weights from the end of the best epoch: 53.\n"
     ]
    }
   ],
   "source": [
    "# Train the model\n",
    "print(f\"Training {model_name} model with minimum 50 epochs...\")\n",
    "epochs = 100  # Train for 100 epochs with early stopping\n",
    "history = resnet50_model.fit(\n",
    "    train_gen,\n",
    "    validation_data=val_gen,\n",
    "    epochs=epochs,\n",
    "    callbacks=callbacks,\n",
    "    verbose=1\n",
    ")"
   ]
  },
  {
   "cell_type": "code",
   "execution_count": 27,
   "metadata": {
    "colab": {
     "base_uri": "https://localhost:8080/",
     "height": 460
    },
    "id": "7aYhEVkoXZNh",
    "outputId": "1b8f24e5-2668-469e-cf4d-b4080da4e929"
   },
   "outputs": [
    {
     "data": {
      "image/png": "[encoded data removed]",
      "text/plain": [
       "<Figure size 1200x500 with 2 Axes>"
      ]
     },
     "metadata": {},
     "output_type": "display_data"
    }
   ],
   "source": [
    "# Plot training history\n",
    "plt.figure(figsize=(12, 5))\n",
    "plt.subplot(1, 2, 1)\n",
    "plt.plot(history.history['loss'], label='Training Loss')\n",
    "plt.plot(history.history['val_loss'], label='Validation Loss')\n",
    "plt.title(f'{model_name} - Loss')\n",
    "plt.xlabel('Epoch')\n",
    "plt.ylabel('Loss')\n",
    "plt.legend()\n",
    "\n",
    "plt.subplot(1, 2, 2)\n",
    "plt.plot(history.history['accuracy'], label='Training Accuracy')\n",
    "plt.plot(history.history['val_accuracy'], label='Validation Accuracy')\n",
    "plt.title(f'{model_name} - Accuracy')\n",
    "plt.xlabel('Epoch')\n",
    "plt.ylabel('Accuracy')\n",
    "plt.legend()\n",
    "plt.tight_layout()\n",
    "plt.savefig(f'{model_name}_training_history.png')\n",
    "plt.show()\n"
   ]
  },
  {
   "cell_type": "code",
   "execution_count": 28,
   "metadata": {
    "colab": {
     "base_uri": "https://localhost:8080/"
    },
    "id": "ycWOPUV-XZBO",
    "outputId": "ba57bf06-07a5-47ec-948d-6d74df40ac62"
   },
   "outputs": [
    {
     "name": "stdout",
     "output_type": "stream",
     "text": [
      "\n",
      "Evaluating ResNet50 model...\n"
     ]
    }
   ],
   "source": [
    "# Plot learning rate if available\n",
    "if 'lr' in history.history:\n",
    "    plt.figure(figsize=(8, 3))\n",
    "    plt.plot(history.history['lr'])\n",
    "    plt.title('Learning Rate')\n",
    "    plt.xlabel('Epoch')\n",
    "    plt.ylabel('Learning Rate')\n",
    "    plt.yscale('log')\n",
    "    plt.savefig(f'{model_name}_learning_rate.png')\n",
    "    plt.show()\n",
    "\n",
    "# Evaluate the model\n",
    "print(f\"\\nEvaluating {model_name} model...\")\n",
    "train_metrics = evaluate_model(resnet50_model, train_gen, classes)\n",
    "val_metrics = evaluate_model(resnet50_model, val_gen, classes)\n",
    "test_metrics = evaluate_model(resnet50_model, test_gen, classes)"
   ]
  },
  {
   "cell_type": "code",
   "execution_count": 29,
   "metadata": {
    "colab": {
     "base_uri": "https://localhost:8080/"
    },
    "id": "Wz9O6rWWXY18",
    "outputId": "a338d2fd-b7cc-46df-829a-921c7daa2f3a"
   },
   "outputs": [
    {
     "name": "stdout",
     "output_type": "stream",
     "text": [
      "\n",
      "ResNet50 Results:\n",
      "Training - Accuracy: 0.9229, Precision: 0.9255, Recall: 0.9229, F1: 0.9221, AUC: 0.9966\n",
      "Validation - Accuracy: 0.7408, Precision: 0.7377, Recall: 0.7408, F1: 0.7327, AUC: 0.9576\n",
      "Test - Accuracy: 0.7453, Precision: 0.7535, Recall: 0.7453, F1: 0.7386, AUC: 0.9625\n",
      "ResNet50 model training and evaluation complete!\n"
     ]
    }
   ],
   "source": [
    "# Display metrics\n",
    "print(f\"\\n{model_name} Results:\")\n",
    "print(f\"Training - Accuracy: {train_metrics['accuracy']:.4f}, Precision: {train_metrics['precision']:.4f}, \"\n",
    "      f\"Recall: {train_metrics['recall']:.4f}, F1: {train_metrics['f1_score']:.4f}, AUC: {train_metrics['auc']:.4f}\")\n",
    "\n",
    "print(f\"Validation - Accuracy: {val_metrics['accuracy']:.4f}, Precision: {val_metrics['precision']:.4f}, \"\n",
    "      f\"Recall: {val_metrics['recall']:.4f}, F1: {val_metrics['f1_score']:.4f}, AUC: {val_metrics['auc']:.4f}\")\n",
    "\n",
    "print(f\"Test - Accuracy: {test_metrics['accuracy']:.4f}, Precision: {test_metrics['precision']:.4f}, \"\n",
    "      f\"Recall: {test_metrics['recall']:.4f}, F1: {test_metrics['f1_score']:.4f}, AUC: {test_metrics['auc']:.4f}\")\n",
    "\n",
    "# Save metrics to file\n",
    "with open(f'{model_name}_metrics.txt', 'w') as f:\n",
    "    f.write(f\"{model_name} Results:\\n\")\n",
    "    f.write(f\"Training - Accuracy: {train_metrics['accuracy']:.4f}, Precision: {train_metrics['precision']:.4f}, \"\n",
    "            f\"Recall: {train_metrics['recall']:.4f}, F1: {train_metrics['f1_score']:.4f}, AUC: {train_metrics['auc']:.4f}\\n\")\n",
    "    f.write(f\"Validation - Accuracy: {val_metrics['accuracy']:.4f}, Precision: {val_metrics['precision']:.4f}, \"\n",
    "            f\"Recall: {val_metrics['recall']:.4f}, F1: {val_metrics['f1_score']:.4f}, AUC: {val_metrics['auc']:.4f}\\n\")\n",
    "    f.write(f\"Test - Accuracy: {test_metrics['accuracy']:.4f}, Precision: {test_metrics['precision']:.4f}, \"\n",
    "            f\"Recall: {test_metrics['recall']:.4f}, F1: {test_metrics['f1_score']:.4f}, AUC: {test_metrics['auc']:.4f}\\n\")\n",
    "\n",
    "print(f\"{model_name} model training and evaluation complete!\")"
   ]
  },
  {
   "cell_type": "markdown",
   "metadata": {
    "id": "vbhZayVxy7K1"
   },
   "source": [
    "2. ResNet100 Model"
   ]
  },
  {
   "cell_type": "code",
   "execution_count": 46,
   "metadata": {
    "id": "7NCOmVhYc7gB"
   },
   "outputs": [],
   "source": [
    "# Import ResNet101\n",
    "from tensorflow.keras.applications import ResNet101\n",
    "\n",
    "def create_resnet101_classifier(input_shape, num_classes):\n",
    "    \"\"\"\n",
    "    Create a transfer learning model for waste classification using ResNet101\n",
    "    \"\"\"\n",
    "    # Initialize ResNet101 base model\n",
    "    base_model = ResNet101(weights='imagenet', include_top=False, input_shape=input_shape)\n",
    "\n",
    "    # Freeze all layers in the base model\n",
    "    for layer in base_model.layers:\n",
    "        layer.trainable = False\n",
    "\n",
    "    # Get the output from the base model\n",
    "    x = base_model.output\n",
    "\n",
    "    # Add custom classification head with regularization techniques\n",
    "    x = GlobalAveragePooling2D()(x)\n",
    "    x = BatchNormalization()(x)\n",
    "    x = Dense(256, activation='relu', kernel_regularizer=l2(0.001))(x)\n",
    "    x = BatchNormalization()(x)\n",
    "    x = Dropout(0.2)(x)  # 20% dropout rate as specified\n",
    "\n",
    "    # Final classification layer with softmax\n",
    "    predictions = Dense(num_classes, activation='softmax', kernel_regularizer=l2(0.001))(x)\n",
    "\n",
    "    # Create and compile the model with lower learning rate\n",
    "    model = Model(inputs=base_model.input, outputs=predictions)\n",
    "    model.compile(\n",
    "        optimizer=Adam(learning_rate=0.0001),  # Optimized lower learning rate\n",
    "        loss='categorical_crossentropy',\n",
    "        metrics=['accuracy']\n",
    "    )\n",
    "\n",
    "    return model"
   ]
  },
  {
   "cell_type": "code",
   "execution_count": 47,
   "metadata": {
    "colab": {
     "base_uri": "https://localhost:8080/"
    },
    "id": "7RjbIHYYc723",
    "outputId": "9036c0a1-1ec9-40fd-d7d4-d46cde2aa5f8"
   },
   "outputs": [
    {
     "name": "stdout",
     "output_type": "stream",
     "text": [
      "Downloading data from https://storage.googleapis.com/tensorflow/keras-applications/resnet/resnet101_weights_tf_dim_ordering_tf_kernels_notop.h5\n",
      "\u001b[1m171446536/171446536\u001b[0m \u001b[32m━━━━━━━━━━━━━━━━━━━━\u001b[0m\u001b[37m\u001b[0m \u001b[1m1s\u001b[0m 0us/step\n"
     ]
    }
   ],
   "source": [
    "# Set up model name and create it\n",
    "model_name = 'ResNet101'  # The assignment mentioned ResNet100, but the standard model is ResNet101\n",
    "input_shape = (*image_size, 3)\n",
    "resnet101_model = create_resnet101_classifier(input_shape, num_classes)\n",
    "\n",
    "# Set up callbacks for ResNet101 with the same DelayedEarlyStopping\n",
    "callbacks = [\n",
    "    DelayedEarlyStopping(\n",
    "        min_epochs=50,            # Start monitoring only after 50 epochs\n",
    "        monitor='val_loss',\n",
    "        patience=10,\n",
    "        verbose=1,\n",
    "        restore_best_weights=True\n",
    "    ),\n",
    "    ModelCheckpoint(\n",
    "        f'{model_name}_waste_classifier.h5',\n",
    "        monitor='val_loss',\n",
    "        save_best_only=True,\n",
    "        verbose=1\n",
    "    ),\n",
    "    # Add learning rate reduction\n",
    "    ReduceLROnPlateau(\n",
    "        monitor='val_loss',\n",
    "        factor=0.5,\n",
    "        patience=5,\n",
    "        min_lr=0.00001,\n",
    "        verbose=1\n",
    "    )\n",
    "]"
   ]
  },
  {
   "cell_type": "code",
   "execution_count": 48,
   "metadata": {
    "colab": {
     "base_uri": "https://localhost:8080/"
    },
    "id": "Im5q4gk3c8CW",
    "outputId": "e1a15a24-b581-4284-c968-341b85528d91"
   },
   "outputs": [
    {
     "name": "stdout",
     "output_type": "stream",
     "text": [
      "Training ResNet101 model with minimum 50 epochs...\n",
      "Epoch 1/100\n",
      "\u001b[1m607/607\u001b[0m \u001b[32m━━━━━━━━━━━━━━━━━━━━\u001b[0m\u001b[37m\u001b[0m \u001b[1m0s\u001b[0m 104ms/step - accuracy: 0.3170 - loss: 2.6118\n",
      "Epoch 1: val_loss improved from inf to 1.79320, saving model to ResNet101_waste_classifier.h5\n"
     ]
    },
    {
     "name": "stderr",
     "output_type": "stream",
     "text": [
      "WARNING:absl:You are saving your model as an HDF5 file via `model.save()` or `keras.saving.save_model(model)`. This file format is considered legacy. We recommend using instead the native Keras format, e.g. `model.save('my_model.keras')` or `keras.saving.save_model(model, 'my_model.keras')`. \n"
     ]
    },
    {
     "name": "stdout",
     "output_type": "stream",
     "text": [
      "\b\b\b\b\b\b\b\b\b\b\b\b\b\b\b\b\b\b\b\b\b\b\b\b\b\b\b\b\b\b\b\b\b\b\b\b\b\b\b\b\b\b\b\b\b\b\b\b\b\b\b\b\b\b\b\b\b\b\b\b\b\b\b\b\b\b\b\b\b\b\b\b\b\b\b\b\r",
      "\u001b[1m607/607\u001b[0m \u001b[32m━━━━━━━━━━━━━━━━━━━━\u001b[0m\u001b[37m\u001b[0m \u001b[1m98s\u001b[0m 130ms/step - accuracy: 0.3171 - loss: 2.6112 - val_accuracy: 0.5929 - val_loss: 1.7932 - learning_rate: 1.0000e-04\n",
      "Epoch 2/100\n",
      "\u001b[1m607/607\u001b[0m \u001b[32m━━━━━━━━━━━━━━━━━━━━\u001b[0m\u001b[37m\u001b[0m \u001b[1m0s\u001b[0m 97ms/step - accuracy: 0.5560 - loss: 1.8719\n",
      "Epoch 2: val_loss improved from 1.79320 to 1.60572, saving model to ResNet101_waste_classifier.h5\n"
     ]
    },
    {
     "name": "stderr",
     "output_type": "stream",
     "text": [
      "WARNING:absl:You are saving your model as an HDF5 file via `model.save()` or `keras.saving.save_model(model)`. This file format is considered legacy. We recommend using instead the native Keras format, e.g. `model.save('my_model.keras')` or `keras.saving.save_model(model, 'my_model.keras')`. \n"
     ]
    },
    {
     "name": "stdout",
     "output_type": "stream",
     "text": [
      "\b\b\b\b\b\b\b\b\b\b\b\b\b\b\b\b\b\b\b\b\b\b\b\b\b\b\b\b\b\b\b\b\b\b\b\b\b\b\b\b\b\b\b\b\b\b\b\b\b\b\b\b\b\b\b\b\b\b\b\b\b\b\b\b\b\b\b\b\b\b\b\b\b\b\b\r",
      "\u001b[1m607/607\u001b[0m \u001b[32m━━━━━━━━━━━━━━━━━━━━\u001b[0m\u001b[37m\u001b[0m \u001b[1m66s\u001b[0m 108ms/step - accuracy: 0.5560 - loss: 1.8718 - val_accuracy: 0.6492 - val_loss: 1.6057 - learning_rate: 1.0000e-04\n",
      "Epoch 3/100\n",
      "\u001b[1m607/607\u001b[0m \u001b[32m━━━━━━━━━━━━━━━━━━━━\u001b[0m\u001b[37m\u001b[0m \u001b[1m0s\u001b[0m 97ms/step - accuracy: 0.6132 - loss: 1.6348\n",
      "Epoch 3: val_loss improved from 1.60572 to 1.55019, saving model to ResNet101_waste_classifier.h5\n"
     ]
    },
    {
     "name": "stderr",
     "output_type": "stream",
     "text": [
      "WARNING:absl:You are saving your model as an HDF5 file via `model.save()` or `keras.saving.save_model(model)`. This file format is considered legacy. We recommend using instead the native Keras format, e.g. `model.save('my_model.keras')` or `keras.saving.save_model(model, 'my_model.keras')`. \n"
     ]
    },
    {
     "name": "stdout",
     "output_type": "stream",
     "text": [
      "\b\b\b\b\b\b\b\b\b\b\b\b\b\b\b\b\b\b\b\b\b\b\b\b\b\b\b\b\b\b\b\b\b\b\b\b\b\b\b\b\b\b\b\b\b\b\b\b\b\b\b\b\b\b\b\b\b\b\b\b\b\b\b\b\b\b\b\b\b\b\b\b\b\b\b\r",
      "\u001b[1m607/607\u001b[0m \u001b[32m━━━━━━━━━━━━━━━━━━━━\u001b[0m\u001b[37m\u001b[0m \u001b[1m65s\u001b[0m 107ms/step - accuracy: 0.6132 - loss: 1.6348 - val_accuracy: 0.6715 - val_loss: 1.5502 - learning_rate: 1.0000e-04\n",
      "Epoch 4/100\n",
      "\u001b[1m607/607\u001b[0m \u001b[32m━━━━━━━━━━━━━━━━━━━━\u001b[0m\u001b[37m\u001b[0m \u001b[1m0s\u001b[0m 97ms/step - accuracy: 0.6392 - loss: 1.5374\n",
      "Epoch 4: val_loss did not improve from 1.55019\n",
      "\u001b[1m607/607\u001b[0m \u001b[32m━━━━━━━━━━━━━━━━━━━━\u001b[0m\u001b[37m\u001b[0m \u001b[1m64s\u001b[0m 106ms/step - accuracy: 0.6392 - loss: 1.5374 - val_accuracy: 0.6584 - val_loss: 1.5674 - learning_rate: 1.0000e-04\n",
      "Epoch 5/100\n",
      "\u001b[1m607/607\u001b[0m \u001b[32m━━━━━━━━━━━━━━━━━━━━\u001b[0m\u001b[37m\u001b[0m \u001b[1m0s\u001b[0m 95ms/step - accuracy: 0.6373 - loss: 1.5108\n",
      "Epoch 5: val_loss improved from 1.55019 to 1.46986, saving model to ResNet101_waste_classifier.h5\n"
     ]
    },
    {
     "name": "stderr",
     "output_type": "stream",
     "text": [
      "WARNING:absl:You are saving your model as an HDF5 file via `model.save()` or `keras.saving.save_model(model)`. This file format is considered legacy. We recommend using instead the native Keras format, e.g. `model.save('my_model.keras')` or `keras.saving.save_model(model, 'my_model.keras')`. \n"
     ]
    },
    {
     "name": "stdout",
     "output_type": "stream",
     "text": [
      "\b\b\b\b\b\b\b\b\b\b\b\b\b\b\b\b\b\b\b\b\b\b\b\b\b\b\b\b\b\b\b\b\b\b\b\b\b\b\b\b\b\b\b\b\b\b\b\b\b\b\b\b\b\b\b\b\b\b\b\b\b\b\b\b\b\b\b\b\b\b\b\b\b\b\b\r",
      "\u001b[1m607/607\u001b[0m \u001b[32m━━━━━━━━━━━━━━━━━━━━\u001b[0m\u001b[37m\u001b[0m \u001b[1m64s\u001b[0m 106ms/step - accuracy: 0.6374 - loss: 1.5107 - val_accuracy: 0.6990 - val_loss: 1.4699 - learning_rate: 1.0000e-04\n",
      "Epoch 6/100\n",
      "\u001b[1m607/607\u001b[0m \u001b[32m━━━━━━━━━━━━━━━━━━━━\u001b[0m\u001b[37m\u001b[0m \u001b[1m0s\u001b[0m 97ms/step - accuracy: 0.6869 - loss: 1.3850\n",
      "Epoch 6: val_loss improved from 1.46986 to 1.42505, saving model to ResNet101_waste_classifier.h5\n"
     ]
    },
    {
     "name": "stderr",
     "output_type": "stream",
     "text": [
      "WARNING:absl:You are saving your model as an HDF5 file via `model.save()` or `keras.saving.save_model(model)`. This file format is considered legacy. We recommend using instead the native Keras format, e.g. `model.save('my_model.keras')` or `keras.saving.save_model(model, 'my_model.keras')`. \n"
     ]
    },
    {
     "name": "stdout",
     "output_type": "stream",
     "text": [
      "\b\b\b\b\b\b\b\b\b\b\b\b\b\b\b\b\b\b\b\b\b\b\b\b\b\b\b\b\b\b\b\b\b\b\b\b\b\b\b\b\b\b\b\b\b\b\b\b\b\b\b\b\b\b\b\b\b\b\b\b\b\b\b\b\b\b\b\b\b\b\b\b\b\b\b\r",
      "\u001b[1m607/607\u001b[0m \u001b[32m━━━━━━━━━━━━━━━━━━━━\u001b[0m\u001b[37m\u001b[0m \u001b[1m65s\u001b[0m 108ms/step - accuracy: 0.6869 - loss: 1.3851 - val_accuracy: 0.6950 - val_loss: 1.4250 - learning_rate: 1.0000e-04\n",
      "Epoch 7/100\n",
      "\u001b[1m607/607\u001b[0m \u001b[32m━━━━━━━━━━━━━━━━━━━━\u001b[0m\u001b[37m\u001b[0m \u001b[1m0s\u001b[0m 96ms/step - accuracy: 0.6883 - loss: 1.3934\n",
      "Epoch 7: val_loss improved from 1.42505 to 1.37679, saving model to ResNet101_waste_classifier.h5\n"
     ]
    },
    {
     "name": "stderr",
     "output_type": "stream",
     "text": [
      "WARNING:absl:You are saving your model as an HDF5 file via `model.save()` or `keras.saving.save_model(model)`. This file format is considered legacy. We recommend using instead the native Keras format, e.g. `model.save('my_model.keras')` or `keras.saving.save_model(model, 'my_model.keras')`. \n"
     ]
    },
    {
     "name": "stdout",
     "output_type": "stream",
     "text": [
      "\b\b\b\b\b\b\b\b\b\b\b\b\b\b\b\b\b\b\b\b\b\b\b\b\b\b\b\b\b\b\b\b\b\b\b\b\b\b\b\b\b\b\b\b\b\b\b\b\b\b\b\b\b\b\b\b\b\b\b\b\b\b\b\b\b\b\b\b\b\b\b\b\b\b\b\r",
      "\u001b[1m607/607\u001b[0m \u001b[32m━━━━━━━━━━━━━━━━━━━━\u001b[0m\u001b[37m\u001b[0m \u001b[1m65s\u001b[0m 107ms/step - accuracy: 0.6883 - loss: 1.3934 - val_accuracy: 0.7042 - val_loss: 1.3768 - learning_rate: 1.0000e-04\n",
      "Epoch 8/100\n",
      "\u001b[1m607/607\u001b[0m \u001b[32m━━━━━━━━━━━━━━━━━━━━\u001b[0m\u001b[37m\u001b[0m \u001b[1m0s\u001b[0m 96ms/step - accuracy: 0.7011 - loss: 1.3334\n",
      "Epoch 8: val_loss improved from 1.37679 to 1.33946, saving model to ResNet101_waste_classifier.h5\n"
     ]
    },
    {
     "name": "stderr",
     "output_type": "stream",
     "text": [
      "WARNING:absl:You are saving your model as an HDF5 file via `model.save()` or `keras.saving.save_model(model)`. This file format is considered legacy. We recommend using instead the native Keras format, e.g. `model.save('my_model.keras')` or `keras.saving.save_model(model, 'my_model.keras')`. \n"
     ]
    },
    {
     "name": "stdout",
     "output_type": "stream",
     "text": [
      "\b\b\b\b\b\b\b\b\b\b\b\b\b\b\b\b\b\b\b\b\b\b\b\b\b\b\b\b\b\b\b\b\b\b\b\b\b\b\b\b\b\b\b\b\b\b\b\b\b\b\b\b\b\b\b\b\b\b\b\b\b\b\b\b\b\b\b\b\b\b\b\b\b\b\b\r",
      "\u001b[1m607/607\u001b[0m \u001b[32m━━━━━━━━━━━━━━━━━━━━\u001b[0m\u001b[37m\u001b[0m \u001b[1m65s\u001b[0m 107ms/step - accuracy: 0.7011 - loss: 1.3334 - val_accuracy: 0.7225 - val_loss: 1.3395 - learning_rate: 1.0000e-04\n",
      "Epoch 9/100\n",
      "\u001b[1m607/607\u001b[0m \u001b[32m━━━━━━━━━━━━━━━━━━━━\u001b[0m\u001b[37m\u001b[0m \u001b[1m0s\u001b[0m 96ms/step - accuracy: 0.7267 - loss: 1.2675\n",
      "Epoch 9: val_loss did not improve from 1.33946\n",
      "\u001b[1m607/607\u001b[0m \u001b[32m━━━━━━━━━━━━━━━━━━━━\u001b[0m\u001b[37m\u001b[0m \u001b[1m64s\u001b[0m 105ms/step - accuracy: 0.7267 - loss: 1.2675 - val_accuracy: 0.7199 - val_loss: 1.3713 - learning_rate: 1.0000e-04\n",
      "Epoch 10/100\n",
      "\u001b[1m607/607\u001b[0m \u001b[32m━━━━━━━━━━━━━━━━━━━━\u001b[0m\u001b[37m\u001b[0m \u001b[1m0s\u001b[0m 96ms/step - accuracy: 0.7203 - loss: 1.2713\n",
      "Epoch 10: val_loss did not improve from 1.33946\n",
      "\u001b[1m607/607\u001b[0m \u001b[32m━━━━━━━━━━━━━━━━━━━━\u001b[0m\u001b[37m\u001b[0m \u001b[1m64s\u001b[0m 105ms/step - accuracy: 0.7202 - loss: 1.2713 - val_accuracy: 0.7238 - val_loss: 1.3403 - learning_rate: 1.0000e-04\n",
      "Epoch 11/100\n",
      "\u001b[1m607/607\u001b[0m \u001b[32m━━━━━━━━━━━━━━━━━━━━\u001b[0m\u001b[37m\u001b[0m \u001b[1m0s\u001b[0m 96ms/step - accuracy: 0.7524 - loss: 1.2019\n",
      "Epoch 11: val_loss did not improve from 1.33946\n",
      "\u001b[1m607/607\u001b[0m \u001b[32m━━━━━━━━━━━━━━━━━━━━\u001b[0m\u001b[37m\u001b[0m \u001b[1m64s\u001b[0m 105ms/step - accuracy: 0.7524 - loss: 1.2019 - val_accuracy: 0.7173 - val_loss: 1.3632 - learning_rate: 1.0000e-04\n",
      "Epoch 12/100\n",
      "\u001b[1m607/607\u001b[0m \u001b[32m━━━━━━━━━━━━━━━━━━━━\u001b[0m\u001b[37m\u001b[0m \u001b[1m0s\u001b[0m 96ms/step - accuracy: 0.7281 - loss: 1.2206\n",
      "Epoch 12: val_loss improved from 1.33946 to 1.32096, saving model to ResNet101_waste_classifier.h5\n"
     ]
    },
    {
     "name": "stderr",
     "output_type": "stream",
     "text": [
      "WARNING:absl:You are saving your model as an HDF5 file via `model.save()` or `keras.saving.save_model(model)`. This file format is considered legacy. We recommend using instead the native Keras format, e.g. `model.save('my_model.keras')` or `keras.saving.save_model(model, 'my_model.keras')`. \n"
     ]
    },
    {
     "name": "stdout",
     "output_type": "stream",
     "text": [
      "\b\b\b\b\b\b\b\b\b\b\b\b\b\b\b\b\b\b\b\b\b\b\b\b\b\b\b\b\b\b\b\b\b\b\b\b\b\b\b\b\b\b\b\b\b\b\b\b\b\b\b\b\b\b\b\b\b\b\b\b\b\b\b\b\b\b\b\b\b\b\b\b\b\b\b\r",
      "\u001b[1m607/607\u001b[0m \u001b[32m━━━━━━━━━━━━━━━━━━━━\u001b[0m\u001b[37m\u001b[0m \u001b[1m64s\u001b[0m 106ms/step - accuracy: 0.7281 - loss: 1.2206 - val_accuracy: 0.7134 - val_loss: 1.3210 - learning_rate: 1.0000e-04\n",
      "Epoch 13/100\n",
      "\u001b[1m607/607\u001b[0m \u001b[32m━━━━━━━━━━━━━━━━━━━━\u001b[0m\u001b[37m\u001b[0m \u001b[1m0s\u001b[0m 96ms/step - accuracy: 0.7214 - loss: 1.2205\n",
      "Epoch 13: val_loss did not improve from 1.32096\n",
      "\u001b[1m607/607\u001b[0m \u001b[32m━━━━━━━━━━━━━━━━━━━━\u001b[0m\u001b[37m\u001b[0m \u001b[1m64s\u001b[0m 105ms/step - accuracy: 0.7214 - loss: 1.2205 - val_accuracy: 0.7160 - val_loss: 1.3531 - learning_rate: 1.0000e-04\n",
      "Epoch 14/100\n",
      "\u001b[1m607/607\u001b[0m \u001b[32m━━━━━━━━━━━━━━━━━━━━\u001b[0m\u001b[37m\u001b[0m \u001b[1m0s\u001b[0m 96ms/step - accuracy: 0.7552 - loss: 1.1462\n",
      "Epoch 14: val_loss did not improve from 1.32096\n",
      "\u001b[1m607/607\u001b[0m \u001b[32m━━━━━━━━━━━━━━━━━━━━\u001b[0m\u001b[37m\u001b[0m \u001b[1m64s\u001b[0m 105ms/step - accuracy: 0.7552 - loss: 1.1462 - val_accuracy: 0.7081 - val_loss: 1.3466 - learning_rate: 1.0000e-04\n",
      "Epoch 15/100\n",
      "\u001b[1m607/607\u001b[0m \u001b[32m━━━━━━━━━━━━━━━━━━━━\u001b[0m\u001b[37m\u001b[0m \u001b[1m0s\u001b[0m 95ms/step - accuracy: 0.7661 - loss: 1.1528\n",
      "Epoch 15: val_loss improved from 1.32096 to 1.32024, saving model to ResNet101_waste_classifier.h5\n"
     ]
    },
    {
     "name": "stderr",
     "output_type": "stream",
     "text": [
      "WARNING:absl:You are saving your model as an HDF5 file via `model.save()` or `keras.saving.save_model(model)`. This file format is considered legacy. We recommend using instead the native Keras format, e.g. `model.save('my_model.keras')` or `keras.saving.save_model(model, 'my_model.keras')`. \n"
     ]
    },
    {
     "name": "stdout",
     "output_type": "stream",
     "text": [
      "\b\b\b\b\b\b\b\b\b\b\b\b\b\b\b\b\b\b\b\b\b\b\b\b\b\b\b\b\b\b\b\b\b\b\b\b\b\b\b\b\b\b\b\b\b\b\b\b\b\b\b\b\b\b\b\b\b\b\b\b\b\b\b\b\b\b\b\b\b\b\b\b\b\b\b\r",
      "\u001b[1m607/607\u001b[0m \u001b[32m━━━━━━━━━━━━━━━━━━━━\u001b[0m\u001b[37m\u001b[0m \u001b[1m64s\u001b[0m 106ms/step - accuracy: 0.7661 - loss: 1.1528 - val_accuracy: 0.7147 - val_loss: 1.3202 - learning_rate: 1.0000e-04\n",
      "Epoch 16/100\n",
      "\u001b[1m607/607\u001b[0m \u001b[32m━━━━━━━━━━━━━━━━━━━━\u001b[0m\u001b[37m\u001b[0m \u001b[1m0s\u001b[0m 97ms/step - accuracy: 0.7597 - loss: 1.1705\n",
      "Epoch 16: val_loss improved from 1.32024 to 1.29836, saving model to ResNet101_waste_classifier.h5\n"
     ]
    },
    {
     "name": "stderr",
     "output_type": "stream",
     "text": [
      "WARNING:absl:You are saving your model as an HDF5 file via `model.save()` or `keras.saving.save_model(model)`. This file format is considered legacy. We recommend using instead the native Keras format, e.g. `model.save('my_model.keras')` or `keras.saving.save_model(model, 'my_model.keras')`. \n"
     ]
    },
    {
     "name": "stdout",
     "output_type": "stream",
     "text": [
      "\b\b\b\b\b\b\b\b\b\b\b\b\b\b\b\b\b\b\b\b\b\b\b\b\b\b\b\b\b\b\b\b\b\b\b\b\b\b\b\b\b\b\b\b\b\b\b\b\b\b\b\b\b\b\b\b\b\b\b\b\b\b\b\b\b\b\b\b\b\b\b\b\b\b\b\r",
      "\u001b[1m607/607\u001b[0m \u001b[32m━━━━━━━━━━━━━━━━━━━━\u001b[0m\u001b[37m\u001b[0m \u001b[1m65s\u001b[0m 108ms/step - accuracy: 0.7597 - loss: 1.1705 - val_accuracy: 0.7317 - val_loss: 1.2984 - learning_rate: 1.0000e-04\n",
      "Epoch 17/100\n",
      "\u001b[1m607/607\u001b[0m \u001b[32m━━━━━━━━━━━━━━━━━━━━\u001b[0m\u001b[37m\u001b[0m \u001b[1m0s\u001b[0m 96ms/step - accuracy: 0.7615 - loss: 1.1063\n",
      "Epoch 17: val_loss improved from 1.29836 to 1.24124, saving model to ResNet101_waste_classifier.h5\n"
     ]
    },
    {
     "name": "stderr",
     "output_type": "stream",
     "text": [
      "WARNING:absl:You are saving your model as an HDF5 file via `model.save()` or `keras.saving.save_model(model)`. This file format is considered legacy. We recommend using instead the native Keras format, e.g. `model.save('my_model.keras')` or `keras.saving.save_model(model, 'my_model.keras')`. \n"
     ]
    },
    {
     "name": "stdout",
     "output_type": "stream",
     "text": [
      "\b\b\b\b\b\b\b\b\b\b\b\b\b\b\b\b\b\b\b\b\b\b\b\b\b\b\b\b\b\b\b\b\b\b\b\b\b\b\b\b\b\b\b\b\b\b\b\b\b\b\b\b\b\b\b\b\b\b\b\b\b\b\b\b\b\b\b\b\b\b\b\b\b\b\b\r",
      "\u001b[1m607/607\u001b[0m \u001b[32m━━━━━━━━━━━━━━━━━━━━\u001b[0m\u001b[37m\u001b[0m \u001b[1m65s\u001b[0m 107ms/step - accuracy: 0.7615 - loss: 1.1063 - val_accuracy: 0.7382 - val_loss: 1.2412 - learning_rate: 1.0000e-04\n",
      "Epoch 18/100\n",
      "\u001b[1m607/607\u001b[0m \u001b[32m━━━━━━━━━━━━━━━━━━━━\u001b[0m\u001b[37m\u001b[0m \u001b[1m0s\u001b[0m 97ms/step - accuracy: 0.7711 - loss: 1.0953\n",
      "Epoch 18: val_loss improved from 1.24124 to 1.23989, saving model to ResNet101_waste_classifier.h5\n"
     ]
    },
    {
     "name": "stderr",
     "output_type": "stream",
     "text": [
      "WARNING:absl:You are saving your model as an HDF5 file via `model.save()` or `keras.saving.save_model(model)`. This file format is considered legacy. We recommend using instead the native Keras format, e.g. `model.save('my_model.keras')` or `keras.saving.save_model(model, 'my_model.keras')`. \n"
     ]
    },
    {
     "name": "stdout",
     "output_type": "stream",
     "text": [
      "\b\b\b\b\b\b\b\b\b\b\b\b\b\b\b\b\b\b\b\b\b\b\b\b\b\b\b\b\b\b\b\b\b\b\b\b\b\b\b\b\b\b\b\b\b\b\b\b\b\b\b\b\b\b\b\b\b\b\b\b\b\b\b\b\b\b\b\b\b\b\b\b\b\b\b\r",
      "\u001b[1m607/607\u001b[0m \u001b[32m━━━━━━━━━━━━━━━━━━━━\u001b[0m\u001b[37m\u001b[0m \u001b[1m65s\u001b[0m 107ms/step - accuracy: 0.7711 - loss: 1.0953 - val_accuracy: 0.7330 - val_loss: 1.2399 - learning_rate: 1.0000e-04\n",
      "Epoch 19/100\n",
      "\u001b[1m607/607\u001b[0m \u001b[32m━━━━━━━━━━━━━━━━━━━━\u001b[0m\u001b[37m\u001b[0m \u001b[1m0s\u001b[0m 96ms/step - accuracy: 0.7710 - loss: 1.0601\n",
      "Epoch 19: val_loss did not improve from 1.23989\n",
      "\u001b[1m607/607\u001b[0m \u001b[32m━━━━━━━━━━━━━━━━━━━━\u001b[0m\u001b[37m\u001b[0m \u001b[1m64s\u001b[0m 105ms/step - accuracy: 0.7710 - loss: 1.0601 - val_accuracy: 0.7421 - val_loss: 1.2499 - learning_rate: 1.0000e-04\n",
      "Epoch 20/100\n",
      "\u001b[1m607/607\u001b[0m \u001b[32m━━━━━━━━━━━━━━━━━━━━\u001b[0m\u001b[37m\u001b[0m \u001b[1m0s\u001b[0m 95ms/step - accuracy: 0.7907 - loss: 1.0794\n",
      "Epoch 20: val_loss improved from 1.23989 to 1.22848, saving model to ResNet101_waste_classifier.h5\n"
     ]
    },
    {
     "name": "stderr",
     "output_type": "stream",
     "text": [
      "WARNING:absl:You are saving your model as an HDF5 file via `model.save()` or `keras.saving.save_model(model)`. This file format is considered legacy. We recommend using instead the native Keras format, e.g. `model.save('my_model.keras')` or `keras.saving.save_model(model, 'my_model.keras')`. \n"
     ]
    },
    {
     "name": "stdout",
     "output_type": "stream",
     "text": [
      "\b\b\b\b\b\b\b\b\b\b\b\b\b\b\b\b\b\b\b\b\b\b\b\b\b\b\b\b\b\b\b\b\b\b\b\b\b\b\b\b\b\b\b\b\b\b\b\b\b\b\b\b\b\b\b\b\b\b\b\b\b\b\b\b\b\b\b\b\b\b\b\b\b\b\b\r",
      "\u001b[1m607/607\u001b[0m \u001b[32m━━━━━━━━━━━━━━━━━━━━\u001b[0m\u001b[37m\u001b[0m \u001b[1m64s\u001b[0m 106ms/step - accuracy: 0.7907 - loss: 1.0794 - val_accuracy: 0.7421 - val_loss: 1.2285 - learning_rate: 1.0000e-04\n",
      "Epoch 21/100\n",
      "\u001b[1m607/607\u001b[0m \u001b[32m━━━━━━━━━━━━━━━━━━━━\u001b[0m\u001b[37m\u001b[0m \u001b[1m0s\u001b[0m 97ms/step - accuracy: 0.7715 - loss: 1.0708\n",
      "Epoch 21: val_loss did not improve from 1.22848\n",
      "\u001b[1m607/607\u001b[0m \u001b[32m━━━━━━━━━━━━━━━━━━━━\u001b[0m\u001b[37m\u001b[0m \u001b[1m64s\u001b[0m 106ms/step - accuracy: 0.7715 - loss: 1.0708 - val_accuracy: 0.7225 - val_loss: 1.2401 - learning_rate: 1.0000e-04\n",
      "Epoch 22/100\n",
      "\u001b[1m607/607\u001b[0m \u001b[32m━━━━━━━━━━━━━━━━━━━━\u001b[0m\u001b[37m\u001b[0m \u001b[1m0s\u001b[0m 95ms/step - accuracy: 0.7842 - loss: 1.0541\n",
      "Epoch 22: val_loss improved from 1.22848 to 1.20568, saving model to ResNet101_waste_classifier.h5\n"
     ]
    },
    {
     "name": "stderr",
     "output_type": "stream",
     "text": [
      "WARNING:absl:You are saving your model as an HDF5 file via `model.save()` or `keras.saving.save_model(model)`. This file format is considered legacy. We recommend using instead the native Keras format, e.g. `model.save('my_model.keras')` or `keras.saving.save_model(model, 'my_model.keras')`. \n"
     ]
    },
    {
     "name": "stdout",
     "output_type": "stream",
     "text": [
      "\b\b\b\b\b\b\b\b\b\b\b\b\b\b\b\b\b\b\b\b\b\b\b\b\b\b\b\b\b\b\b\b\b\b\b\b\b\b\b\b\b\b\b\b\b\b\b\b\b\b\b\b\b\b\b\b\b\b\b\b\b\b\b\b\b\b\b\b\b\b\b\b\b\b\b\r",
      "\u001b[1m607/607\u001b[0m \u001b[32m━━━━━━━━━━━━━━━━━━━━\u001b[0m\u001b[37m\u001b[0m \u001b[1m64s\u001b[0m 106ms/step - accuracy: 0.7842 - loss: 1.0541 - val_accuracy: 0.7461 - val_loss: 1.2057 - learning_rate: 1.0000e-04\n",
      "Epoch 23/100\n",
      "\u001b[1m607/607\u001b[0m \u001b[32m━━━━━━━━━━━━━━━━━━━━\u001b[0m\u001b[37m\u001b[0m \u001b[1m0s\u001b[0m 97ms/step - accuracy: 0.7813 - loss: 1.0406\n",
      "Epoch 23: val_loss did not improve from 1.20568\n",
      "\u001b[1m607/607\u001b[0m \u001b[32m━━━━━━━━━━━━━━━━━━━━\u001b[0m\u001b[37m\u001b[0m \u001b[1m64s\u001b[0m 106ms/step - accuracy: 0.7813 - loss: 1.0406 - val_accuracy: 0.7330 - val_loss: 1.2757 - learning_rate: 1.0000e-04\n",
      "Epoch 24/100\n",
      "\u001b[1m607/607\u001b[0m \u001b[32m━━━━━━━━━━━━━━━━━━━━\u001b[0m\u001b[37m\u001b[0m \u001b[1m0s\u001b[0m 95ms/step - accuracy: 0.8009 - loss: 1.0159\n",
      "Epoch 24: val_loss did not improve from 1.20568\n",
      "\u001b[1m607/607\u001b[0m \u001b[32m━━━━━━━━━━━━━━━━━━━━\u001b[0m\u001b[37m\u001b[0m \u001b[1m64s\u001b[0m 105ms/step - accuracy: 0.8009 - loss: 1.0160 - val_accuracy: 0.7474 - val_loss: 1.2180 - learning_rate: 1.0000e-04\n",
      "Epoch 25/100\n",
      "\u001b[1m607/607\u001b[0m \u001b[32m━━━━━━━━━━━━━━━━━━━━\u001b[0m\u001b[37m\u001b[0m \u001b[1m0s\u001b[0m 96ms/step - accuracy: 0.8002 - loss: 1.0099\n",
      "Epoch 25: val_loss did not improve from 1.20568\n",
      "\u001b[1m607/607\u001b[0m \u001b[32m━━━━━━━━━━━━━━━━━━━━\u001b[0m\u001b[37m\u001b[0m \u001b[1m63s\u001b[0m 104ms/step - accuracy: 0.8002 - loss: 1.0099 - val_accuracy: 0.7565 - val_loss: 1.2244 - learning_rate: 1.0000e-04\n",
      "Epoch 26/100\n",
      "\u001b[1m607/607\u001b[0m \u001b[32m━━━━━━━━━━━━━━━━━━━━\u001b[0m\u001b[37m\u001b[0m \u001b[1m0s\u001b[0m 95ms/step - accuracy: 0.8144 - loss: 0.9695\n",
      "Epoch 26: val_loss did not improve from 1.20568\n",
      "\u001b[1m607/607\u001b[0m \u001b[32m━━━━━━━━━━━━━━━━━━━━\u001b[0m\u001b[37m\u001b[0m \u001b[1m64s\u001b[0m 105ms/step - accuracy: 0.8144 - loss: 0.9695 - val_accuracy: 0.7474 - val_loss: 1.2210 - learning_rate: 1.0000e-04\n",
      "Epoch 27/100\n",
      "\u001b[1m607/607\u001b[0m \u001b[32m━━━━━━━━━━━━━━━━━━━━\u001b[0m\u001b[37m\u001b[0m \u001b[1m0s\u001b[0m 96ms/step - accuracy: 0.8015 - loss: 0.9681\n",
      "Epoch 27: val_loss improved from 1.20568 to 1.16215, saving model to ResNet101_waste_classifier.h5\n"
     ]
    },
    {
     "name": "stderr",
     "output_type": "stream",
     "text": [
      "WARNING:absl:You are saving your model as an HDF5 file via `model.save()` or `keras.saving.save_model(model)`. This file format is considered legacy. We recommend using instead the native Keras format, e.g. `model.save('my_model.keras')` or `keras.saving.save_model(model, 'my_model.keras')`. \n"
     ]
    },
    {
     "name": "stdout",
     "output_type": "stream",
     "text": [
      "\b\b\b\b\b\b\b\b\b\b\b\b\b\b\b\b\b\b\b\b\b\b\b\b\b\b\b\b\b\b\b\b\b\b\b\b\b\b\b\b\b\b\b\b\b\b\b\b\b\b\b\b\b\b\b\b\b\b\b\b\b\b\b\b\b\b\b\b\b\b\b\b\b\b\b\r",
      "\u001b[1m607/607\u001b[0m \u001b[32m━━━━━━━━━━━━━━━━━━━━\u001b[0m\u001b[37m\u001b[0m \u001b[1m65s\u001b[0m 106ms/step - accuracy: 0.8015 - loss: 0.9681 - val_accuracy: 0.7723 - val_loss: 1.1622 - learning_rate: 1.0000e-04\n",
      "Epoch 28/100\n",
      "\u001b[1m607/607\u001b[0m \u001b[32m━━━━━━━━━━━━━━━━━━━━\u001b[0m\u001b[37m\u001b[0m \u001b[1m0s\u001b[0m 96ms/step - accuracy: 0.7992 - loss: 1.0226\n",
      "Epoch 28: val_loss did not improve from 1.16215\n",
      "\u001b[1m607/607\u001b[0m \u001b[32m━━━━━━━━━━━━━━━━━━━━\u001b[0m\u001b[37m\u001b[0m \u001b[1m64s\u001b[0m 106ms/step - accuracy: 0.7992 - loss: 1.0226 - val_accuracy: 0.7618 - val_loss: 1.1743 - learning_rate: 1.0000e-04\n",
      "Epoch 29/100\n",
      "\u001b[1m607/607\u001b[0m \u001b[32m━━━━━━━━━━━━━━━━━━━━\u001b[0m\u001b[37m\u001b[0m \u001b[1m0s\u001b[0m 96ms/step - accuracy: 0.8092 - loss: 0.9754\n",
      "Epoch 29: val_loss did not improve from 1.16215\n",
      "\u001b[1m607/607\u001b[0m \u001b[32m━━━━━━━━━━━━━━━━━━━━\u001b[0m\u001b[37m\u001b[0m \u001b[1m64s\u001b[0m 105ms/step - accuracy: 0.8092 - loss: 0.9754 - val_accuracy: 0.7592 - val_loss: 1.1905 - learning_rate: 1.0000e-04\n",
      "Epoch 30/100\n",
      "\u001b[1m607/607\u001b[0m \u001b[32m━━━━━━━━━━━━━━━━━━━━\u001b[0m\u001b[37m\u001b[0m \u001b[1m0s\u001b[0m 96ms/step - accuracy: 0.8155 - loss: 0.9418\n",
      "Epoch 30: val_loss did not improve from 1.16215\n",
      "\u001b[1m607/607\u001b[0m \u001b[32m━━━━━━━━━━━━━━━━━━━━\u001b[0m\u001b[37m\u001b[0m \u001b[1m64s\u001b[0m 105ms/step - accuracy: 0.8155 - loss: 0.9418 - val_accuracy: 0.7539 - val_loss: 1.1960 - learning_rate: 1.0000e-04\n",
      "Epoch 31/100\n",
      "\u001b[1m607/607\u001b[0m \u001b[32m━━━━━━━━━━━━━━━━━━━━\u001b[0m\u001b[37m\u001b[0m \u001b[1m0s\u001b[0m 96ms/step - accuracy: 0.8150 - loss: 0.9616\n",
      "Epoch 31: val_loss did not improve from 1.16215\n",
      "\u001b[1m607/607\u001b[0m \u001b[32m━━━━━━━━━━━━━━━━━━━━\u001b[0m\u001b[37m\u001b[0m \u001b[1m64s\u001b[0m 105ms/step - accuracy: 0.8150 - loss: 0.9616 - val_accuracy: 0.7539 - val_loss: 1.2140 - learning_rate: 1.0000e-04\n",
      "Epoch 32/100\n",
      "\u001b[1m607/607\u001b[0m \u001b[32m━━━━━━━━━━━━━━━━━━━━\u001b[0m\u001b[37m\u001b[0m \u001b[1m0s\u001b[0m 96ms/step - accuracy: 0.7891 - loss: 0.9809\n",
      "Epoch 32: val_loss did not improve from 1.16215\n",
      "\n",
      "Epoch 32: ReduceLROnPlateau reducing learning rate to 4.999999873689376e-05.\n",
      "\u001b[1m607/607\u001b[0m \u001b[32m━━━━━━━━━━━━━━━━━━━━\u001b[0m\u001b[37m\u001b[0m \u001b[1m64s\u001b[0m 105ms/step - accuracy: 0.7891 - loss: 0.9809 - val_accuracy: 0.7435 - val_loss: 1.1871 - learning_rate: 1.0000e-04\n",
      "Epoch 33/100\n",
      "\u001b[1m607/607\u001b[0m \u001b[32m━━━━━━━━━━━━━━━━━━━━\u001b[0m\u001b[37m\u001b[0m \u001b[1m0s\u001b[0m 95ms/step - accuracy: 0.8199 - loss: 0.9332\n",
      "Epoch 33: val_loss improved from 1.16215 to 1.15472, saving model to ResNet101_waste_classifier.h5\n"
     ]
    },
    {
     "name": "stderr",
     "output_type": "stream",
     "text": [
      "WARNING:absl:You are saving your model as an HDF5 file via `model.save()` or `keras.saving.save_model(model)`. This file format is considered legacy. We recommend using instead the native Keras format, e.g. `model.save('my_model.keras')` or `keras.saving.save_model(model, 'my_model.keras')`. \n"
     ]
    },
    {
     "name": "stdout",
     "output_type": "stream",
     "text": [
      "\b\b\b\b\b\b\b\b\b\b\b\b\b\b\b\b\b\b\b\b\b\b\b\b\b\b\b\b\b\b\b\b\b\b\b\b\b\b\b\b\b\b\b\b\b\b\b\b\b\b\b\b\b\b\b\b\b\b\b\b\b\b\b\b\b\b\b\b\b\b\b\b\b\b\b\r",
      "\u001b[1m607/607\u001b[0m \u001b[32m━━━━━━━━━━━━━━━━━━━━\u001b[0m\u001b[37m\u001b[0m \u001b[1m64s\u001b[0m 106ms/step - accuracy: 0.8199 - loss: 0.9332 - val_accuracy: 0.7500 - val_loss: 1.1547 - learning_rate: 5.0000e-05\n",
      "Epoch 34/100\n",
      "\u001b[1m607/607\u001b[0m \u001b[32m━━━━━━━━━━━━━━━━━━━━\u001b[0m\u001b[37m\u001b[0m \u001b[1m0s\u001b[0m 97ms/step - accuracy: 0.8174 - loss: 0.9213\n",
      "Epoch 34: val_loss did not improve from 1.15472\n",
      "\u001b[1m607/607\u001b[0m \u001b[32m━━━━━━━━━━━━━━━━━━━━\u001b[0m\u001b[37m\u001b[0m \u001b[1m64s\u001b[0m 106ms/step - accuracy: 0.8174 - loss: 0.9213 - val_accuracy: 0.7421 - val_loss: 1.1758 - learning_rate: 5.0000e-05\n",
      "Epoch 35/100\n",
      "\u001b[1m607/607\u001b[0m \u001b[32m━━━━━━━━━━━━━━━━━━━━\u001b[0m\u001b[37m\u001b[0m \u001b[1m0s\u001b[0m 97ms/step - accuracy: 0.8092 - loss: 0.9287\n",
      "Epoch 35: val_loss improved from 1.15472 to 1.14851, saving model to ResNet101_waste_classifier.h5\n"
     ]
    },
    {
     "name": "stderr",
     "output_type": "stream",
     "text": [
      "WARNING:absl:You are saving your model as an HDF5 file via `model.save()` or `keras.saving.save_model(model)`. This file format is considered legacy. We recommend using instead the native Keras format, e.g. `model.save('my_model.keras')` or `keras.saving.save_model(model, 'my_model.keras')`. \n"
     ]
    },
    {
     "name": "stdout",
     "output_type": "stream",
     "text": [
      "\b\b\b\b\b\b\b\b\b\b\b\b\b\b\b\b\b\b\b\b\b\b\b\b\b\b\b\b\b\b\b\b\b\b\b\b\b\b\b\b\b\b\b\b\b\b\b\b\b\b\b\b\b\b\b\b\b\b\b\b\b\b\b\b\b\b\b\b\b\b\b\b\b\b\b\r",
      "\u001b[1m607/607\u001b[0m \u001b[32m━━━━━━━━━━━━━━━━━━━━\u001b[0m\u001b[37m\u001b[0m \u001b[1m65s\u001b[0m 107ms/step - accuracy: 0.8093 - loss: 0.9287 - val_accuracy: 0.7579 - val_loss: 1.1485 - learning_rate: 5.0000e-05\n",
      "Epoch 36/100\n",
      "\u001b[1m607/607\u001b[0m \u001b[32m━━━━━━━━━━━━━━━━━━━━\u001b[0m\u001b[37m\u001b[0m \u001b[1m0s\u001b[0m 96ms/step - accuracy: 0.8237 - loss: 0.9154\n",
      "Epoch 36: val_loss did not improve from 1.14851\n",
      "\u001b[1m607/607\u001b[0m \u001b[32m━━━━━━━━━━━━━━━━━━━━\u001b[0m\u001b[37m\u001b[0m \u001b[1m64s\u001b[0m 105ms/step - accuracy: 0.8237 - loss: 0.9154 - val_accuracy: 0.7448 - val_loss: 1.1760 - learning_rate: 5.0000e-05\n",
      "Epoch 37/100\n",
      "\u001b[1m607/607\u001b[0m \u001b[32m━━━━━━━━━━━━━━━━━━━━\u001b[0m\u001b[37m\u001b[0m \u001b[1m0s\u001b[0m 96ms/step - accuracy: 0.8307 - loss: 0.8738\n",
      "Epoch 37: val_loss did not improve from 1.14851\n",
      "\u001b[1m607/607\u001b[0m \u001b[32m━━━━━━━━━━━━━━━━━━━━\u001b[0m\u001b[37m\u001b[0m \u001b[1m64s\u001b[0m 105ms/step - accuracy: 0.8307 - loss: 0.8738 - val_accuracy: 0.7539 - val_loss: 1.1789 - learning_rate: 5.0000e-05\n",
      "Epoch 38/100\n",
      "\u001b[1m607/607\u001b[0m \u001b[32m━━━━━━━━━━━━━━━━━━━━\u001b[0m\u001b[37m\u001b[0m \u001b[1m0s\u001b[0m 96ms/step - accuracy: 0.8231 - loss: 0.8669\n",
      "Epoch 38: val_loss did not improve from 1.14851\n",
      "\u001b[1m607/607\u001b[0m \u001b[32m━━━━━━━━━━━━━━━━━━━━\u001b[0m\u001b[37m\u001b[0m \u001b[1m64s\u001b[0m 105ms/step - accuracy: 0.8231 - loss: 0.8669 - val_accuracy: 0.7618 - val_loss: 1.1733 - learning_rate: 5.0000e-05\n",
      "Epoch 39/100\n",
      "\u001b[1m607/607\u001b[0m \u001b[32m━━━━━━━━━━━━━━━━━━━━\u001b[0m\u001b[37m\u001b[0m \u001b[1m0s\u001b[0m 96ms/step - accuracy: 0.8345 - loss: 0.8455\n",
      "Epoch 39: val_loss improved from 1.14851 to 1.14210, saving model to ResNet101_waste_classifier.h5\n"
     ]
    },
    {
     "name": "stderr",
     "output_type": "stream",
     "text": [
      "WARNING:absl:You are saving your model as an HDF5 file via `model.save()` or `keras.saving.save_model(model)`. This file format is considered legacy. We recommend using instead the native Keras format, e.g. `model.save('my_model.keras')` or `keras.saving.save_model(model, 'my_model.keras')`. \n"
     ]
    },
    {
     "name": "stdout",
     "output_type": "stream",
     "text": [
      "\b\b\b\b\b\b\b\b\b\b\b\b\b\b\b\b\b\b\b\b\b\b\b\b\b\b\b\b\b\b\b\b\b\b\b\b\b\b\b\b\b\b\b\b\b\b\b\b\b\b\b\b\b\b\b\b\b\b\b\b\b\b\b\b\b\b\b\b\b\b\b\b\b\b\b\r",
      "\u001b[1m607/607\u001b[0m \u001b[32m━━━━━━━━━━━━━━━━━━━━\u001b[0m\u001b[37m\u001b[0m \u001b[1m65s\u001b[0m 107ms/step - accuracy: 0.8345 - loss: 0.8456 - val_accuracy: 0.7448 - val_loss: 1.1421 - learning_rate: 5.0000e-05\n",
      "Epoch 40/100\n",
      "\u001b[1m607/607\u001b[0m \u001b[32m━━━━━━━━━━━━━━━━━━━━\u001b[0m\u001b[37m\u001b[0m \u001b[1m0s\u001b[0m 97ms/step - accuracy: 0.8465 - loss: 0.8459\n",
      "Epoch 40: val_loss did not improve from 1.14210\n",
      "\u001b[1m607/607\u001b[0m \u001b[32m━━━━━━━━━━━━━━━━━━━━\u001b[0m\u001b[37m\u001b[0m \u001b[1m64s\u001b[0m 106ms/step - accuracy: 0.8465 - loss: 0.8459 - val_accuracy: 0.7513 - val_loss: 1.1779 - learning_rate: 5.0000e-05\n",
      "Epoch 41/100\n",
      "\u001b[1m607/607\u001b[0m \u001b[32m━━━━━━━━━━━━━━━━━━━━\u001b[0m\u001b[37m\u001b[0m \u001b[1m0s\u001b[0m 96ms/step - accuracy: 0.8322 - loss: 0.8624\n",
      "Epoch 41: val_loss did not improve from 1.14210\n",
      "\u001b[1m607/607\u001b[0m \u001b[32m━━━━━━━━━━━━━━━━━━━━\u001b[0m\u001b[37m\u001b[0m \u001b[1m64s\u001b[0m 105ms/step - accuracy: 0.8322 - loss: 0.8625 - val_accuracy: 0.7487 - val_loss: 1.1602 - learning_rate: 5.0000e-05\n",
      "Epoch 42/100\n",
      "\u001b[1m607/607\u001b[0m \u001b[32m━━━━━━━━━━━━━━━━━━━━\u001b[0m\u001b[37m\u001b[0m \u001b[1m0s\u001b[0m 95ms/step - accuracy: 0.8197 - loss: 0.9127\n",
      "Epoch 42: val_loss improved from 1.14210 to 1.13755, saving model to ResNet101_waste_classifier.h5\n"
     ]
    },
    {
     "name": "stderr",
     "output_type": "stream",
     "text": [
      "WARNING:absl:You are saving your model as an HDF5 file via `model.save()` or `keras.saving.save_model(model)`. This file format is considered legacy. We recommend using instead the native Keras format, e.g. `model.save('my_model.keras')` or `keras.saving.save_model(model, 'my_model.keras')`. \n"
     ]
    },
    {
     "name": "stdout",
     "output_type": "stream",
     "text": [
      "\b\b\b\b\b\b\b\b\b\b\b\b\b\b\b\b\b\b\b\b\b\b\b\b\b\b\b\b\b\b\b\b\b\b\b\b\b\b\b\b\b\b\b\b\b\b\b\b\b\b\b\b\b\b\b\b\b\b\b\b\b\b\b\b\b\b\b\b\b\b\b\b\b\b\b\r",
      "\u001b[1m607/607\u001b[0m \u001b[32m━━━━━━━━━━━━━━━━━━━━\u001b[0m\u001b[37m\u001b[0m \u001b[1m65s\u001b[0m 106ms/step - accuracy: 0.8197 - loss: 0.9126 - val_accuracy: 0.7618 - val_loss: 1.1375 - learning_rate: 5.0000e-05\n",
      "Epoch 43/100\n",
      "\u001b[1m607/607\u001b[0m \u001b[32m━━━━━━━━━━━━━━━━━━━━\u001b[0m\u001b[37m\u001b[0m \u001b[1m0s\u001b[0m 96ms/step - accuracy: 0.8181 - loss: 0.8847\n",
      "Epoch 43: val_loss did not improve from 1.13755\n",
      "\u001b[1m607/607\u001b[0m \u001b[32m━━━━━━━━━━━━━━━━━━━━\u001b[0m\u001b[37m\u001b[0m \u001b[1m64s\u001b[0m 105ms/step - accuracy: 0.8181 - loss: 0.8847 - val_accuracy: 0.7579 - val_loss: 1.1569 - learning_rate: 5.0000e-05\n",
      "Epoch 44/100\n",
      "\u001b[1m607/607\u001b[0m \u001b[32m━━━━━━━━━━━━━━━━━━━━\u001b[0m\u001b[37m\u001b[0m \u001b[1m0s\u001b[0m 96ms/step - accuracy: 0.8406 - loss: 0.8557\n",
      "Epoch 44: val_loss did not improve from 1.13755\n",
      "\u001b[1m607/607\u001b[0m \u001b[32m━━━━━━━━━━━━━━━━━━━━\u001b[0m\u001b[37m\u001b[0m \u001b[1m64s\u001b[0m 105ms/step - accuracy: 0.8405 - loss: 0.8557 - val_accuracy: 0.7592 - val_loss: 1.1536 - learning_rate: 5.0000e-05\n",
      "Epoch 45/100\n",
      "\u001b[1m607/607\u001b[0m \u001b[32m━━━━━━━━━━━━━━━━━━━━\u001b[0m\u001b[37m\u001b[0m \u001b[1m0s\u001b[0m 96ms/step - accuracy: 0.8281 - loss: 0.8654\n",
      "Epoch 45: val_loss did not improve from 1.13755\n",
      "\u001b[1m607/607\u001b[0m \u001b[32m━━━━━━━━━━━━━━━━━━━━\u001b[0m\u001b[37m\u001b[0m \u001b[1m64s\u001b[0m 105ms/step - accuracy: 0.8282 - loss: 0.8653 - val_accuracy: 0.7552 - val_loss: 1.1432 - learning_rate: 5.0000e-05\n",
      "Epoch 46/100\n",
      "\u001b[1m607/607\u001b[0m \u001b[32m━━━━━━━━━━━━━━━━━━━━\u001b[0m\u001b[37m\u001b[0m \u001b[1m0s\u001b[0m 96ms/step - accuracy: 0.8331 - loss: 0.8373\n",
      "Epoch 46: val_loss did not improve from 1.13755\n",
      "\u001b[1m607/607\u001b[0m \u001b[32m━━━━━━━━━━━━━━━━━━━━\u001b[0m\u001b[37m\u001b[0m \u001b[1m64s\u001b[0m 105ms/step - accuracy: 0.8331 - loss: 0.8373 - val_accuracy: 0.7657 - val_loss: 1.1520 - learning_rate: 5.0000e-05\n",
      "Epoch 47/100\n",
      "\u001b[1m607/607\u001b[0m \u001b[32m━━━━━━━━━━━━━━━━━━━━\u001b[0m\u001b[37m\u001b[0m \u001b[1m0s\u001b[0m 96ms/step - accuracy: 0.8288 - loss: 0.8718\n",
      "Epoch 47: val_loss did not improve from 1.13755\n",
      "\n",
      "Epoch 47: ReduceLROnPlateau reducing learning rate to 2.499999936844688e-05.\n",
      "\u001b[1m607/607\u001b[0m \u001b[32m━━━━━━━━━━━━━━━━━━━━\u001b[0m\u001b[37m\u001b[0m \u001b[1m64s\u001b[0m 105ms/step - accuracy: 0.8288 - loss: 0.8718 - val_accuracy: 0.7526 - val_loss: 1.1559 - learning_rate: 5.0000e-05\n",
      "Epoch 48/100\n",
      "\u001b[1m607/607\u001b[0m \u001b[32m━━━━━━━━━━━━━━━━━━━━\u001b[0m\u001b[37m\u001b[0m \u001b[1m0s\u001b[0m 96ms/step - accuracy: 0.8402 - loss: 0.8272\n",
      "Epoch 48: val_loss did not improve from 1.13755\n",
      "\u001b[1m607/607\u001b[0m \u001b[32m━━━━━━━━━━━━━━━━━━━━\u001b[0m\u001b[37m\u001b[0m \u001b[1m64s\u001b[0m 105ms/step - accuracy: 0.8402 - loss: 0.8272 - val_accuracy: 0.7552 - val_loss: 1.1570 - learning_rate: 2.5000e-05\n",
      "Epoch 49/100\n",
      "\u001b[1m607/607\u001b[0m \u001b[32m━━━━━━━━━━━━━━━━━━━━\u001b[0m\u001b[37m\u001b[0m \u001b[1m0s\u001b[0m 96ms/step - accuracy: 0.8281 - loss: 0.8921\n",
      "Epoch 49: val_loss did not improve from 1.13755\n",
      "\u001b[1m607/607\u001b[0m \u001b[32m━━━━━━━━━━━━━━━━━━━━\u001b[0m\u001b[37m\u001b[0m \u001b[1m64s\u001b[0m 105ms/step - accuracy: 0.8281 - loss: 0.8920 - val_accuracy: 0.7539 - val_loss: 1.1516 - learning_rate: 2.5000e-05\n",
      "Epoch 50/100\n",
      "\u001b[1m607/607\u001b[0m \u001b[32m━━━━━━━━━━━━━━━━━━━━\u001b[0m\u001b[37m\u001b[0m \u001b[1m0s\u001b[0m 97ms/step - accuracy: 0.8562 - loss: 0.8052\n",
      "Epoch 50: val_loss did not improve from 1.13755\n",
      "\u001b[1m607/607\u001b[0m \u001b[32m━━━━━━━━━━━━━━━━━━━━\u001b[0m\u001b[37m\u001b[0m \u001b[1m64s\u001b[0m 106ms/step - accuracy: 0.8562 - loss: 0.8052 - val_accuracy: 0.7461 - val_loss: 1.1560 - learning_rate: 2.5000e-05\n",
      "Epoch 51/100\n",
      "\u001b[1m607/607\u001b[0m \u001b[32m━━━━━━━━━━━━━━━━━━━━\u001b[0m\u001b[37m\u001b[0m \u001b[1m0s\u001b[0m 97ms/step - accuracy: 0.8324 - loss: 0.8523\n",
      "Epoch 51: val_loss did not improve from 1.13755\n",
      "\u001b[1m607/607\u001b[0m \u001b[32m━━━━━━━━━━━━━━━━━━━━\u001b[0m\u001b[37m\u001b[0m \u001b[1m65s\u001b[0m 107ms/step - accuracy: 0.8324 - loss: 0.8522 - val_accuracy: 0.7592 - val_loss: 1.1495 - learning_rate: 2.5000e-05\n",
      "Epoch 52/100\n",
      "\u001b[1m607/607\u001b[0m \u001b[32m━━━━━━━━━━━━━━━━━━━━\u001b[0m\u001b[37m\u001b[0m \u001b[1m0s\u001b[0m 96ms/step - accuracy: 0.8377 - loss: 0.8416\n",
      "Epoch 52: val_loss did not improve from 1.13755\n",
      "\n",
      "Epoch 52: ReduceLROnPlateau reducing learning rate to 1.249999968422344e-05.\n",
      "\u001b[1m607/607\u001b[0m \u001b[32m━━━━━━━━━━━━━━━━━━━━\u001b[0m\u001b[37m\u001b[0m \u001b[1m64s\u001b[0m 105ms/step - accuracy: 0.8377 - loss: 0.8416 - val_accuracy: 0.7565 - val_loss: 1.1425 - learning_rate: 2.5000e-05\n",
      "Epoch 53/100\n",
      "\u001b[1m607/607\u001b[0m \u001b[32m━━━━━━━━━━━━━━━━━━━━\u001b[0m\u001b[37m\u001b[0m \u001b[1m0s\u001b[0m 96ms/step - accuracy: 0.8428 - loss: 0.8332\n",
      "Epoch 53: val_loss did not improve from 1.13755\n",
      "\u001b[1m607/607\u001b[0m \u001b[32m━━━━━━━━━━━━━━━━━━━━\u001b[0m\u001b[37m\u001b[0m \u001b[1m64s\u001b[0m 105ms/step - accuracy: 0.8428 - loss: 0.8332 - val_accuracy: 0.7565 - val_loss: 1.1500 - learning_rate: 1.2500e-05\n",
      "Epoch 54/100\n",
      "\u001b[1m607/607\u001b[0m \u001b[32m━━━━━━━━━━━━━━━━━━━━\u001b[0m\u001b[37m\u001b[0m \u001b[1m0s\u001b[0m 97ms/step - accuracy: 0.8638 - loss: 0.8016\n",
      "Epoch 54: val_loss improved from 1.13755 to 1.13632, saving model to ResNet101_waste_classifier.h5\n"
     ]
    },
    {
     "name": "stderr",
     "output_type": "stream",
     "text": [
      "WARNING:absl:You are saving your model as an HDF5 file via `model.save()` or `keras.saving.save_model(model)`. This file format is considered legacy. We recommend using instead the native Keras format, e.g. `model.save('my_model.keras')` or `keras.saving.save_model(model, 'my_model.keras')`. \n"
     ]
    },
    {
     "name": "stdout",
     "output_type": "stream",
     "text": [
      "\b\b\b\b\b\b\b\b\b\b\b\b\b\b\b\b\b\b\b\b\b\b\b\b\b\b\b\b\b\b\b\b\b\b\b\b\b\b\b\b\b\b\b\b\b\b\b\b\b\b\b\b\b\b\b\b\b\b\b\b\b\b\b\b\b\b\b\b\b\b\b\b\b\b\b\r",
      "\u001b[1m607/607\u001b[0m \u001b[32m━━━━━━━━━━━━━━━━━━━━\u001b[0m\u001b[37m\u001b[0m \u001b[1m65s\u001b[0m 107ms/step - accuracy: 0.8638 - loss: 0.8016 - val_accuracy: 0.7579 - val_loss: 1.1363 - learning_rate: 1.2500e-05\n",
      "Epoch 55/100\n",
      "\u001b[1m607/607\u001b[0m \u001b[32m━━━━━━━━━━━━━━━━━━━━\u001b[0m\u001b[37m\u001b[0m \u001b[1m0s\u001b[0m 97ms/step - accuracy: 0.8551 - loss: 0.7830\n",
      "Epoch 55: val_loss did not improve from 1.13632\n",
      "\u001b[1m607/607\u001b[0m \u001b[32m━━━━━━━━━━━━━━━━━━━━\u001b[0m\u001b[37m\u001b[0m \u001b[1m64s\u001b[0m 106ms/step - accuracy: 0.8551 - loss: 0.7830 - val_accuracy: 0.7592 - val_loss: 1.1377 - learning_rate: 1.2500e-05\n",
      "Epoch 56/100\n",
      "\u001b[1m607/607\u001b[0m \u001b[32m━━━━━━━━━━━━━━━━━━━━\u001b[0m\u001b[37m\u001b[0m \u001b[1m0s\u001b[0m 96ms/step - accuracy: 0.8505 - loss: 0.8008\n",
      "Epoch 56: val_loss did not improve from 1.13632\n",
      "\u001b[1m607/607\u001b[0m \u001b[32m━━━━━━━━━━━━━━━━━━━━\u001b[0m\u001b[37m\u001b[0m \u001b[1m64s\u001b[0m 105ms/step - accuracy: 0.8505 - loss: 0.8008 - val_accuracy: 0.7526 - val_loss: 1.1446 - learning_rate: 1.2500e-05\n",
      "Epoch 57/100\n",
      "\u001b[1m607/607\u001b[0m \u001b[32m━━━━━━━━━━━━━━━━━━━━\u001b[0m\u001b[37m\u001b[0m \u001b[1m0s\u001b[0m 96ms/step - accuracy: 0.8610 - loss: 0.7815\n",
      "Epoch 57: val_loss improved from 1.13632 to 1.12330, saving model to ResNet101_waste_classifier.h5\n"
     ]
    },
    {
     "name": "stderr",
     "output_type": "stream",
     "text": [
      "WARNING:absl:You are saving your model as an HDF5 file via `model.save()` or `keras.saving.save_model(model)`. This file format is considered legacy. We recommend using instead the native Keras format, e.g. `model.save('my_model.keras')` or `keras.saving.save_model(model, 'my_model.keras')`. \n"
     ]
    },
    {
     "name": "stdout",
     "output_type": "stream",
     "text": [
      "\b\b\b\b\b\b\b\b\b\b\b\b\b\b\b\b\b\b\b\b\b\b\b\b\b\b\b\b\b\b\b\b\b\b\b\b\b\b\b\b\b\b\b\b\b\b\b\b\b\b\b\b\b\b\b\b\b\b\b\b\b\b\b\b\b\b\b\b\b\b\b\b\b\b\b\r",
      "\u001b[1m607/607\u001b[0m \u001b[32m━━━━━━━━━━━━━━━━━━━━\u001b[0m\u001b[37m\u001b[0m \u001b[1m65s\u001b[0m 107ms/step - accuracy: 0.8610 - loss: 0.7815 - val_accuracy: 0.7644 - val_loss: 1.1233 - learning_rate: 1.2500e-05\n",
      "Epoch 58/100\n",
      "\u001b[1m607/607\u001b[0m \u001b[32m━━━━━━━━━━━━━━━━━━━━\u001b[0m\u001b[37m\u001b[0m \u001b[1m0s\u001b[0m 96ms/step - accuracy: 0.8618 - loss: 0.7698\n",
      "Epoch 58: val_loss improved from 1.12330 to 1.12127, saving model to ResNet101_waste_classifier.h5\n"
     ]
    },
    {
     "name": "stderr",
     "output_type": "stream",
     "text": [
      "WARNING:absl:You are saving your model as an HDF5 file via `model.save()` or `keras.saving.save_model(model)`. This file format is considered legacy. We recommend using instead the native Keras format, e.g. `model.save('my_model.keras')` or `keras.saving.save_model(model, 'my_model.keras')`. \n"
     ]
    },
    {
     "name": "stdout",
     "output_type": "stream",
     "text": [
      "\b\b\b\b\b\b\b\b\b\b\b\b\b\b\b\b\b\b\b\b\b\b\b\b\b\b\b\b\b\b\b\b\b\b\b\b\b\b\b\b\b\b\b\b\b\b\b\b\b\b\b\b\b\b\b\b\b\b\b\b\b\b\b\b\b\b\b\b\b\b\b\b\b\b\b\r",
      "\u001b[1m607/607\u001b[0m \u001b[32m━━━━━━━━━━━━━━━━━━━━\u001b[0m\u001b[37m\u001b[0m \u001b[1m65s\u001b[0m 107ms/step - accuracy: 0.8618 - loss: 0.7699 - val_accuracy: 0.7592 - val_loss: 1.1213 - learning_rate: 1.2500e-05\n",
      "Epoch 59/100\n",
      "\u001b[1m607/607\u001b[0m \u001b[32m━━━━━━━━━━━━━━━━━━━━\u001b[0m\u001b[37m\u001b[0m \u001b[1m0s\u001b[0m 96ms/step - accuracy: 0.8612 - loss: 0.7779\n",
      "Epoch 59: val_loss did not improve from 1.12127\n",
      "\u001b[1m607/607\u001b[0m \u001b[32m━━━━━━━━━━━━━━━━━━━━\u001b[0m\u001b[37m\u001b[0m \u001b[1m64s\u001b[0m 105ms/step - accuracy: 0.8612 - loss: 0.7778 - val_accuracy: 0.7565 - val_loss: 1.1405 - learning_rate: 1.2500e-05\n",
      "Epoch 60/100\n",
      "\u001b[1m607/607\u001b[0m \u001b[32m━━━━━━━━━━━━━━━━━━━━\u001b[0m\u001b[37m\u001b[0m \u001b[1m0s\u001b[0m 96ms/step - accuracy: 0.8525 - loss: 0.7943\n",
      "Epoch 60: val_loss did not improve from 1.12127\n",
      "\u001b[1m607/607\u001b[0m \u001b[32m━━━━━━━━━━━━━━━━━━━━\u001b[0m\u001b[37m\u001b[0m \u001b[1m64s\u001b[0m 105ms/step - accuracy: 0.8525 - loss: 0.7943 - val_accuracy: 0.7592 - val_loss: 1.1224 - learning_rate: 1.2500e-05\n",
      "Epoch 61/100\n",
      "\u001b[1m607/607\u001b[0m \u001b[32m━━━━━━━━━━━━━━━━━━━━\u001b[0m\u001b[37m\u001b[0m \u001b[1m0s\u001b[0m 96ms/step - accuracy: 0.8670 - loss: 0.7491\n",
      "Epoch 61: val_loss improved from 1.12127 to 1.11254, saving model to ResNet101_waste_classifier.h5\n"
     ]
    },
    {
     "name": "stderr",
     "output_type": "stream",
     "text": [
      "WARNING:absl:You are saving your model as an HDF5 file via `model.save()` or `keras.saving.save_model(model)`. This file format is considered legacy. We recommend using instead the native Keras format, e.g. `model.save('my_model.keras')` or `keras.saving.save_model(model, 'my_model.keras')`. \n"
     ]
    },
    {
     "name": "stdout",
     "output_type": "stream",
     "text": [
      "\b\b\b\b\b\b\b\b\b\b\b\b\b\b\b\b\b\b\b\b\b\b\b\b\b\b\b\b\b\b\b\b\b\b\b\b\b\b\b\b\b\b\b\b\b\b\b\b\b\b\b\b\b\b\b\b\b\b\b\b\b\b\b\b\b\b\b\b\b\b\b\b\b\b\b\r",
      "\u001b[1m607/607\u001b[0m \u001b[32m━━━━━━━━━━━━━━━━━━━━\u001b[0m\u001b[37m\u001b[0m \u001b[1m65s\u001b[0m 107ms/step - accuracy: 0.8670 - loss: 0.7492 - val_accuracy: 0.7657 - val_loss: 1.1125 - learning_rate: 1.2500e-05\n",
      "Epoch 62/100\n",
      "\u001b[1m607/607\u001b[0m \u001b[32m━━━━━━━━━━━━━━━━━━━━\u001b[0m\u001b[37m\u001b[0m \u001b[1m0s\u001b[0m 97ms/step - accuracy: 0.8619 - loss: 0.7699\n",
      "Epoch 62: val_loss did not improve from 1.11254\n",
      "\u001b[1m607/607\u001b[0m \u001b[32m━━━━━━━━━━━━━━━━━━━━\u001b[0m\u001b[37m\u001b[0m \u001b[1m64s\u001b[0m 106ms/step - accuracy: 0.8619 - loss: 0.7699 - val_accuracy: 0.7683 - val_loss: 1.1248 - learning_rate: 1.2500e-05\n",
      "Epoch 63/100\n",
      "\u001b[1m607/607\u001b[0m \u001b[32m━━━━━━━━━━━━━━━━━━━━\u001b[0m\u001b[37m\u001b[0m \u001b[1m0s\u001b[0m 96ms/step - accuracy: 0.8521 - loss: 0.7940\n",
      "Epoch 63: val_loss did not improve from 1.11254\n",
      "\u001b[1m607/607\u001b[0m \u001b[32m━━━━━━━━━━━━━━━━━━━━\u001b[0m\u001b[37m\u001b[0m \u001b[1m64s\u001b[0m 105ms/step - accuracy: 0.8521 - loss: 0.7940 - val_accuracy: 0.7618 - val_loss: 1.1199 - learning_rate: 1.2500e-05\n",
      "Epoch 64/100\n",
      "\u001b[1m607/607\u001b[0m \u001b[32m━━━━━━━━━━━━━━━━━━━━\u001b[0m\u001b[37m\u001b[0m \u001b[1m0s\u001b[0m 96ms/step - accuracy: 0.8689 - loss: 0.7693\n",
      "Epoch 64: val_loss did not improve from 1.11254\n",
      "\u001b[1m607/607\u001b[0m \u001b[32m━━━━━━━━━━━━━━━━━━━━\u001b[0m\u001b[37m\u001b[0m \u001b[1m64s\u001b[0m 105ms/step - accuracy: 0.8689 - loss: 0.7693 - val_accuracy: 0.7579 - val_loss: 1.1208 - learning_rate: 1.2500e-05\n",
      "Epoch 65/100\n",
      "\u001b[1m607/607\u001b[0m \u001b[32m━━━━━━━━━━━━━━━━━━━━\u001b[0m\u001b[37m\u001b[0m \u001b[1m0s\u001b[0m 96ms/step - accuracy: 0.8616 - loss: 0.7899\n",
      "Epoch 65: val_loss did not improve from 1.11254\n",
      "\u001b[1m607/607\u001b[0m \u001b[32m━━━━━━━━━━━━━━━━━━━━\u001b[0m\u001b[37m\u001b[0m \u001b[1m64s\u001b[0m 105ms/step - accuracy: 0.8616 - loss: 0.7899 - val_accuracy: 0.7592 - val_loss: 1.1197 - learning_rate: 1.2500e-05\n",
      "Epoch 66/100\n",
      "\u001b[1m607/607\u001b[0m \u001b[32m━━━━━━━━━━━━━━━━━━━━\u001b[0m\u001b[37m\u001b[0m \u001b[1m0s\u001b[0m 96ms/step - accuracy: 0.8511 - loss: 0.7547\n",
      "Epoch 66: val_loss did not improve from 1.11254\n",
      "\n",
      "Epoch 66: ReduceLROnPlateau reducing learning rate to 1e-05.\n",
      "\u001b[1m607/607\u001b[0m \u001b[32m━━━━━━━━━━━━━━━━━━━━\u001b[0m\u001b[37m\u001b[0m \u001b[1m64s\u001b[0m 105ms/step - accuracy: 0.8511 - loss: 0.7547 - val_accuracy: 0.7618 - val_loss: 1.1186 - learning_rate: 1.2500e-05\n",
      "Epoch 67/100\n",
      "\u001b[1m607/607\u001b[0m \u001b[32m━━━━━━━━━━━━━━━━━━━━\u001b[0m\u001b[37m\u001b[0m \u001b[1m0s\u001b[0m 96ms/step - accuracy: 0.8607 - loss: 0.7797\n",
      "Epoch 67: val_loss did not improve from 1.11254\n",
      "\u001b[1m607/607\u001b[0m \u001b[32m━━━━━━━━━━━━━━━━━━━━\u001b[0m\u001b[37m\u001b[0m \u001b[1m64s\u001b[0m 105ms/step - accuracy: 0.8607 - loss: 0.7797 - val_accuracy: 0.7565 - val_loss: 1.1216 - learning_rate: 1.0000e-05\n",
      "Epoch 68/100\n",
      "\u001b[1m607/607\u001b[0m \u001b[32m━━━━━━━━━━━━━━━━━━━━\u001b[0m\u001b[37m\u001b[0m \u001b[1m0s\u001b[0m 96ms/step - accuracy: 0.8594 - loss: 0.7849\n",
      "Epoch 68: val_loss did not improve from 1.11254\n",
      "\u001b[1m607/607\u001b[0m \u001b[32m━━━━━━━━━━━━━━━━━━━━\u001b[0m\u001b[37m\u001b[0m \u001b[1m64s\u001b[0m 105ms/step - accuracy: 0.8594 - loss: 0.7850 - val_accuracy: 0.7644 - val_loss: 1.1149 - learning_rate: 1.0000e-05\n",
      "Epoch 69/100\n",
      "\u001b[1m607/607\u001b[0m \u001b[32m━━━━━━━━━━━━━━━━━━━━\u001b[0m\u001b[37m\u001b[0m \u001b[1m0s\u001b[0m 96ms/step - accuracy: 0.8544 - loss: 0.7760\n",
      "Epoch 69: val_loss did not improve from 1.11254\n",
      "\u001b[1m607/607\u001b[0m \u001b[32m━━━━━━━━━━━━━━━━━━━━\u001b[0m\u001b[37m\u001b[0m \u001b[1m64s\u001b[0m 105ms/step - accuracy: 0.8544 - loss: 0.7760 - val_accuracy: 0.7565 - val_loss: 1.1268 - learning_rate: 1.0000e-05\n",
      "Epoch 70/100\n",
      "\u001b[1m607/607\u001b[0m \u001b[32m━━━━━━━━━━━━━━━━━━━━\u001b[0m\u001b[37m\u001b[0m \u001b[1m0s\u001b[0m 97ms/step - accuracy: 0.8687 - loss: 0.7371\n",
      "Epoch 70: val_loss did not improve from 1.11254\n",
      "\u001b[1m607/607\u001b[0m \u001b[32m━━━━━━━━━━━━━━━━━━━━\u001b[0m\u001b[37m\u001b[0m \u001b[1m64s\u001b[0m 106ms/step - accuracy: 0.8687 - loss: 0.7371 - val_accuracy: 0.7618 - val_loss: 1.1139 - learning_rate: 1.0000e-05\n",
      "Epoch 71/100\n",
      "\u001b[1m607/607\u001b[0m \u001b[32m━━━━━━━━━━━━━━━━━━━━\u001b[0m\u001b[37m\u001b[0m \u001b[1m0s\u001b[0m 96ms/step - accuracy: 0.8500 - loss: 0.7738\n",
      "Epoch 71: val_loss did not improve from 1.11254\n",
      "\u001b[1m607/607\u001b[0m \u001b[32m━━━━━━━━━━━━━━━━━━━━\u001b[0m\u001b[37m\u001b[0m \u001b[1m64s\u001b[0m 105ms/step - accuracy: 0.8500 - loss: 0.7737 - val_accuracy: 0.7552 - val_loss: 1.1160 - learning_rate: 1.0000e-05\n",
      "Epoch 71: early stopping\n",
      "Restoring model weights from the end of the best epoch: 61.\n"
     ]
    }
   ],
   "source": [
    "# Train the model\n",
    "print(f\"Training {model_name} model with minimum 50 epochs...\")\n",
    "epochs = 100  # Train for 100 epochs with early stopping\n",
    "history_resnet101 = resnet101_model.fit(\n",
    "    train_gen,  # Reuse existing generator (no normalization)\n",
    "    validation_data=val_gen,\n",
    "    epochs=epochs,\n",
    "    callbacks=callbacks,\n",
    "    verbose=1\n",
    ")"
   ]
  },
  {
   "cell_type": "code",
   "execution_count": 49,
   "metadata": {
    "colab": {
     "base_uri": "https://localhost:8080/",
     "height": 460
    },
    "id": "opPk1_06dFeA",
    "outputId": "63ae6b15-c117-4d1a-f702-7b4ea250ac16"
   },
   "outputs": [
    {
     "data": {
      "image/png": "[encoded data removed]",
      "text/plain": [
       "<Figure size 1200x500 with 2 Axes>"
      ]
     },
     "metadata": {},
     "output_type": "display_data"
    }
   ],
   "source": [
    "# Plot training history\n",
    "plt.figure(figsize=(12, 5))\n",
    "plt.subplot(1, 2, 1)\n",
    "plt.plot(history_resnet101.history['loss'], label='Training Loss')\n",
    "plt.plot(history_resnet101.history['val_loss'], label='Validation Loss')\n",
    "plt.title(f'{model_name} - Loss')\n",
    "plt.xlabel('Epoch')\n",
    "plt.ylabel('Loss')\n",
    "plt.legend()\n",
    "\n",
    "plt.subplot(1, 2, 2)\n",
    "plt.plot(history_resnet101.history['accuracy'], label='Training Accuracy')\n",
    "plt.plot(history_resnet101.history['val_accuracy'], label='Validation Accuracy')\n",
    "plt.title(f'{model_name} - Accuracy')\n",
    "plt.xlabel('Epoch')\n",
    "plt.ylabel('Accuracy')\n",
    "plt.legend()\n",
    "plt.tight_layout()\n",
    "plt.savefig(f'{model_name}_training_history.png')\n",
    "plt.show()"
   ]
  },
  {
   "cell_type": "code",
   "execution_count": 50,
   "metadata": {
    "colab": {
     "base_uri": "https://localhost:8080/"
    },
    "id": "em2f7wvPdFom",
    "outputId": "f30b530f-dee0-4c91-c9a0-d3a3a7e78596"
   },
   "outputs": [
    {
     "name": "stdout",
     "output_type": "stream",
     "text": [
      "\n",
      "Evaluating ResNet101 model...\n"
     ]
    }
   ],
   "source": [
    "# Plot learning rate if available\n",
    "if 'lr' in history_resnet101.history:\n",
    "    plt.figure(figsize=(8, 3))\n",
    "    plt.plot(history_resnet101.history['lr'])\n",
    "    plt.title('Learning Rate')\n",
    "    plt.xlabel('Epoch')\n",
    "    plt.ylabel('Learning Rate')\n",
    "    plt.yscale('log')\n",
    "    plt.savefig(f'{model_name}_learning_rate.png')\n",
    "    plt.show()\n",
    "\n",
    "# Evaluate the model\n",
    "print(f\"\\nEvaluating {model_name} model...\")\n",
    "train_metrics = evaluate_model(resnet101_model, train_gen, classes)\n",
    "val_metrics = evaluate_model(resnet101_model, val_gen, classes)\n",
    "test_metrics = evaluate_model(resnet101_model, test_gen, classes)\n"
   ]
  },
  {
   "cell_type": "code",
   "execution_count": 51,
   "metadata": {
    "colab": {
     "base_uri": "https://localhost:8080/"
    },
    "id": "q2YShVgGdGGH",
    "outputId": "8b34715f-1135-442e-b703-60d280c563fc"
   },
   "outputs": [
    {
     "name": "stdout",
     "output_type": "stream",
     "text": [
      "\n",
      "ResNet101 Results:\n",
      "Training - Accuracy: 0.9578, Precision: 0.9588, Recall: 0.9578, F1: 0.9576, AUC: 0.9986\n",
      "Validation - Accuracy: 0.7657, Precision: 0.7648, Recall: 0.7657, F1: 0.7614, AUC: 0.9659\n",
      "Test - Accuracy: 0.7495, Precision: 0.7456, Recall: 0.7495, F1: 0.7425, AUC: 0.9615\n",
      "ResNet101 model training and evaluation complete!\n"
     ]
    }
   ],
   "source": [
    "# Display metrics\n",
    "print(f\"\\n{model_name} Results:\")\n",
    "print(f\"Training - Accuracy: {train_metrics['accuracy']:.4f}, Precision: {train_metrics['precision']:.4f}, \"\n",
    "      f\"Recall: {train_metrics['recall']:.4f}, F1: {train_metrics['f1_score']:.4f}, AUC: {train_metrics['auc']:.4f}\")\n",
    "\n",
    "print(f\"Validation - Accuracy: {val_metrics['accuracy']:.4f}, Precision: {val_metrics['precision']:.4f}, \"\n",
    "      f\"Recall: {val_metrics['recall']:.4f}, F1: {val_metrics['f1_score']:.4f}, AUC: {val_metrics['auc']:.4f}\")\n",
    "\n",
    "print(f\"Test - Accuracy: {test_metrics['accuracy']:.4f}, Precision: {test_metrics['precision']:.4f}, \"\n",
    "      f\"Recall: {test_metrics['recall']:.4f}, F1: {test_metrics['f1_score']:.4f}, AUC: {test_metrics['auc']:.4f}\")\n",
    "\n",
    "# Save metrics to file\n",
    "with open(f'{model_name}_metrics.txt', 'w') as f:\n",
    "    f.write(f\"{model_name} Results:\\n\")\n",
    "    f.write(f\"Training - Accuracy: {train_metrics['accuracy']:.4f}, Precision: {train_metrics['precision']:.4f}, \"\n",
    "            f\"Recall: {train_metrics['recall']:.4f}, F1: {train_metrics['f1_score']:.4f}, AUC: {train_metrics['auc']:.4f}\\n\")\n",
    "    f.write(f\"Validation - Accuracy: {val_metrics['accuracy']:.4f}, Precision: {val_metrics['precision']:.4f}, \"\n",
    "            f\"Recall: {val_metrics['recall']:.4f}, F1: {val_metrics['f1_score']:.4f}, AUC: {val_metrics['auc']:.4f}\\n\")\n",
    "    f.write(f\"Test - Accuracy: {test_metrics['accuracy']:.4f}, Precision: {test_metrics['precision']:.4f}, \"\n",
    "            f\"Recall: {test_metrics['recall']:.4f}, F1: {test_metrics['f1_score']:.4f}, AUC: {test_metrics['auc']:.4f}\\n\")\n",
    "\n",
    "print(f\"{model_name} model training and evaluation complete!\")"
   ]
  },
  {
   "cell_type": "markdown",
   "metadata": {
    "id": "pHNuRYSEt0XJ"
   },
   "source": [
    "3. VGG16 Model"
   ]
  },
  {
   "cell_type": "code",
   "execution_count": 33,
   "metadata": {
    "id": "n6lfZLF0XYqi"
   },
   "outputs": [],
   "source": [
    "def create_vgg16_classifier(input_shape, num_classes):\n",
    "    \"\"\"\n",
    "    Create a transfer learning model for waste classification using VGG16\n",
    "    \"\"\"\n",
    "    # Initialize VGG16 base model\n",
    "    base_model = VGG16(weights='imagenet', include_top=False, input_shape=input_shape)\n",
    "\n",
    "    # Freeze all layers in the base model\n",
    "    for layer in base_model.layers:\n",
    "        layer.trainable = False\n",
    "\n",
    "    # Get the output from the base model\n",
    "    x = base_model.output\n",
    "\n",
    "    # Add custom classification head with regularization techniques\n",
    "    x = GlobalAveragePooling2D()(x)\n",
    "    x = BatchNormalization()(x)\n",
    "    x = Dense(256, activation='relu', kernel_regularizer=l2(0.001))(x)\n",
    "    x = BatchNormalization()(x)\n",
    "    x = Dropout(0.2)(x)  # 20% dropout rate as specified\n",
    "\n",
    "    # Final classification layer with softmax\n",
    "    predictions = Dense(num_classes, activation='softmax', kernel_regularizer=l2(0.001))(x)\n",
    "\n",
    "    # Create and compile the model with lower learning rate\n",
    "    model = Model(inputs=base_model.input, outputs=predictions)\n",
    "    model.compile(\n",
    "        optimizer=Adam(learning_rate=0.0001),  # Optimized lower learning rate\n",
    "        loss='categorical_crossentropy',\n",
    "        metrics=['accuracy']\n",
    "    )\n",
    "\n",
    "    return model"
   ]
  },
  {
   "cell_type": "code",
   "execution_count": 34,
   "metadata": {
    "id": "7GZUgEjUXYgV"
   },
   "outputs": [],
   "source": [
    "model_name = 'VGG16'\n",
    "input_shape = (*image_size, 3)\n",
    "vgg16_model = create_vgg16_classifier(input_shape, num_classes)\n",
    "\n",
    "callbacks = [\n",
    "    DelayedEarlyStopping(\n",
    "        min_epochs=50,            # Start monitoring only after 50 epochs\n",
    "        monitor='val_loss',\n",
    "        patience=10,\n",
    "        verbose=1,\n",
    "        restore_best_weights=True\n",
    "    ),\n",
    "    ModelCheckpoint(\n",
    "        f'{model_name}_waste_classifier.h5',\n",
    "        monitor='val_loss',\n",
    "        save_best_only=True,\n",
    "        verbose=1\n",
    "    ),\n",
    "    # Add learning rate reduction\n",
    "    ReduceLROnPlateau(\n",
    "        monitor='val_loss',\n",
    "        factor=0.5,\n",
    "        patience=5,\n",
    "        min_lr=0.00001,\n",
    "        verbose=1\n",
    "    )\n",
    "]\n"
   ]
  },
  {
   "cell_type": "code",
   "execution_count": 35,
   "metadata": {
    "colab": {
     "base_uri": "https://localhost:8080/"
    },
    "id": "H2aqr9iKXYVJ",
    "outputId": "9a8d870b-56af-4baf-fe2e-67250fd49153"
   },
   "outputs": [
    {
     "name": "stdout",
     "output_type": "stream",
     "text": [
      "Training VGG16 model with minimum 50 epochs...\n",
      "Epoch 1/100\n",
      "\u001b[1m607/607\u001b[0m \u001b[32m━━━━━━━━━━━━━━━━━━━━\u001b[0m\u001b[37m\u001b[0m \u001b[1m0s\u001b[0m 97ms/step - accuracy: 0.1936 - loss: 3.0173\n",
      "Epoch 1: val_loss improved from inf to 2.33029, saving model to VGG16_waste_classifier.h5\n"
     ]
    },
    {
     "name": "stderr",
     "output_type": "stream",
     "text": [
      "WARNING:absl:You are saving your model as an HDF5 file via `model.save()` or `keras.saving.save_model(model)`. This file format is considered legacy. We recommend using instead the native Keras format, e.g. `model.save('my_model.keras')` or `keras.saving.save_model(model, 'my_model.keras')`. \n"
     ]
    },
    {
     "name": "stdout",
     "output_type": "stream",
     "text": [
      "\b\b\b\b\b\b\b\b\b\b\b\b\b\b\b\b\b\b\b\b\b\b\b\b\b\b\b\b\b\b\b\b\b\b\b\b\b\b\b\b\b\b\b\b\b\b\b\b\b\b\b\b\b\b\b\b\b\b\b\b\b\b\b\b\b\b\b\b\b\b\b\b\b\b\b\r",
      "\u001b[1m607/607\u001b[0m \u001b[32m━━━━━━━━━━━━━━━━━━━━\u001b[0m\u001b[37m\u001b[0m \u001b[1m69s\u001b[0m 107ms/step - accuracy: 0.1937 - loss: 3.0167 - val_accuracy: 0.3783 - val_loss: 2.3303 - learning_rate: 1.0000e-04\n",
      "Epoch 2/100\n",
      "\u001b[1m607/607\u001b[0m \u001b[32m━━━━━━━━━━━━━━━━━━━━\u001b[0m\u001b[37m\u001b[0m \u001b[1m0s\u001b[0m 95ms/step - accuracy: 0.4033 - loss: 2.1347\n",
      "Epoch 2: val_loss improved from 2.33029 to 1.96781, saving model to VGG16_waste_classifier.h5\n"
     ]
    },
    {
     "name": "stderr",
     "output_type": "stream",
     "text": [
      "WARNING:absl:You are saving your model as an HDF5 file via `model.save()` or `keras.saving.save_model(model)`. This file format is considered legacy. We recommend using instead the native Keras format, e.g. `model.save('my_model.keras')` or `keras.saving.save_model(model, 'my_model.keras')`. \n"
     ]
    },
    {
     "name": "stdout",
     "output_type": "stream",
     "text": [
      "\b\b\b\b\b\b\b\b\b\b\b\b\b\b\b\b\b\b\b\b\b\b\b\b\b\b\b\b\b\b\b\b\b\b\b\b\b\b\b\b\b\b\b\b\b\b\b\b\b\b\b\b\b\b\b\b\b\b\b\b\b\b\b\b\b\b\b\b\b\b\b\b\b\b\b\r",
      "\u001b[1m607/607\u001b[0m \u001b[32m━━━━━━━━━━━━━━━━━━━━\u001b[0m\u001b[37m\u001b[0m \u001b[1m63s\u001b[0m 104ms/step - accuracy: 0.4034 - loss: 2.1346 - val_accuracy: 0.4987 - val_loss: 1.9678 - learning_rate: 1.0000e-04\n",
      "Epoch 3/100\n",
      "\u001b[1m607/607\u001b[0m \u001b[32m━━━━━━━━━━━━━━━━━━━━\u001b[0m\u001b[37m\u001b[0m \u001b[1m0s\u001b[0m 96ms/step - accuracy: 0.4804 - loss: 1.9196\n",
      "Epoch 3: val_loss improved from 1.96781 to 1.78951, saving model to VGG16_waste_classifier.h5\n"
     ]
    },
    {
     "name": "stderr",
     "output_type": "stream",
     "text": [
      "WARNING:absl:You are saving your model as an HDF5 file via `model.save()` or `keras.saving.save_model(model)`. This file format is considered legacy. We recommend using instead the native Keras format, e.g. `model.save('my_model.keras')` or `keras.saving.save_model(model, 'my_model.keras')`. \n"
     ]
    },
    {
     "name": "stdout",
     "output_type": "stream",
     "text": [
      "\b\b\b\b\b\b\b\b\b\b\b\b\b\b\b\b\b\b\b\b\b\b\b\b\b\b\b\b\b\b\b\b\b\b\b\b\b\b\b\b\b\b\b\b\b\b\b\b\b\b\b\b\b\b\b\b\b\b\b\b\b\b\b\b\b\b\b\b\b\b\b\b\b\b\b\r",
      "\u001b[1m607/607\u001b[0m \u001b[32m━━━━━━━━━━━━━━━━━━━━\u001b[0m\u001b[37m\u001b[0m \u001b[1m64s\u001b[0m 105ms/step - accuracy: 0.4804 - loss: 1.9196 - val_accuracy: 0.5524 - val_loss: 1.7895 - learning_rate: 1.0000e-04\n",
      "Epoch 4/100\n",
      "\u001b[1m607/607\u001b[0m \u001b[32m━━━━━━━━━━━━━━━━━━━━\u001b[0m\u001b[37m\u001b[0m \u001b[1m0s\u001b[0m 95ms/step - accuracy: 0.5350 - loss: 1.7524\n",
      "Epoch 4: val_loss improved from 1.78951 to 1.72174, saving model to VGG16_waste_classifier.h5\n"
     ]
    },
    {
     "name": "stderr",
     "output_type": "stream",
     "text": [
      "WARNING:absl:You are saving your model as an HDF5 file via `model.save()` or `keras.saving.save_model(model)`. This file format is considered legacy. We recommend using instead the native Keras format, e.g. `model.save('my_model.keras')` or `keras.saving.save_model(model, 'my_model.keras')`. \n"
     ]
    },
    {
     "name": "stdout",
     "output_type": "stream",
     "text": [
      "\b\b\b\b\b\b\b\b\b\b\b\b\b\b\b\b\b\b\b\b\b\b\b\b\b\b\b\b\b\b\b\b\b\b\b\b\b\b\b\b\b\b\b\b\b\b\b\b\b\b\b\b\b\b\b\b\b\b\b\b\b\b\b\b\b\b\b\b\b\b\b\b\b\b\b\r",
      "\u001b[1m607/607\u001b[0m \u001b[32m━━━━━━━━━━━━━━━━━━━━\u001b[0m\u001b[37m\u001b[0m \u001b[1m63s\u001b[0m 104ms/step - accuracy: 0.5350 - loss: 1.7525 - val_accuracy: 0.5641 - val_loss: 1.7217 - learning_rate: 1.0000e-04\n",
      "Epoch 5/100\n",
      "\u001b[1m607/607\u001b[0m \u001b[32m━━━━━━━━━━━━━━━━━━━━\u001b[0m\u001b[37m\u001b[0m \u001b[1m0s\u001b[0m 95ms/step - accuracy: 0.5514 - loss: 1.7087\n",
      "Epoch 5: val_loss improved from 1.72174 to 1.65007, saving model to VGG16_waste_classifier.h5\n"
     ]
    },
    {
     "name": "stderr",
     "output_type": "stream",
     "text": [
      "WARNING:absl:You are saving your model as an HDF5 file via `model.save()` or `keras.saving.save_model(model)`. This file format is considered legacy. We recommend using instead the native Keras format, e.g. `model.save('my_model.keras')` or `keras.saving.save_model(model, 'my_model.keras')`. \n"
     ]
    },
    {
     "name": "stdout",
     "output_type": "stream",
     "text": [
      "\b\b\b\b\b\b\b\b\b\b\b\b\b\b\b\b\b\b\b\b\b\b\b\b\b\b\b\b\b\b\b\b\b\b\b\b\b\b\b\b\b\b\b\b\b\b\b\b\b\b\b\b\b\b\b\b\b\b\b\b\b\b\b\b\b\b\b\b\b\b\b\b\b\b\b\r",
      "\u001b[1m607/607\u001b[0m \u001b[32m━━━━━━━━━━━━━━━━━━━━\u001b[0m\u001b[37m\u001b[0m \u001b[1m63s\u001b[0m 104ms/step - accuracy: 0.5514 - loss: 1.7087 - val_accuracy: 0.6034 - val_loss: 1.6501 - learning_rate: 1.0000e-04\n",
      "Epoch 6/100\n",
      "\u001b[1m607/607\u001b[0m \u001b[32m━━━━━━━━━━━━━━━━━━━━\u001b[0m\u001b[37m\u001b[0m \u001b[1m0s\u001b[0m 95ms/step - accuracy: 0.5726 - loss: 1.5993\n",
      "Epoch 6: val_loss improved from 1.65007 to 1.62709, saving model to VGG16_waste_classifier.h5\n"
     ]
    },
    {
     "name": "stderr",
     "output_type": "stream",
     "text": [
      "WARNING:absl:You are saving your model as an HDF5 file via `model.save()` or `keras.saving.save_model(model)`. This file format is considered legacy. We recommend using instead the native Keras format, e.g. `model.save('my_model.keras')` or `keras.saving.save_model(model, 'my_model.keras')`. \n"
     ]
    },
    {
     "name": "stdout",
     "output_type": "stream",
     "text": [
      "\b\b\b\b\b\b\b\b\b\b\b\b\b\b\b\b\b\b\b\b\b\b\b\b\b\b\b\b\b\b\b\b\b\b\b\b\b\b\b\b\b\b\b\b\b\b\b\b\b\b\b\b\b\b\b\b\b\b\b\b\b\b\b\b\b\b\b\b\b\b\b\b\b\b\b\r",
      "\u001b[1m607/607\u001b[0m \u001b[32m━━━━━━━━━━━━━━━━━━━━\u001b[0m\u001b[37m\u001b[0m \u001b[1m63s\u001b[0m 104ms/step - accuracy: 0.5726 - loss: 1.5993 - val_accuracy: 0.6060 - val_loss: 1.6271 - learning_rate: 1.0000e-04\n",
      "Epoch 7/100\n",
      "\u001b[1m607/607\u001b[0m \u001b[32m━━━━━━━━━━━━━━━━━━━━\u001b[0m\u001b[37m\u001b[0m \u001b[1m0s\u001b[0m 95ms/step - accuracy: 0.5821 - loss: 1.5285\n",
      "Epoch 7: val_loss improved from 1.62709 to 1.58949, saving model to VGG16_waste_classifier.h5\n"
     ]
    },
    {
     "name": "stderr",
     "output_type": "stream",
     "text": [
      "WARNING:absl:You are saving your model as an HDF5 file via `model.save()` or `keras.saving.save_model(model)`. This file format is considered legacy. We recommend using instead the native Keras format, e.g. `model.save('my_model.keras')` or `keras.saving.save_model(model, 'my_model.keras')`. \n"
     ]
    },
    {
     "name": "stdout",
     "output_type": "stream",
     "text": [
      "\b\b\b\b\b\b\b\b\b\b\b\b\b\b\b\b\b\b\b\b\b\b\b\b\b\b\b\b\b\b\b\b\b\b\b\b\b\b\b\b\b\b\b\b\b\b\b\b\b\b\b\b\b\b\b\b\b\b\b\b\b\b\b\b\b\b\b\b\b\b\b\b\b\b\b\r",
      "\u001b[1m607/607\u001b[0m \u001b[32m━━━━━━━━━━━━━━━━━━━━\u001b[0m\u001b[37m\u001b[0m \u001b[1m63s\u001b[0m 104ms/step - accuracy: 0.5821 - loss: 1.5285 - val_accuracy: 0.6139 - val_loss: 1.5895 - learning_rate: 1.0000e-04\n",
      "Epoch 8/100\n",
      "\u001b[1m607/607\u001b[0m \u001b[32m━━━━━━━━━━━━━━━━━━━━\u001b[0m\u001b[37m\u001b[0m \u001b[1m0s\u001b[0m 96ms/step - accuracy: 0.5902 - loss: 1.5323\n",
      "Epoch 8: val_loss improved from 1.58949 to 1.55324, saving model to VGG16_waste_classifier.h5\n"
     ]
    },
    {
     "name": "stderr",
     "output_type": "stream",
     "text": [
      "WARNING:absl:You are saving your model as an HDF5 file via `model.save()` or `keras.saving.save_model(model)`. This file format is considered legacy. We recommend using instead the native Keras format, e.g. `model.save('my_model.keras')` or `keras.saving.save_model(model, 'my_model.keras')`. \n"
     ]
    },
    {
     "name": "stdout",
     "output_type": "stream",
     "text": [
      "\b\b\b\b\b\b\b\b\b\b\b\b\b\b\b\b\b\b\b\b\b\b\b\b\b\b\b\b\b\b\b\b\b\b\b\b\b\b\b\b\b\b\b\b\b\b\b\b\b\b\b\b\b\b\b\b\b\b\b\b\b\b\b\b\b\b\b\b\b\b\b\b\b\b\b\r",
      "\u001b[1m607/607\u001b[0m \u001b[32m━━━━━━━━━━━━━━━━━━━━\u001b[0m\u001b[37m\u001b[0m \u001b[1m63s\u001b[0m 105ms/step - accuracy: 0.5902 - loss: 1.5324 - val_accuracy: 0.6466 - val_loss: 1.5532 - learning_rate: 1.0000e-04\n",
      "Epoch 9/100\n",
      "\u001b[1m607/607\u001b[0m \u001b[32m━━━━━━━━━━━━━━━━━━━━\u001b[0m\u001b[37m\u001b[0m \u001b[1m0s\u001b[0m 94ms/step - accuracy: 0.5952 - loss: 1.4941\n",
      "Epoch 9: val_loss improved from 1.55324 to 1.51142, saving model to VGG16_waste_classifier.h5\n"
     ]
    },
    {
     "name": "stderr",
     "output_type": "stream",
     "text": [
      "WARNING:absl:You are saving your model as an HDF5 file via `model.save()` or `keras.saving.save_model(model)`. This file format is considered legacy. We recommend using instead the native Keras format, e.g. `model.save('my_model.keras')` or `keras.saving.save_model(model, 'my_model.keras')`. \n"
     ]
    },
    {
     "name": "stdout",
     "output_type": "stream",
     "text": [
      "\b\b\b\b\b\b\b\b\b\b\b\b\b\b\b\b\b\b\b\b\b\b\b\b\b\b\b\b\b\b\b\b\b\b\b\b\b\b\b\b\b\b\b\b\b\b\b\b\b\b\b\b\b\b\b\b\b\b\b\b\b\b\b\b\b\b\b\b\b\b\b\b\b\b\b\r",
      "\u001b[1m607/607\u001b[0m \u001b[32m━━━━━━━━━━━━━━━━━━━━\u001b[0m\u001b[37m\u001b[0m \u001b[1m63s\u001b[0m 104ms/step - accuracy: 0.5952 - loss: 1.4941 - val_accuracy: 0.6466 - val_loss: 1.5114 - learning_rate: 1.0000e-04\n",
      "Epoch 10/100\n",
      "\u001b[1m607/607\u001b[0m \u001b[32m━━━━━━━━━━━━━━━━━━━━\u001b[0m\u001b[37m\u001b[0m \u001b[1m0s\u001b[0m 95ms/step - accuracy: 0.6136 - loss: 1.4811\n",
      "Epoch 10: val_loss improved from 1.51142 to 1.51037, saving model to VGG16_waste_classifier.h5\n"
     ]
    },
    {
     "name": "stderr",
     "output_type": "stream",
     "text": [
      "WARNING:absl:You are saving your model as an HDF5 file via `model.save()` or `keras.saving.save_model(model)`. This file format is considered legacy. We recommend using instead the native Keras format, e.g. `model.save('my_model.keras')` or `keras.saving.save_model(model, 'my_model.keras')`. \n"
     ]
    },
    {
     "name": "stdout",
     "output_type": "stream",
     "text": [
      "\b\b\b\b\b\b\b\b\b\b\b\b\b\b\b\b\b\b\b\b\b\b\b\b\b\b\b\b\b\b\b\b\b\b\b\b\b\b\b\b\b\b\b\b\b\b\b\b\b\b\b\b\b\b\b\b\b\b\b\b\b\b\b\b\b\b\b\b\b\b\b\b\b\b\b\r",
      "\u001b[1m607/607\u001b[0m \u001b[32m━━━━━━━━━━━━━━━━━━━━\u001b[0m\u001b[37m\u001b[0m \u001b[1m63s\u001b[0m 104ms/step - accuracy: 0.6136 - loss: 1.4812 - val_accuracy: 0.6440 - val_loss: 1.5104 - learning_rate: 1.0000e-04\n",
      "Epoch 11/100\n",
      "\u001b[1m607/607\u001b[0m \u001b[32m━━━━━━━━━━━━━━━━━━━━\u001b[0m\u001b[37m\u001b[0m \u001b[1m0s\u001b[0m 96ms/step - accuracy: 0.6274 - loss: 1.3983\n",
      "Epoch 11: val_loss improved from 1.51037 to 1.50616, saving model to VGG16_waste_classifier.h5\n"
     ]
    },
    {
     "name": "stderr",
     "output_type": "stream",
     "text": [
      "WARNING:absl:You are saving your model as an HDF5 file via `model.save()` or `keras.saving.save_model(model)`. This file format is considered legacy. We recommend using instead the native Keras format, e.g. `model.save('my_model.keras')` or `keras.saving.save_model(model, 'my_model.keras')`. \n"
     ]
    },
    {
     "name": "stdout",
     "output_type": "stream",
     "text": [
      "\b\b\b\b\b\b\b\b\b\b\b\b\b\b\b\b\b\b\b\b\b\b\b\b\b\b\b\b\b\b\b\b\b\b\b\b\b\b\b\b\b\b\b\b\b\b\b\b\b\b\b\b\b\b\b\b\b\b\b\b\b\b\b\b\b\b\b\b\b\b\b\b\b\b\b\r",
      "\u001b[1m607/607\u001b[0m \u001b[32m━━━━━━━━━━━━━━━━━━━━\u001b[0m\u001b[37m\u001b[0m \u001b[1m63s\u001b[0m 104ms/step - accuracy: 0.6274 - loss: 1.3983 - val_accuracy: 0.6466 - val_loss: 1.5062 - learning_rate: 1.0000e-04\n",
      "Epoch 12/100\n",
      "\u001b[1m607/607\u001b[0m \u001b[32m━━━━━━━━━━━━━━━━━━━━\u001b[0m\u001b[37m\u001b[0m \u001b[1m0s\u001b[0m 95ms/step - accuracy: 0.6344 - loss: 1.4177\n",
      "Epoch 12: val_loss improved from 1.50616 to 1.49799, saving model to VGG16_waste_classifier.h5\n"
     ]
    },
    {
     "name": "stderr",
     "output_type": "stream",
     "text": [
      "WARNING:absl:You are saving your model as an HDF5 file via `model.save()` or `keras.saving.save_model(model)`. This file format is considered legacy. We recommend using instead the native Keras format, e.g. `model.save('my_model.keras')` or `keras.saving.save_model(model, 'my_model.keras')`. \n"
     ]
    },
    {
     "name": "stdout",
     "output_type": "stream",
     "text": [
      "\b\b\b\b\b\b\b\b\b\b\b\b\b\b\b\b\b\b\b\b\b\b\b\b\b\b\b\b\b\b\b\b\b\b\b\b\b\b\b\b\b\b\b\b\b\b\b\b\b\b\b\b\b\b\b\b\b\b\b\b\b\b\b\b\b\b\b\b\b\b\b\b\b\b\b\r",
      "\u001b[1m607/607\u001b[0m \u001b[32m━━━━━━━━━━━━━━━━━━━━\u001b[0m\u001b[37m\u001b[0m \u001b[1m63s\u001b[0m 105ms/step - accuracy: 0.6344 - loss: 1.4177 - val_accuracy: 0.6414 - val_loss: 1.4980 - learning_rate: 1.0000e-04\n",
      "Epoch 13/100\n",
      "\u001b[1m607/607\u001b[0m \u001b[32m━━━━━━━━━━━━━━━━━━━━\u001b[0m\u001b[37m\u001b[0m \u001b[1m0s\u001b[0m 95ms/step - accuracy: 0.6327 - loss: 1.3751\n",
      "Epoch 13: val_loss improved from 1.49799 to 1.46984, saving model to VGG16_waste_classifier.h5\n"
     ]
    },
    {
     "name": "stderr",
     "output_type": "stream",
     "text": [
      "WARNING:absl:You are saving your model as an HDF5 file via `model.save()` or `keras.saving.save_model(model)`. This file format is considered legacy. We recommend using instead the native Keras format, e.g. `model.save('my_model.keras')` or `keras.saving.save_model(model, 'my_model.keras')`. \n"
     ]
    },
    {
     "name": "stdout",
     "output_type": "stream",
     "text": [
      "\b\b\b\b\b\b\b\b\b\b\b\b\b\b\b\b\b\b\b\b\b\b\b\b\b\b\b\b\b\b\b\b\b\b\b\b\b\b\b\b\b\b\b\b\b\b\b\b\b\b\b\b\b\b\b\b\b\b\b\b\b\b\b\b\b\b\b\b\b\b\b\b\b\b\b\r",
      "\u001b[1m607/607\u001b[0m \u001b[32m━━━━━━━━━━━━━━━━━━━━\u001b[0m\u001b[37m\u001b[0m \u001b[1m63s\u001b[0m 104ms/step - accuracy: 0.6327 - loss: 1.3751 - val_accuracy: 0.6558 - val_loss: 1.4698 - learning_rate: 1.0000e-04\n",
      "Epoch 14/100\n",
      "\u001b[1m607/607\u001b[0m \u001b[32m━━━━━━━━━━━━━━━━━━━━\u001b[0m\u001b[37m\u001b[0m \u001b[1m0s\u001b[0m 95ms/step - accuracy: 0.6411 - loss: 1.3714\n",
      "Epoch 14: val_loss improved from 1.46984 to 1.44223, saving model to VGG16_waste_classifier.h5\n"
     ]
    },
    {
     "name": "stderr",
     "output_type": "stream",
     "text": [
      "WARNING:absl:You are saving your model as an HDF5 file via `model.save()` or `keras.saving.save_model(model)`. This file format is considered legacy. We recommend using instead the native Keras format, e.g. `model.save('my_model.keras')` or `keras.saving.save_model(model, 'my_model.keras')`. \n"
     ]
    },
    {
     "name": "stdout",
     "output_type": "stream",
     "text": [
      "\b\b\b\b\b\b\b\b\b\b\b\b\b\b\b\b\b\b\b\b\b\b\b\b\b\b\b\b\b\b\b\b\b\b\b\b\b\b\b\b\b\b\b\b\b\b\b\b\b\b\b\b\b\b\b\b\b\b\b\b\b\b\b\b\b\b\b\b\b\b\b\b\b\b\b\r",
      "\u001b[1m607/607\u001b[0m \u001b[32m━━━━━━━━━━━━━━━━━━━━\u001b[0m\u001b[37m\u001b[0m \u001b[1m63s\u001b[0m 104ms/step - accuracy: 0.6411 - loss: 1.3714 - val_accuracy: 0.6688 - val_loss: 1.4422 - learning_rate: 1.0000e-04\n",
      "Epoch 15/100\n",
      "\u001b[1m607/607\u001b[0m \u001b[32m━━━━━━━━━━━━━━━━━━━━\u001b[0m\u001b[37m\u001b[0m \u001b[1m0s\u001b[0m 95ms/step - accuracy: 0.6310 - loss: 1.3592\n",
      "Epoch 15: val_loss did not improve from 1.44223\n",
      "\u001b[1m607/607\u001b[0m \u001b[32m━━━━━━━━━━━━━━━━━━━━\u001b[0m\u001b[37m\u001b[0m \u001b[1m63s\u001b[0m 104ms/step - accuracy: 0.6310 - loss: 1.3592 - val_accuracy: 0.6715 - val_loss: 1.4590 - learning_rate: 1.0000e-04\n",
      "Epoch 16/100\n",
      "\u001b[1m607/607\u001b[0m \u001b[32m━━━━━━━━━━━━━━━━━━━━\u001b[0m\u001b[37m\u001b[0m \u001b[1m0s\u001b[0m 95ms/step - accuracy: 0.6556 - loss: 1.2922\n",
      "Epoch 16: val_loss improved from 1.44223 to 1.41604, saving model to VGG16_waste_classifier.h5\n"
     ]
    },
    {
     "name": "stderr",
     "output_type": "stream",
     "text": [
      "WARNING:absl:You are saving your model as an HDF5 file via `model.save()` or `keras.saving.save_model(model)`. This file format is considered legacy. We recommend using instead the native Keras format, e.g. `model.save('my_model.keras')` or `keras.saving.save_model(model, 'my_model.keras')`. \n"
     ]
    },
    {
     "name": "stdout",
     "output_type": "stream",
     "text": [
      "\b\b\b\b\b\b\b\b\b\b\b\b\b\b\b\b\b\b\b\b\b\b\b\b\b\b\b\b\b\b\b\b\b\b\b\b\b\b\b\b\b\b\b\b\b\b\b\b\b\b\b\b\b\b\b\b\b\b\b\b\b\b\b\b\b\b\b\b\b\b\b\b\b\b\b\r",
      "\u001b[1m607/607\u001b[0m \u001b[32m━━━━━━━━━━━━━━━━━━━━\u001b[0m\u001b[37m\u001b[0m \u001b[1m63s\u001b[0m 104ms/step - accuracy: 0.6556 - loss: 1.2923 - val_accuracy: 0.6819 - val_loss: 1.4160 - learning_rate: 1.0000e-04\n",
      "Epoch 17/100\n",
      "\u001b[1m607/607\u001b[0m \u001b[32m━━━━━━━━━━━━━━━━━━━━\u001b[0m\u001b[37m\u001b[0m \u001b[1m0s\u001b[0m 95ms/step - accuracy: 0.6732 - loss: 1.3023\n",
      "Epoch 17: val_loss did not improve from 1.41604\n",
      "\u001b[1m607/607\u001b[0m \u001b[32m━━━━━━━━━━━━━━━━━━━━\u001b[0m\u001b[37m\u001b[0m \u001b[1m63s\u001b[0m 104ms/step - accuracy: 0.6732 - loss: 1.3023 - val_accuracy: 0.6610 - val_loss: 1.4326 - learning_rate: 1.0000e-04\n",
      "Epoch 18/100\n",
      "\u001b[1m607/607\u001b[0m \u001b[32m━━━━━━━━━━━━━━━━━━━━\u001b[0m\u001b[37m\u001b[0m \u001b[1m0s\u001b[0m 95ms/step - accuracy: 0.6398 - loss: 1.3573\n",
      "Epoch 18: val_loss improved from 1.41604 to 1.40863, saving model to VGG16_waste_classifier.h5\n"
     ]
    },
    {
     "name": "stderr",
     "output_type": "stream",
     "text": [
      "WARNING:absl:You are saving your model as an HDF5 file via `model.save()` or `keras.saving.save_model(model)`. This file format is considered legacy. We recommend using instead the native Keras format, e.g. `model.save('my_model.keras')` or `keras.saving.save_model(model, 'my_model.keras')`. \n"
     ]
    },
    {
     "name": "stdout",
     "output_type": "stream",
     "text": [
      "\b\b\b\b\b\b\b\b\b\b\b\b\b\b\b\b\b\b\b\b\b\b\b\b\b\b\b\b\b\b\b\b\b\b\b\b\b\b\b\b\b\b\b\b\b\b\b\b\b\b\b\b\b\b\b\b\b\b\b\b\b\b\b\b\b\b\b\b\b\b\b\b\b\b\b\r",
      "\u001b[1m607/607\u001b[0m \u001b[32m━━━━━━━━━━━━━━━━━━━━\u001b[0m\u001b[37m\u001b[0m \u001b[1m63s\u001b[0m 104ms/step - accuracy: 0.6398 - loss: 1.3573 - val_accuracy: 0.6636 - val_loss: 1.4086 - learning_rate: 1.0000e-04\n",
      "Epoch 19/100\n",
      "\u001b[1m607/607\u001b[0m \u001b[32m━━━━━━━━━━━━━━━━━━━━\u001b[0m\u001b[37m\u001b[0m \u001b[1m0s\u001b[0m 95ms/step - accuracy: 0.6697 - loss: 1.2850\n",
      "Epoch 19: val_loss improved from 1.40863 to 1.39294, saving model to VGG16_waste_classifier.h5\n"
     ]
    },
    {
     "name": "stderr",
     "output_type": "stream",
     "text": [
      "WARNING:absl:You are saving your model as an HDF5 file via `model.save()` or `keras.saving.save_model(model)`. This file format is considered legacy. We recommend using instead the native Keras format, e.g. `model.save('my_model.keras')` or `keras.saving.save_model(model, 'my_model.keras')`. \n"
     ]
    },
    {
     "name": "stdout",
     "output_type": "stream",
     "text": [
      "\b\b\b\b\b\b\b\b\b\b\b\b\b\b\b\b\b\b\b\b\b\b\b\b\b\b\b\b\b\b\b\b\b\b\b\b\b\b\b\b\b\b\b\b\b\b\b\b\b\b\b\b\b\b\b\b\b\b\b\b\b\b\b\b\b\b\b\b\b\b\b\b\b\b\b\r",
      "\u001b[1m607/607\u001b[0m \u001b[32m━━━━━━━━━━━━━━━━━━━━\u001b[0m\u001b[37m\u001b[0m \u001b[1m63s\u001b[0m 104ms/step - accuracy: 0.6697 - loss: 1.2850 - val_accuracy: 0.6754 - val_loss: 1.3929 - learning_rate: 1.0000e-04\n",
      "Epoch 20/100\n",
      "\u001b[1m607/607\u001b[0m \u001b[32m━━━━━━━━━━━━━━━━━━━━\u001b[0m\u001b[37m\u001b[0m \u001b[1m0s\u001b[0m 95ms/step - accuracy: 0.6598 - loss: 1.2757\n",
      "Epoch 20: val_loss improved from 1.39294 to 1.36696, saving model to VGG16_waste_classifier.h5\n"
     ]
    },
    {
     "name": "stderr",
     "output_type": "stream",
     "text": [
      "WARNING:absl:You are saving your model as an HDF5 file via `model.save()` or `keras.saving.save_model(model)`. This file format is considered legacy. We recommend using instead the native Keras format, e.g. `model.save('my_model.keras')` or `keras.saving.save_model(model, 'my_model.keras')`. \n"
     ]
    },
    {
     "name": "stdout",
     "output_type": "stream",
     "text": [
      "\b\b\b\b\b\b\b\b\b\b\b\b\b\b\b\b\b\b\b\b\b\b\b\b\b\b\b\b\b\b\b\b\b\b\b\b\b\b\b\b\b\b\b\b\b\b\b\b\b\b\b\b\b\b\b\b\b\b\b\b\b\b\b\b\b\b\b\b\b\b\b\b\b\b\b\r",
      "\u001b[1m607/607\u001b[0m \u001b[32m━━━━━━━━━━━━━━━━━━━━\u001b[0m\u001b[37m\u001b[0m \u001b[1m63s\u001b[0m 104ms/step - accuracy: 0.6598 - loss: 1.2757 - val_accuracy: 0.6885 - val_loss: 1.3670 - learning_rate: 1.0000e-04\n",
      "Epoch 21/100\n",
      "\u001b[1m607/607\u001b[0m \u001b[32m━━━━━━━━━━━━━━━━━━━━\u001b[0m\u001b[37m\u001b[0m \u001b[1m0s\u001b[0m 95ms/step - accuracy: 0.6514 - loss: 1.3127\n",
      "Epoch 21: val_loss did not improve from 1.36696\n",
      "\u001b[1m607/607\u001b[0m \u001b[32m━━━━━━━━━━━━━━━━━━━━\u001b[0m\u001b[37m\u001b[0m \u001b[1m63s\u001b[0m 104ms/step - accuracy: 0.6514 - loss: 1.3126 - val_accuracy: 0.6649 - val_loss: 1.3975 - learning_rate: 1.0000e-04\n",
      "Epoch 22/100\n",
      "\u001b[1m607/607\u001b[0m \u001b[32m━━━━━━━━━━━━━━━━━━━━\u001b[0m\u001b[37m\u001b[0m \u001b[1m0s\u001b[0m 95ms/step - accuracy: 0.6810 - loss: 1.2344\n",
      "Epoch 22: val_loss did not improve from 1.36696\n",
      "\u001b[1m607/607\u001b[0m \u001b[32m━━━━━━━━━━━━━━━━━━━━\u001b[0m\u001b[37m\u001b[0m \u001b[1m63s\u001b[0m 104ms/step - accuracy: 0.6810 - loss: 1.2344 - val_accuracy: 0.6754 - val_loss: 1.3674 - learning_rate: 1.0000e-04\n",
      "Epoch 23/100\n",
      "\u001b[1m607/607\u001b[0m \u001b[32m━━━━━━━━━━━━━━━━━━━━\u001b[0m\u001b[37m\u001b[0m \u001b[1m0s\u001b[0m 95ms/step - accuracy: 0.6667 - loss: 1.2672\n",
      "Epoch 23: val_loss did not improve from 1.36696\n",
      "\u001b[1m607/607\u001b[0m \u001b[32m━━━━━━━━━━━━━━━━━━━━\u001b[0m\u001b[37m\u001b[0m \u001b[1m63s\u001b[0m 103ms/step - accuracy: 0.6667 - loss: 1.2672 - val_accuracy: 0.6702 - val_loss: 1.3893 - learning_rate: 1.0000e-04\n",
      "Epoch 24/100\n",
      "\u001b[1m607/607\u001b[0m \u001b[32m━━━━━━━━━━━━━━━━━━━━\u001b[0m\u001b[37m\u001b[0m \u001b[1m0s\u001b[0m 95ms/step - accuracy: 0.6554 - loss: 1.2742\n",
      "Epoch 24: val_loss improved from 1.36696 to 1.34114, saving model to VGG16_waste_classifier.h5\n"
     ]
    },
    {
     "name": "stderr",
     "output_type": "stream",
     "text": [
      "WARNING:absl:You are saving your model as an HDF5 file via `model.save()` or `keras.saving.save_model(model)`. This file format is considered legacy. We recommend using instead the native Keras format, e.g. `model.save('my_model.keras')` or `keras.saving.save_model(model, 'my_model.keras')`. \n"
     ]
    },
    {
     "name": "stdout",
     "output_type": "stream",
     "text": [
      "\b\b\b\b\b\b\b\b\b\b\b\b\b\b\b\b\b\b\b\b\b\b\b\b\b\b\b\b\b\b\b\b\b\b\b\b\b\b\b\b\b\b\b\b\b\b\b\b\b\b\b\b\b\b\b\b\b\b\b\b\b\b\b\b\b\b\b\b\b\b\b\b\b\b\b\r",
      "\u001b[1m607/607\u001b[0m \u001b[32m━━━━━━━━━━━━━━━━━━━━\u001b[0m\u001b[37m\u001b[0m \u001b[1m63s\u001b[0m 104ms/step - accuracy: 0.6554 - loss: 1.2742 - val_accuracy: 0.6806 - val_loss: 1.3411 - learning_rate: 1.0000e-04\n",
      "Epoch 25/100\n",
      "\u001b[1m607/607\u001b[0m \u001b[32m━━━━━━━━━━━━━━━━━━━━\u001b[0m\u001b[37m\u001b[0m \u001b[1m0s\u001b[0m 95ms/step - accuracy: 0.6718 - loss: 1.2289\n",
      "Epoch 25: val_loss did not improve from 1.34114\n",
      "\u001b[1m607/607\u001b[0m \u001b[32m━━━━━━━━━━━━━━━━━━━━\u001b[0m\u001b[37m\u001b[0m \u001b[1m63s\u001b[0m 104ms/step - accuracy: 0.6718 - loss: 1.2289 - val_accuracy: 0.6688 - val_loss: 1.3433 - learning_rate: 1.0000e-04\n",
      "Epoch 26/100\n",
      "\u001b[1m607/607\u001b[0m \u001b[32m━━━━━━━━━━━━━━━━━━━━\u001b[0m\u001b[37m\u001b[0m \u001b[1m0s\u001b[0m 95ms/step - accuracy: 0.6963 - loss: 1.1820\n",
      "Epoch 26: val_loss improved from 1.34114 to 1.33978, saving model to VGG16_waste_classifier.h5\n"
     ]
    },
    {
     "name": "stderr",
     "output_type": "stream",
     "text": [
      "WARNING:absl:You are saving your model as an HDF5 file via `model.save()` or `keras.saving.save_model(model)`. This file format is considered legacy. We recommend using instead the native Keras format, e.g. `model.save('my_model.keras')` or `keras.saving.save_model(model, 'my_model.keras')`. \n"
     ]
    },
    {
     "name": "stdout",
     "output_type": "stream",
     "text": [
      "\b\b\b\b\b\b\b\b\b\b\b\b\b\b\b\b\b\b\b\b\b\b\b\b\b\b\b\b\b\b\b\b\b\b\b\b\b\b\b\b\b\b\b\b\b\b\b\b\b\b\b\b\b\b\b\b\b\b\b\b\b\b\b\b\b\b\b\b\b\b\b\b\b\b\b\r",
      "\u001b[1m607/607\u001b[0m \u001b[32m━━━━━━━━━━━━━━━━━━━━\u001b[0m\u001b[37m\u001b[0m \u001b[1m63s\u001b[0m 104ms/step - accuracy: 0.6962 - loss: 1.1820 - val_accuracy: 0.6715 - val_loss: 1.3398 - learning_rate: 1.0000e-04\n",
      "Epoch 27/100\n",
      "\u001b[1m607/607\u001b[0m \u001b[32m━━━━━━━━━━━━━━━━━━━━\u001b[0m\u001b[37m\u001b[0m \u001b[1m0s\u001b[0m 95ms/step - accuracy: 0.6592 - loss: 1.2746\n",
      "Epoch 27: val_loss improved from 1.33978 to 1.32576, saving model to VGG16_waste_classifier.h5\n"
     ]
    },
    {
     "name": "stderr",
     "output_type": "stream",
     "text": [
      "WARNING:absl:You are saving your model as an HDF5 file via `model.save()` or `keras.saving.save_model(model)`. This file format is considered legacy. We recommend using instead the native Keras format, e.g. `model.save('my_model.keras')` or `keras.saving.save_model(model, 'my_model.keras')`. \n"
     ]
    },
    {
     "name": "stdout",
     "output_type": "stream",
     "text": [
      "\b\b\b\b\b\b\b\b\b\b\b\b\b\b\b\b\b\b\b\b\b\b\b\b\b\b\b\b\b\b\b\b\b\b\b\b\b\b\b\b\b\b\b\b\b\b\b\b\b\b\b\b\b\b\b\b\b\b\b\b\b\b\b\b\b\b\b\b\b\b\b\b\b\b\b\r",
      "\u001b[1m607/607\u001b[0m \u001b[32m━━━━━━━━━━━━━━━━━━━━\u001b[0m\u001b[37m\u001b[0m \u001b[1m63s\u001b[0m 104ms/step - accuracy: 0.6592 - loss: 1.2746 - val_accuracy: 0.6819 - val_loss: 1.3258 - learning_rate: 1.0000e-04\n",
      "Epoch 28/100\n",
      "\u001b[1m607/607\u001b[0m \u001b[32m━━━━━━━━━━━━━━━━━━━━\u001b[0m\u001b[37m\u001b[0m \u001b[1m0s\u001b[0m 95ms/step - accuracy: 0.6834 - loss: 1.1973\n",
      "Epoch 28: val_loss improved from 1.32576 to 1.30997, saving model to VGG16_waste_classifier.h5\n"
     ]
    },
    {
     "name": "stderr",
     "output_type": "stream",
     "text": [
      "WARNING:absl:You are saving your model as an HDF5 file via `model.save()` or `keras.saving.save_model(model)`. This file format is considered legacy. We recommend using instead the native Keras format, e.g. `model.save('my_model.keras')` or `keras.saving.save_model(model, 'my_model.keras')`. \n"
     ]
    },
    {
     "name": "stdout",
     "output_type": "stream",
     "text": [
      "\b\b\b\b\b\b\b\b\b\b\b\b\b\b\b\b\b\b\b\b\b\b\b\b\b\b\b\b\b\b\b\b\b\b\b\b\b\b\b\b\b\b\b\b\b\b\b\b\b\b\b\b\b\b\b\b\b\b\b\b\b\b\b\b\b\b\b\b\b\b\b\b\b\b\b\r",
      "\u001b[1m607/607\u001b[0m \u001b[32m━━━━━━━━━━━━━━━━━━━━\u001b[0m\u001b[37m\u001b[0m \u001b[1m63s\u001b[0m 104ms/step - accuracy: 0.6834 - loss: 1.1973 - val_accuracy: 0.6688 - val_loss: 1.3100 - learning_rate: 1.0000e-04\n",
      "Epoch 29/100\n",
      "\u001b[1m607/607\u001b[0m \u001b[32m━━━━━━━━━━━━━━━━━━━━\u001b[0m\u001b[37m\u001b[0m \u001b[1m0s\u001b[0m 95ms/step - accuracy: 0.6835 - loss: 1.2060\n",
      "Epoch 29: val_loss improved from 1.30997 to 1.28634, saving model to VGG16_waste_classifier.h5\n"
     ]
    },
    {
     "name": "stderr",
     "output_type": "stream",
     "text": [
      "WARNING:absl:You are saving your model as an HDF5 file via `model.save()` or `keras.saving.save_model(model)`. This file format is considered legacy. We recommend using instead the native Keras format, e.g. `model.save('my_model.keras')` or `keras.saving.save_model(model, 'my_model.keras')`. \n"
     ]
    },
    {
     "name": "stdout",
     "output_type": "stream",
     "text": [
      "\b\b\b\b\b\b\b\b\b\b\b\b\b\b\b\b\b\b\b\b\b\b\b\b\b\b\b\b\b\b\b\b\b\b\b\b\b\b\b\b\b\b\b\b\b\b\b\b\b\b\b\b\b\b\b\b\b\b\b\b\b\b\b\b\b\b\b\b\b\b\b\b\b\b\b\r",
      "\u001b[1m607/607\u001b[0m \u001b[32m━━━━━━━━━━━━━━━━━━━━\u001b[0m\u001b[37m\u001b[0m \u001b[1m63s\u001b[0m 104ms/step - accuracy: 0.6835 - loss: 1.2060 - val_accuracy: 0.6793 - val_loss: 1.2863 - learning_rate: 1.0000e-04\n",
      "Epoch 30/100\n",
      "\u001b[1m607/607\u001b[0m \u001b[32m━━━━━━━━━━━━━━━━━━━━\u001b[0m\u001b[37m\u001b[0m \u001b[1m0s\u001b[0m 96ms/step - accuracy: 0.6944 - loss: 1.1868\n",
      "Epoch 30: val_loss improved from 1.28634 to 1.27717, saving model to VGG16_waste_classifier.h5\n"
     ]
    },
    {
     "name": "stderr",
     "output_type": "stream",
     "text": [
      "WARNING:absl:You are saving your model as an HDF5 file via `model.save()` or `keras.saving.save_model(model)`. This file format is considered legacy. We recommend using instead the native Keras format, e.g. `model.save('my_model.keras')` or `keras.saving.save_model(model, 'my_model.keras')`. \n"
     ]
    },
    {
     "name": "stdout",
     "output_type": "stream",
     "text": [
      "\b\b\b\b\b\b\b\b\b\b\b\b\b\b\b\b\b\b\b\b\b\b\b\b\b\b\b\b\b\b\b\b\b\b\b\b\b\b\b\b\b\b\b\b\b\b\b\b\b\b\b\b\b\b\b\b\b\b\b\b\b\b\b\b\b\b\b\b\b\b\b\b\b\b\b\r",
      "\u001b[1m607/607\u001b[0m \u001b[32m━━━━━━━━━━━━━━━━━━━━\u001b[0m\u001b[37m\u001b[0m \u001b[1m64s\u001b[0m 105ms/step - accuracy: 0.6944 - loss: 1.1868 - val_accuracy: 0.6819 - val_loss: 1.2772 - learning_rate: 1.0000e-04\n",
      "Epoch 31/100\n",
      "\u001b[1m607/607\u001b[0m \u001b[32m━━━━━━━━━━━━━━━━━━━━\u001b[0m\u001b[37m\u001b[0m \u001b[1m0s\u001b[0m 95ms/step - accuracy: 0.7011 - loss: 1.1687\n",
      "Epoch 31: val_loss did not improve from 1.27717\n",
      "\u001b[1m607/607\u001b[0m \u001b[32m━━━━━━━━━━━━━━━━━━━━\u001b[0m\u001b[37m\u001b[0m \u001b[1m63s\u001b[0m 104ms/step - accuracy: 0.7011 - loss: 1.1688 - val_accuracy: 0.6793 - val_loss: 1.3144 - learning_rate: 1.0000e-04\n",
      "Epoch 32/100\n",
      "\u001b[1m607/607\u001b[0m \u001b[32m━━━━━━━━━━━━━━━━━━━━\u001b[0m\u001b[37m\u001b[0m \u001b[1m0s\u001b[0m 95ms/step - accuracy: 0.6844 - loss: 1.1949\n",
      "Epoch 32: val_loss did not improve from 1.27717\n",
      "\u001b[1m607/607\u001b[0m \u001b[32m━━━━━━━━━━━━━━━━━━━━\u001b[0m\u001b[37m\u001b[0m \u001b[1m63s\u001b[0m 104ms/step - accuracy: 0.6844 - loss: 1.1949 - val_accuracy: 0.6872 - val_loss: 1.3059 - learning_rate: 1.0000e-04\n",
      "Epoch 33/100\n",
      "\u001b[1m607/607\u001b[0m \u001b[32m━━━━━━━━━━━━━━━━━━━━\u001b[0m\u001b[37m\u001b[0m \u001b[1m0s\u001b[0m 95ms/step - accuracy: 0.6954 - loss: 1.1759\n",
      "Epoch 33: val_loss did not improve from 1.27717\n",
      "\u001b[1m607/607\u001b[0m \u001b[32m━━━━━━━━━━━━━━━━━━━━\u001b[0m\u001b[37m\u001b[0m \u001b[1m63s\u001b[0m 104ms/step - accuracy: 0.6954 - loss: 1.1759 - val_accuracy: 0.6859 - val_loss: 1.2822 - learning_rate: 1.0000e-04\n",
      "Epoch 34/100\n",
      "\u001b[1m607/607\u001b[0m \u001b[32m━━━━━━━━━━━━━━━━━━━━\u001b[0m\u001b[37m\u001b[0m \u001b[1m0s\u001b[0m 95ms/step - accuracy: 0.7052 - loss: 1.1429\n",
      "Epoch 34: val_loss did not improve from 1.27717\n",
      "\u001b[1m607/607\u001b[0m \u001b[32m━━━━━━━━━━━━━━━━━━━━\u001b[0m\u001b[37m\u001b[0m \u001b[1m63s\u001b[0m 104ms/step - accuracy: 0.7052 - loss: 1.1429 - val_accuracy: 0.6832 - val_loss: 1.3000 - learning_rate: 1.0000e-04\n",
      "Epoch 35/100\n",
      "\u001b[1m607/607\u001b[0m \u001b[32m━━━━━━━━━━━━━━━━━━━━\u001b[0m\u001b[37m\u001b[0m \u001b[1m0s\u001b[0m 94ms/step - accuracy: 0.7160 - loss: 1.1062\n",
      "Epoch 35: val_loss did not improve from 1.27717\n",
      "\n",
      "Epoch 35: ReduceLROnPlateau reducing learning rate to 4.999999873689376e-05.\n",
      "\u001b[1m607/607\u001b[0m \u001b[32m━━━━━━━━━━━━━━━━━━━━\u001b[0m\u001b[37m\u001b[0m \u001b[1m63s\u001b[0m 104ms/step - accuracy: 0.7160 - loss: 1.1062 - val_accuracy: 0.6767 - val_loss: 1.2858 - learning_rate: 1.0000e-04\n",
      "Epoch 36/100\n",
      "\u001b[1m607/607\u001b[0m \u001b[32m━━━━━━━━━━━━━━━━━━━━\u001b[0m\u001b[37m\u001b[0m \u001b[1m0s\u001b[0m 95ms/step - accuracy: 0.7019 - loss: 1.1282\n",
      "Epoch 36: val_loss did not improve from 1.27717\n",
      "\u001b[1m607/607\u001b[0m \u001b[32m━━━━━━━━━━━━━━━━━━━━\u001b[0m\u001b[37m\u001b[0m \u001b[1m63s\u001b[0m 104ms/step - accuracy: 0.7018 - loss: 1.1283 - val_accuracy: 0.6806 - val_loss: 1.2861 - learning_rate: 5.0000e-05\n",
      "Epoch 37/100\n",
      "\u001b[1m607/607\u001b[0m \u001b[32m━━━━━━━━━━━━━━━━━━━━\u001b[0m\u001b[37m\u001b[0m \u001b[1m0s\u001b[0m 94ms/step - accuracy: 0.6968 - loss: 1.1508\n",
      "Epoch 37: val_loss did not improve from 1.27717\n",
      "\u001b[1m607/607\u001b[0m \u001b[32m━━━━━━━━━━━━━━━━━━━━\u001b[0m\u001b[37m\u001b[0m \u001b[1m63s\u001b[0m 103ms/step - accuracy: 0.6968 - loss: 1.1508 - val_accuracy: 0.6754 - val_loss: 1.2864 - learning_rate: 5.0000e-05\n",
      "Epoch 38/100\n",
      "\u001b[1m607/607\u001b[0m \u001b[32m━━━━━━━━━━━━━━━━━━━━\u001b[0m\u001b[37m\u001b[0m \u001b[1m0s\u001b[0m 95ms/step - accuracy: 0.7128 - loss: 1.1481\n",
      "Epoch 38: val_loss improved from 1.27717 to 1.25706, saving model to VGG16_waste_classifier.h5\n"
     ]
    },
    {
     "name": "stderr",
     "output_type": "stream",
     "text": [
      "WARNING:absl:You are saving your model as an HDF5 file via `model.save()` or `keras.saving.save_model(model)`. This file format is considered legacy. We recommend using instead the native Keras format, e.g. `model.save('my_model.keras')` or `keras.saving.save_model(model, 'my_model.keras')`. \n"
     ]
    },
    {
     "name": "stdout",
     "output_type": "stream",
     "text": [
      "\b\b\b\b\b\b\b\b\b\b\b\b\b\b\b\b\b\b\b\b\b\b\b\b\b\b\b\b\b\b\b\b\b\b\b\b\b\b\b\b\b\b\b\b\b\b\b\b\b\b\b\b\b\b\b\b\b\b\b\b\b\b\b\b\b\b\b\b\b\b\b\b\b\b\b\r",
      "\u001b[1m607/607\u001b[0m \u001b[32m━━━━━━━━━━━━━━━━━━━━\u001b[0m\u001b[37m\u001b[0m \u001b[1m63s\u001b[0m 103ms/step - accuracy: 0.7128 - loss: 1.1481 - val_accuracy: 0.6793 - val_loss: 1.2571 - learning_rate: 5.0000e-05\n",
      "Epoch 39/100\n",
      "\u001b[1m607/607\u001b[0m \u001b[32m━━━━━━━━━━━━━━━━━━━━\u001b[0m\u001b[37m\u001b[0m \u001b[1m0s\u001b[0m 95ms/step - accuracy: 0.7145 - loss: 1.0946\n",
      "Epoch 39: val_loss did not improve from 1.25706\n",
      "\u001b[1m607/607\u001b[0m \u001b[32m━━━━━━━━━━━━━━━━━━━━\u001b[0m\u001b[37m\u001b[0m \u001b[1m63s\u001b[0m 104ms/step - accuracy: 0.7145 - loss: 1.0946 - val_accuracy: 0.6793 - val_loss: 1.2675 - learning_rate: 5.0000e-05\n",
      "Epoch 40/100\n",
      "\u001b[1m607/607\u001b[0m \u001b[32m━━━━━━━━━━━━━━━━━━━━\u001b[0m\u001b[37m\u001b[0m \u001b[1m0s\u001b[0m 95ms/step - accuracy: 0.6942 - loss: 1.1817\n",
      "Epoch 40: val_loss did not improve from 1.25706\n",
      "\u001b[1m607/607\u001b[0m \u001b[32m━━━━━━━━━━━━━━━━━━━━\u001b[0m\u001b[37m\u001b[0m \u001b[1m63s\u001b[0m 104ms/step - accuracy: 0.6942 - loss: 1.1817 - val_accuracy: 0.6780 - val_loss: 1.2895 - learning_rate: 5.0000e-05\n",
      "Epoch 41/100\n",
      "\u001b[1m607/607\u001b[0m \u001b[32m━━━━━━━━━━━━━━━━━━━━\u001b[0m\u001b[37m\u001b[0m \u001b[1m0s\u001b[0m 95ms/step - accuracy: 0.7018 - loss: 1.1976\n",
      "Epoch 41: val_loss did not improve from 1.25706\n",
      "\u001b[1m607/607\u001b[0m \u001b[32m━━━━━━━━━━━━━━━━━━━━\u001b[0m\u001b[37m\u001b[0m \u001b[1m63s\u001b[0m 103ms/step - accuracy: 0.7018 - loss: 1.1975 - val_accuracy: 0.6780 - val_loss: 1.2879 - learning_rate: 5.0000e-05\n",
      "Epoch 42/100\n",
      "\u001b[1m607/607\u001b[0m \u001b[32m━━━━━━━━━━━━━━━━━━━━\u001b[0m\u001b[37m\u001b[0m \u001b[1m0s\u001b[0m 95ms/step - accuracy: 0.6991 - loss: 1.1276\n",
      "Epoch 42: val_loss did not improve from 1.25706\n",
      "\u001b[1m607/607\u001b[0m \u001b[32m━━━━━━━━━━━━━━━━━━━━\u001b[0m\u001b[37m\u001b[0m \u001b[1m63s\u001b[0m 104ms/step - accuracy: 0.6991 - loss: 1.1276 - val_accuracy: 0.6806 - val_loss: 1.2743 - learning_rate: 5.0000e-05\n",
      "Epoch 43/100\n",
      "\u001b[1m607/607\u001b[0m \u001b[32m━━━━━━━━━━━━━━━━━━━━\u001b[0m\u001b[37m\u001b[0m \u001b[1m0s\u001b[0m 95ms/step - accuracy: 0.7110 - loss: 1.0954\n",
      "Epoch 43: val_loss improved from 1.25706 to 1.24607, saving model to VGG16_waste_classifier.h5\n"
     ]
    },
    {
     "name": "stderr",
     "output_type": "stream",
     "text": [
      "WARNING:absl:You are saving your model as an HDF5 file via `model.save()` or `keras.saving.save_model(model)`. This file format is considered legacy. We recommend using instead the native Keras format, e.g. `model.save('my_model.keras')` or `keras.saving.save_model(model, 'my_model.keras')`. \n"
     ]
    },
    {
     "name": "stdout",
     "output_type": "stream",
     "text": [
      "\b\b\b\b\b\b\b\b\b\b\b\b\b\b\b\b\b\b\b\b\b\b\b\b\b\b\b\b\b\b\b\b\b\b\b\b\b\b\b\b\b\b\b\b\b\b\b\b\b\b\b\b\b\b\b\b\b\b\b\b\b\b\b\b\b\b\b\b\b\b\b\b\b\b\b\r",
      "\u001b[1m607/607\u001b[0m \u001b[32m━━━━━━━━━━━━━━━━━━━━\u001b[0m\u001b[37m\u001b[0m \u001b[1m63s\u001b[0m 104ms/step - accuracy: 0.7110 - loss: 1.0954 - val_accuracy: 0.6832 - val_loss: 1.2461 - learning_rate: 5.0000e-05\n",
      "Epoch 44/100\n",
      "\u001b[1m607/607\u001b[0m \u001b[32m━━━━━━━━━━━━━━━━━━━━\u001b[0m\u001b[37m\u001b[0m \u001b[1m0s\u001b[0m 96ms/step - accuracy: 0.7010 - loss: 1.1146\n",
      "Epoch 44: val_loss did not improve from 1.24607\n",
      "\u001b[1m607/607\u001b[0m \u001b[32m━━━━━━━━━━━━━━━━━━━━\u001b[0m\u001b[37m\u001b[0m \u001b[1m64s\u001b[0m 105ms/step - accuracy: 0.7010 - loss: 1.1147 - val_accuracy: 0.6898 - val_loss: 1.2715 - learning_rate: 5.0000e-05\n",
      "Epoch 45/100\n",
      "\u001b[1m607/607\u001b[0m \u001b[32m━━━━━━━━━━━━━━━━━━━━\u001b[0m\u001b[37m\u001b[0m \u001b[1m0s\u001b[0m 95ms/step - accuracy: 0.7138 - loss: 1.1240\n",
      "Epoch 45: val_loss did not improve from 1.24607\n",
      "\u001b[1m607/607\u001b[0m \u001b[32m━━━━━━━━━━━━━━━━━━━━\u001b[0m\u001b[37m\u001b[0m \u001b[1m63s\u001b[0m 104ms/step - accuracy: 0.7138 - loss: 1.1240 - val_accuracy: 0.6846 - val_loss: 1.2786 - learning_rate: 5.0000e-05\n",
      "Epoch 46/100\n",
      "\u001b[1m607/607\u001b[0m \u001b[32m━━━━━━━━━━━━━━━━━━━━\u001b[0m\u001b[37m\u001b[0m \u001b[1m0s\u001b[0m 95ms/step - accuracy: 0.7171 - loss: 1.1019\n",
      "Epoch 46: val_loss did not improve from 1.24607\n",
      "\u001b[1m607/607\u001b[0m \u001b[32m━━━━━━━━━━━━━━━━━━━━\u001b[0m\u001b[37m\u001b[0m \u001b[1m63s\u001b[0m 105ms/step - accuracy: 0.7171 - loss: 1.1019 - val_accuracy: 0.6885 - val_loss: 1.2613 - learning_rate: 5.0000e-05\n",
      "Epoch 47/100\n",
      "\u001b[1m607/607\u001b[0m \u001b[32m━━━━━━━━━━━━━━━━━━━━\u001b[0m\u001b[37m\u001b[0m \u001b[1m0s\u001b[0m 95ms/step - accuracy: 0.7063 - loss: 1.1086\n",
      "Epoch 47: val_loss improved from 1.24607 to 1.23641, saving model to VGG16_waste_classifier.h5\n"
     ]
    },
    {
     "name": "stderr",
     "output_type": "stream",
     "text": [
      "WARNING:absl:You are saving your model as an HDF5 file via `model.save()` or `keras.saving.save_model(model)`. This file format is considered legacy. We recommend using instead the native Keras format, e.g. `model.save('my_model.keras')` or `keras.saving.save_model(model, 'my_model.keras')`. \n"
     ]
    },
    {
     "name": "stdout",
     "output_type": "stream",
     "text": [
      "\b\b\b\b\b\b\b\b\b\b\b\b\b\b\b\b\b\b\b\b\b\b\b\b\b\b\b\b\b\b\b\b\b\b\b\b\b\b\b\b\b\b\b\b\b\b\b\b\b\b\b\b\b\b\b\b\b\b\b\b\b\b\b\b\b\b\b\b\b\b\b\b\b\b\b\r",
      "\u001b[1m607/607\u001b[0m \u001b[32m━━━━━━━━━━━━━━━━━━━━\u001b[0m\u001b[37m\u001b[0m \u001b[1m63s\u001b[0m 104ms/step - accuracy: 0.7063 - loss: 1.1086 - val_accuracy: 0.7042 - val_loss: 1.2364 - learning_rate: 5.0000e-05\n",
      "Epoch 48/100\n",
      "\u001b[1m607/607\u001b[0m \u001b[32m━━━━━━━━━━━━━━━━━━━━\u001b[0m\u001b[37m\u001b[0m \u001b[1m0s\u001b[0m 95ms/step - accuracy: 0.7149 - loss: 1.0552\n",
      "Epoch 48: val_loss did not improve from 1.23641\n",
      "\u001b[1m607/607\u001b[0m \u001b[32m━━━━━━━━━━━━━━━━━━━━\u001b[0m\u001b[37m\u001b[0m \u001b[1m63s\u001b[0m 103ms/step - accuracy: 0.7149 - loss: 1.0553 - val_accuracy: 0.6885 - val_loss: 1.2388 - learning_rate: 5.0000e-05\n",
      "Epoch 49/100\n",
      "\u001b[1m607/607\u001b[0m \u001b[32m━━━━━━━━━━━━━━━━━━━━\u001b[0m\u001b[37m\u001b[0m \u001b[1m0s\u001b[0m 95ms/step - accuracy: 0.7084 - loss: 1.1215\n",
      "Epoch 49: val_loss did not improve from 1.23641\n",
      "\u001b[1m607/607\u001b[0m \u001b[32m━━━━━━━━━━━━━━━━━━━━\u001b[0m\u001b[37m\u001b[0m \u001b[1m63s\u001b[0m 104ms/step - accuracy: 0.7084 - loss: 1.1215 - val_accuracy: 0.6846 - val_loss: 1.2652 - learning_rate: 5.0000e-05\n",
      "Epoch 50/100\n",
      "\u001b[1m607/607\u001b[0m \u001b[32m━━━━━━━━━━━━━━━━━━━━\u001b[0m\u001b[37m\u001b[0m \u001b[1m0s\u001b[0m 95ms/step - accuracy: 0.7213 - loss: 1.1282\n",
      "Epoch 50: val_loss did not improve from 1.23641\n",
      "\u001b[1m607/607\u001b[0m \u001b[32m━━━━━━━━━━━━━━━━━━━━\u001b[0m\u001b[37m\u001b[0m \u001b[1m63s\u001b[0m 104ms/step - accuracy: 0.7213 - loss: 1.1281 - val_accuracy: 0.6898 - val_loss: 1.2644 - learning_rate: 5.0000e-05\n",
      "Epoch 51/100\n",
      "\u001b[1m607/607\u001b[0m \u001b[32m━━━━━━━━━━━━━━━━━━━━\u001b[0m\u001b[37m\u001b[0m \u001b[1m0s\u001b[0m 95ms/step - accuracy: 0.7208 - loss: 1.0833\n",
      "Epoch 51: val_loss improved from 1.23641 to 1.23574, saving model to VGG16_waste_classifier.h5\n"
     ]
    },
    {
     "name": "stderr",
     "output_type": "stream",
     "text": [
      "WARNING:absl:You are saving your model as an HDF5 file via `model.save()` or `keras.saving.save_model(model)`. This file format is considered legacy. We recommend using instead the native Keras format, e.g. `model.save('my_model.keras')` or `keras.saving.save_model(model, 'my_model.keras')`. \n"
     ]
    },
    {
     "name": "stdout",
     "output_type": "stream",
     "text": [
      "\b\b\b\b\b\b\b\b\b\b\b\b\b\b\b\b\b\b\b\b\b\b\b\b\b\b\b\b\b\b\b\b\b\b\b\b\b\b\b\b\b\b\b\b\b\b\b\b\b\b\b\b\b\b\b\b\b\b\b\b\b\b\b\b\b\b\b\b\b\b\b\b\b\b\b\r",
      "\u001b[1m607/607\u001b[0m \u001b[32m━━━━━━━━━━━━━━━━━━━━\u001b[0m\u001b[37m\u001b[0m \u001b[1m63s\u001b[0m 104ms/step - accuracy: 0.7208 - loss: 1.0833 - val_accuracy: 0.6976 - val_loss: 1.2357 - learning_rate: 5.0000e-05\n",
      "Epoch 52/100\n",
      "\u001b[1m607/607\u001b[0m \u001b[32m━━━━━━━━━━━━━━━━━━━━\u001b[0m\u001b[37m\u001b[0m \u001b[1m0s\u001b[0m 95ms/step - accuracy: 0.7105 - loss: 1.1112\n",
      "Epoch 52: val_loss improved from 1.23574 to 1.22202, saving model to VGG16_waste_classifier.h5\n"
     ]
    },
    {
     "name": "stderr",
     "output_type": "stream",
     "text": [
      "WARNING:absl:You are saving your model as an HDF5 file via `model.save()` or `keras.saving.save_model(model)`. This file format is considered legacy. We recommend using instead the native Keras format, e.g. `model.save('my_model.keras')` or `keras.saving.save_model(model, 'my_model.keras')`. \n"
     ]
    },
    {
     "name": "stdout",
     "output_type": "stream",
     "text": [
      "\b\b\b\b\b\b\b\b\b\b\b\b\b\b\b\b\b\b\b\b\b\b\b\b\b\b\b\b\b\b\b\b\b\b\b\b\b\b\b\b\b\b\b\b\b\b\b\b\b\b\b\b\b\b\b\b\b\b\b\b\b\b\b\b\b\b\b\b\b\b\b\b\b\b\b\r",
      "\u001b[1m607/607\u001b[0m \u001b[32m━━━━━━━━━━━━━━━━━━━━\u001b[0m\u001b[37m\u001b[0m \u001b[1m63s\u001b[0m 104ms/step - accuracy: 0.7105 - loss: 1.1112 - val_accuracy: 0.6950 - val_loss: 1.2220 - learning_rate: 5.0000e-05\n",
      "Epoch 53/100\n",
      "\u001b[1m607/607\u001b[0m \u001b[32m━━━━━━━━━━━━━━━━━━━━\u001b[0m\u001b[37m\u001b[0m \u001b[1m0s\u001b[0m 95ms/step - accuracy: 0.7285 - loss: 1.0845\n",
      "Epoch 53: val_loss did not improve from 1.22202\n",
      "\u001b[1m607/607\u001b[0m \u001b[32m━━━━━━━━━━━━━━━━━━━━\u001b[0m\u001b[37m\u001b[0m \u001b[1m63s\u001b[0m 104ms/step - accuracy: 0.7285 - loss: 1.0845 - val_accuracy: 0.6937 - val_loss: 1.2255 - learning_rate: 5.0000e-05\n",
      "Epoch 54/100\n",
      "\u001b[1m607/607\u001b[0m \u001b[32m━━━━━━━━━━━━━━━━━━━━\u001b[0m\u001b[37m\u001b[0m \u001b[1m0s\u001b[0m 95ms/step - accuracy: 0.7429 - loss: 1.0272\n",
      "Epoch 54: val_loss did not improve from 1.22202\n",
      "\u001b[1m607/607\u001b[0m \u001b[32m━━━━━━━━━━━━━━━━━━━━\u001b[0m\u001b[37m\u001b[0m \u001b[1m63s\u001b[0m 104ms/step - accuracy: 0.7428 - loss: 1.0272 - val_accuracy: 0.6898 - val_loss: 1.2472 - learning_rate: 5.0000e-05\n",
      "Epoch 55/100\n",
      "\u001b[1m607/607\u001b[0m \u001b[32m━━━━━━━━━━━━━━━━━━━━\u001b[0m\u001b[37m\u001b[0m \u001b[1m0s\u001b[0m 95ms/step - accuracy: 0.6982 - loss: 1.1214\n",
      "Epoch 55: val_loss did not improve from 1.22202\n",
      "\u001b[1m607/607\u001b[0m \u001b[32m━━━━━━━━━━━━━━━━━━━━\u001b[0m\u001b[37m\u001b[0m \u001b[1m63s\u001b[0m 104ms/step - accuracy: 0.6982 - loss: 1.1214 - val_accuracy: 0.6924 - val_loss: 1.2403 - learning_rate: 5.0000e-05\n",
      "Epoch 56/100\n",
      "\u001b[1m607/607\u001b[0m \u001b[32m━━━━━━━━━━━━━━━━━━━━\u001b[0m\u001b[37m\u001b[0m \u001b[1m0s\u001b[0m 95ms/step - accuracy: 0.7263 - loss: 1.0436\n",
      "Epoch 56: val_loss improved from 1.22202 to 1.20249, saving model to VGG16_waste_classifier.h5\n"
     ]
    },
    {
     "name": "stderr",
     "output_type": "stream",
     "text": [
      "WARNING:absl:You are saving your model as an HDF5 file via `model.save()` or `keras.saving.save_model(model)`. This file format is considered legacy. We recommend using instead the native Keras format, e.g. `model.save('my_model.keras')` or `keras.saving.save_model(model, 'my_model.keras')`. \n"
     ]
    },
    {
     "name": "stdout",
     "output_type": "stream",
     "text": [
      "\b\b\b\b\b\b\b\b\b\b\b\b\b\b\b\b\b\b\b\b\b\b\b\b\b\b\b\b\b\b\b\b\b\b\b\b\b\b\b\b\b\b\b\b\b\b\b\b\b\b\b\b\b\b\b\b\b\b\b\b\b\b\b\b\b\b\b\b\b\b\b\b\b\b\b\r",
      "\u001b[1m607/607\u001b[0m \u001b[32m━━━━━━━━━━━━━━━━━━━━\u001b[0m\u001b[37m\u001b[0m \u001b[1m63s\u001b[0m 104ms/step - accuracy: 0.7263 - loss: 1.0437 - val_accuracy: 0.7042 - val_loss: 1.2025 - learning_rate: 5.0000e-05\n",
      "Epoch 57/100\n",
      "\u001b[1m607/607\u001b[0m \u001b[32m━━━━━━━━━━━━━━━━━━━━\u001b[0m\u001b[37m\u001b[0m \u001b[1m0s\u001b[0m 95ms/step - accuracy: 0.7181 - loss: 1.0694\n",
      "Epoch 57: val_loss did not improve from 1.20249\n",
      "\u001b[1m607/607\u001b[0m \u001b[32m━━━━━━━━━━━━━━━━━━━━\u001b[0m\u001b[37m\u001b[0m \u001b[1m63s\u001b[0m 103ms/step - accuracy: 0.7181 - loss: 1.0694 - val_accuracy: 0.6819 - val_loss: 1.2410 - learning_rate: 5.0000e-05\n",
      "Epoch 58/100\n",
      "\u001b[1m607/607\u001b[0m \u001b[32m━━━━━━━━━━━━━━━━━━━━\u001b[0m\u001b[37m\u001b[0m \u001b[1m0s\u001b[0m 95ms/step - accuracy: 0.7063 - loss: 1.0933\n",
      "Epoch 58: val_loss did not improve from 1.20249\n",
      "\u001b[1m607/607\u001b[0m \u001b[32m━━━━━━━━━━━━━━━━━━━━\u001b[0m\u001b[37m\u001b[0m \u001b[1m63s\u001b[0m 103ms/step - accuracy: 0.7063 - loss: 1.0933 - val_accuracy: 0.6937 - val_loss: 1.2291 - learning_rate: 5.0000e-05\n",
      "Epoch 59/100\n",
      "\u001b[1m607/607\u001b[0m \u001b[32m━━━━━━━━━━━━━━━━━━━━\u001b[0m\u001b[37m\u001b[0m \u001b[1m0s\u001b[0m 95ms/step - accuracy: 0.7318 - loss: 1.0573\n",
      "Epoch 59: val_loss did not improve from 1.20249\n",
      "\u001b[1m607/607\u001b[0m \u001b[32m━━━━━━━━━━━━━━━━━━━━\u001b[0m\u001b[37m\u001b[0m \u001b[1m63s\u001b[0m 104ms/step - accuracy: 0.7318 - loss: 1.0573 - val_accuracy: 0.6911 - val_loss: 1.2457 - learning_rate: 5.0000e-05\n",
      "Epoch 60/100\n",
      "\u001b[1m607/607\u001b[0m \u001b[32m━━━━━━━━━━━━━━━━━━━━\u001b[0m\u001b[37m\u001b[0m \u001b[1m0s\u001b[0m 95ms/step - accuracy: 0.7159 - loss: 1.0603\n",
      "Epoch 60: val_loss did not improve from 1.20249\n",
      "\u001b[1m607/607\u001b[0m \u001b[32m━━━━━━━━━━━━━━━━━━━━\u001b[0m\u001b[37m\u001b[0m \u001b[1m63s\u001b[0m 103ms/step - accuracy: 0.7159 - loss: 1.0603 - val_accuracy: 0.6937 - val_loss: 1.2131 - learning_rate: 5.0000e-05\n",
      "Epoch 61/100\n",
      "\u001b[1m607/607\u001b[0m \u001b[32m━━━━━━━━━━━━━━━━━━━━\u001b[0m\u001b[37m\u001b[0m \u001b[1m0s\u001b[0m 96ms/step - accuracy: 0.7225 - loss: 1.0301\n",
      "Epoch 61: val_loss did not improve from 1.20249\n",
      "\n",
      "Epoch 61: ReduceLROnPlateau reducing learning rate to 2.499999936844688e-05.\n",
      "\u001b[1m607/607\u001b[0m \u001b[32m━━━━━━━━━━━━━━━━━━━━\u001b[0m\u001b[37m\u001b[0m \u001b[1m63s\u001b[0m 104ms/step - accuracy: 0.7225 - loss: 1.0302 - val_accuracy: 0.6963 - val_loss: 1.2182 - learning_rate: 5.0000e-05\n",
      "Epoch 62/100\n",
      "\u001b[1m607/607\u001b[0m \u001b[32m━━━━━━━━━━━━━━━━━━━━\u001b[0m\u001b[37m\u001b[0m \u001b[1m0s\u001b[0m 95ms/step - accuracy: 0.7222 - loss: 1.0536\n",
      "Epoch 62: val_loss did not improve from 1.20249\n",
      "\u001b[1m607/607\u001b[0m \u001b[32m━━━━━━━━━━━━━━━━━━━━\u001b[0m\u001b[37m\u001b[0m \u001b[1m63s\u001b[0m 103ms/step - accuracy: 0.7222 - loss: 1.0535 - val_accuracy: 0.6963 - val_loss: 1.2167 - learning_rate: 2.5000e-05\n",
      "Epoch 63/100\n",
      "\u001b[1m607/607\u001b[0m \u001b[32m━━━━━━━━━━━━━━━━━━━━\u001b[0m\u001b[37m\u001b[0m \u001b[1m0s\u001b[0m 95ms/step - accuracy: 0.7021 - loss: 1.0813\n",
      "Epoch 63: val_loss did not improve from 1.20249\n",
      "\u001b[1m607/607\u001b[0m \u001b[32m━━━━━━━━━━━━━━━━━━━━\u001b[0m\u001b[37m\u001b[0m \u001b[1m63s\u001b[0m 104ms/step - accuracy: 0.7021 - loss: 1.0813 - val_accuracy: 0.6937 - val_loss: 1.2217 - learning_rate: 2.5000e-05\n",
      "Epoch 64/100\n",
      "\u001b[1m607/607\u001b[0m \u001b[32m━━━━━━━━━━━━━━━━━━━━\u001b[0m\u001b[37m\u001b[0m \u001b[1m0s\u001b[0m 95ms/step - accuracy: 0.7222 - loss: 1.0502\n",
      "Epoch 64: val_loss improved from 1.20249 to 1.19296, saving model to VGG16_waste_classifier.h5\n"
     ]
    },
    {
     "name": "stderr",
     "output_type": "stream",
     "text": [
      "WARNING:absl:You are saving your model as an HDF5 file via `model.save()` or `keras.saving.save_model(model)`. This file format is considered legacy. We recommend using instead the native Keras format, e.g. `model.save('my_model.keras')` or `keras.saving.save_model(model, 'my_model.keras')`. \n"
     ]
    },
    {
     "name": "stdout",
     "output_type": "stream",
     "text": [
      "\b\b\b\b\b\b\b\b\b\b\b\b\b\b\b\b\b\b\b\b\b\b\b\b\b\b\b\b\b\b\b\b\b\b\b\b\b\b\b\b\b\b\b\b\b\b\b\b\b\b\b\b\b\b\b\b\b\b\b\b\b\b\b\b\b\b\b\b\b\b\b\b\b\b\b\r",
      "\u001b[1m607/607\u001b[0m \u001b[32m━━━━━━━━━━━━━━━━━━━━\u001b[0m\u001b[37m\u001b[0m \u001b[1m63s\u001b[0m 104ms/step - accuracy: 0.7222 - loss: 1.0502 - val_accuracy: 0.7016 - val_loss: 1.1930 - learning_rate: 2.5000e-05\n",
      "Epoch 65/100\n",
      "\u001b[1m607/607\u001b[0m \u001b[32m━━━━━━━━━━━━━━━━━━━━\u001b[0m\u001b[37m\u001b[0m \u001b[1m0s\u001b[0m 95ms/step - accuracy: 0.7291 - loss: 1.0412\n",
      "Epoch 65: val_loss did not improve from 1.19296\n",
      "\u001b[1m607/607\u001b[0m \u001b[32m━━━━━━━━━━━━━━━━━━━━\u001b[0m\u001b[37m\u001b[0m \u001b[1m63s\u001b[0m 103ms/step - accuracy: 0.7290 - loss: 1.0412 - val_accuracy: 0.6937 - val_loss: 1.2378 - learning_rate: 2.5000e-05\n",
      "Epoch 66/100\n",
      "\u001b[1m607/607\u001b[0m \u001b[32m━━━━━━━━━━━━━━━━━━━━\u001b[0m\u001b[37m\u001b[0m \u001b[1m0s\u001b[0m 95ms/step - accuracy: 0.7321 - loss: 1.0084\n",
      "Epoch 66: val_loss did not improve from 1.19296\n",
      "\u001b[1m607/607\u001b[0m \u001b[32m━━━━━━━━━━━━━━━━━━━━\u001b[0m\u001b[37m\u001b[0m \u001b[1m63s\u001b[0m 103ms/step - accuracy: 0.7321 - loss: 1.0084 - val_accuracy: 0.7042 - val_loss: 1.2219 - learning_rate: 2.5000e-05\n",
      "Epoch 67/100\n",
      "\u001b[1m607/607\u001b[0m \u001b[32m━━━━━━━━━━━━━━━━━━━━\u001b[0m\u001b[37m\u001b[0m \u001b[1m0s\u001b[0m 96ms/step - accuracy: 0.7218 - loss: 1.0699\n",
      "Epoch 67: val_loss did not improve from 1.19296\n",
      "\u001b[1m607/607\u001b[0m \u001b[32m━━━━━━━━━━━━━━━━━━━━\u001b[0m\u001b[37m\u001b[0m \u001b[1m63s\u001b[0m 104ms/step - accuracy: 0.7218 - loss: 1.0699 - val_accuracy: 0.7107 - val_loss: 1.1967 - learning_rate: 2.5000e-05\n",
      "Epoch 68/100\n",
      "\u001b[1m607/607\u001b[0m \u001b[32m━━━━━━━━━━━━━━━━━━━━\u001b[0m\u001b[37m\u001b[0m \u001b[1m0s\u001b[0m 95ms/step - accuracy: 0.7209 - loss: 1.0610\n",
      "Epoch 68: val_loss did not improve from 1.19296\n",
      "\u001b[1m607/607\u001b[0m \u001b[32m━━━━━━━━━━━━━━━━━━━━\u001b[0m\u001b[37m\u001b[0m \u001b[1m63s\u001b[0m 104ms/step - accuracy: 0.7209 - loss: 1.0610 - val_accuracy: 0.7042 - val_loss: 1.2066 - learning_rate: 2.5000e-05\n",
      "Epoch 69/100\n",
      "\u001b[1m607/607\u001b[0m \u001b[32m━━━━━━━━━━━━━━━━━━━━\u001b[0m\u001b[37m\u001b[0m \u001b[1m0s\u001b[0m 96ms/step - accuracy: 0.7436 - loss: 1.0003\n",
      "Epoch 69: val_loss did not improve from 1.19296\n",
      "\n",
      "Epoch 69: ReduceLROnPlateau reducing learning rate to 1.249999968422344e-05.\n",
      "\u001b[1m607/607\u001b[0m \u001b[32m━━━━━━━━━━━━━━━━━━━━\u001b[0m\u001b[37m\u001b[0m \u001b[1m63s\u001b[0m 105ms/step - accuracy: 0.7436 - loss: 1.0003 - val_accuracy: 0.7094 - val_loss: 1.2112 - learning_rate: 2.5000e-05\n",
      "Epoch 70/100\n",
      "\u001b[1m607/607\u001b[0m \u001b[32m━━━━━━━━━━━━━━━━━━━━\u001b[0m\u001b[37m\u001b[0m \u001b[1m0s\u001b[0m 95ms/step - accuracy: 0.7347 - loss: 1.0289\n",
      "Epoch 70: val_loss did not improve from 1.19296\n",
      "\u001b[1m607/607\u001b[0m \u001b[32m━━━━━━━━━━━━━━━━━━━━\u001b[0m\u001b[37m\u001b[0m \u001b[1m63s\u001b[0m 104ms/step - accuracy: 0.7346 - loss: 1.0288 - val_accuracy: 0.7016 - val_loss: 1.1980 - learning_rate: 1.2500e-05\n",
      "Epoch 71/100\n",
      "\u001b[1m607/607\u001b[0m \u001b[32m━━━━━━━━━━━━━━━━━━━━\u001b[0m\u001b[37m\u001b[0m \u001b[1m0s\u001b[0m 96ms/step - accuracy: 0.7414 - loss: 1.0173\n",
      "Epoch 71: val_loss did not improve from 1.19296\n",
      "\u001b[1m607/607\u001b[0m \u001b[32m━━━━━━━━━━━━━━━━━━━━\u001b[0m\u001b[37m\u001b[0m \u001b[1m63s\u001b[0m 104ms/step - accuracy: 0.7414 - loss: 1.0173 - val_accuracy: 0.7055 - val_loss: 1.2044 - learning_rate: 1.2500e-05\n",
      "Epoch 72/100\n",
      "\u001b[1m607/607\u001b[0m \u001b[32m━━━━━━━━━━━━━━━━━━━━\u001b[0m\u001b[37m\u001b[0m \u001b[1m0s\u001b[0m 95ms/step - accuracy: 0.7431 - loss: 1.0025\n",
      "Epoch 72: val_loss did not improve from 1.19296\n",
      "\u001b[1m607/607\u001b[0m \u001b[32m━━━━━━━━━━━━━━━━━━━━\u001b[0m\u001b[37m\u001b[0m \u001b[1m63s\u001b[0m 104ms/step - accuracy: 0.7431 - loss: 1.0026 - val_accuracy: 0.6963 - val_loss: 1.2246 - learning_rate: 1.2500e-05\n",
      "Epoch 73/100\n",
      "\u001b[1m607/607\u001b[0m \u001b[32m━━━━━━━━━━━━━━━━━━━━\u001b[0m\u001b[37m\u001b[0m \u001b[1m0s\u001b[0m 95ms/step - accuracy: 0.7254 - loss: 1.0253\n",
      "Epoch 73: val_loss did not improve from 1.19296\n",
      "\u001b[1m607/607\u001b[0m \u001b[32m━━━━━━━━━━━━━━━━━━━━\u001b[0m\u001b[37m\u001b[0m \u001b[1m63s\u001b[0m 104ms/step - accuracy: 0.7254 - loss: 1.0253 - val_accuracy: 0.7042 - val_loss: 1.1999 - learning_rate: 1.2500e-05\n",
      "Epoch 74/100\n",
      "\u001b[1m607/607\u001b[0m \u001b[32m━━━━━━━━━━━━━━━━━━━━\u001b[0m\u001b[37m\u001b[0m \u001b[1m0s\u001b[0m 95ms/step - accuracy: 0.7250 - loss: 1.0386\n",
      "Epoch 74: val_loss did not improve from 1.19296\n",
      "\n",
      "Epoch 74: ReduceLROnPlateau reducing learning rate to 1e-05.\n",
      "\u001b[1m607/607\u001b[0m \u001b[32m━━━━━━━━━━━━━━━━━━━━\u001b[0m\u001b[37m\u001b[0m \u001b[1m63s\u001b[0m 104ms/step - accuracy: 0.7250 - loss: 1.0386 - val_accuracy: 0.7055 - val_loss: 1.2011 - learning_rate: 1.2500e-05\n",
      "Epoch 74: early stopping\n",
      "Restoring model weights from the end of the best epoch: 64.\n"
     ]
    }
   ],
   "source": [
    "print(f\"Training {model_name} model with minimum 50 epochs...\")\n",
    "epochs = 100  # Train for 100 epochs with early stopping\n",
    "history_vgg16 = vgg16_model.fit(\n",
    "    train_gen,\n",
    "    validation_data=val_gen,\n",
    "    epochs=epochs,\n",
    "    callbacks=callbacks,\n",
    "    verbose=1\n",
    ")"
   ]
  },
  {
   "cell_type": "code",
   "execution_count": 36,
   "metadata": {
    "colab": {
     "base_uri": "https://localhost:8080/",
     "height": 460
    },
    "id": "0H7FdO80XYA9",
    "outputId": "814d4fb9-9e7f-424b-cf01-dfd6422bb84a"
   },
   "outputs": [
    {
     "data": {
      "image/png": "[encoded data removed]",
      "text/plain": [
       "<Figure size 1200x500 with 2 Axes>"
      ]
     },
     "metadata": {},
     "output_type": "display_data"
    }
   ],
   "source": [
    "# Plot training history\n",
    "plt.figure(figsize=(12, 5))\n",
    "plt.subplot(1, 2, 1)\n",
    "plt.plot(history_vgg16.history['loss'], label='Training Loss')\n",
    "plt.plot(history_vgg16.history['val_loss'], label='Validation Loss')\n",
    "plt.title(f'{model_name} - Loss')\n",
    "plt.xlabel('Epoch')\n",
    "plt.ylabel('Loss')\n",
    "plt.legend()\n",
    "\n",
    "plt.subplot(1, 2, 2)\n",
    "plt.plot(history_vgg16.history['accuracy'], label='Training Accuracy')\n",
    "plt.plot(history_vgg16.history['val_accuracy'], label='Validation Accuracy')\n",
    "plt.title(f'{model_name} - Accuracy')\n",
    "plt.xlabel('Epoch')\n",
    "plt.ylabel('Accuracy')\n",
    "plt.legend()\n",
    "plt.tight_layout()\n",
    "plt.savefig(f'{model_name}_training_history.png')\n",
    "plt.show()"
   ]
  },
  {
   "cell_type": "code",
   "execution_count": 37,
   "metadata": {
    "colab": {
     "base_uri": "https://localhost:8080/"
    },
    "id": "hy1ezkHMXXDm",
    "outputId": "ea1a20c0-a7ca-444e-d0a8-2ba6719b2eb7"
   },
   "outputs": [
    {
     "name": "stdout",
     "output_type": "stream",
     "text": [
      "\n",
      "Evaluating VGG16 model...\n"
     ]
    }
   ],
   "source": [
    "# Plot learning rate if available\n",
    "if 'lr' in history_vgg16.history:\n",
    "    plt.figure(figsize=(8, 3))\n",
    "    plt.plot(history_vgg16.history['lr'])\n",
    "    plt.title('Learning Rate')\n",
    "    plt.xlabel('Epoch')\n",
    "    plt.ylabel('Learning Rate')\n",
    "    plt.yscale('log')\n",
    "    plt.savefig(f'{model_name}_learning_rate.png')\n",
    "    plt.show()\n",
    "\n",
    "# Evaluate the model\n",
    "print(f\"\\nEvaluating {model_name} model...\")\n",
    "train_metrics = evaluate_model(vgg16_model, train_gen, classes)\n",
    "val_metrics = evaluate_model(vgg16_model, val_gen, classes)\n",
    "test_metrics = evaluate_model(vgg16_model, test_gen, classes)\n"
   ]
  },
  {
   "cell_type": "code",
   "execution_count": 38,
   "metadata": {
    "colab": {
     "base_uri": "https://localhost:8080/"
    },
    "id": "dB7nHqcPuOjO",
    "outputId": "4b302a2f-dbdc-409c-b992-c32e32e1cb99"
   },
   "outputs": [
    {
     "name": "stdout",
     "output_type": "stream",
     "text": [
      "\n",
      "VGG16 Results:\n",
      "Training - Accuracy: 0.8794, Precision: 0.8796, Recall: 0.8794, F1: 0.8787, AUC: 0.9900\n",
      "Validation - Accuracy: 0.7016, Precision: 0.6993, Recall: 0.7016, F1: 0.6904, AUC: 0.9443\n",
      "Test - Accuracy: 0.7254, Precision: 0.7297, Recall: 0.7254, F1: 0.7212, AUC: 0.9522\n",
      "VGG16 model training and evaluation complete!\n"
     ]
    }
   ],
   "source": [
    "# Display metrics\n",
    "print(f\"\\n{model_name} Results:\")\n",
    "print(f\"Training - Accuracy: {train_metrics['accuracy']:.4f}, Precision: {train_metrics['precision']:.4f}, \"\n",
    "      f\"Recall: {train_metrics['recall']:.4f}, F1: {train_metrics['f1_score']:.4f}, AUC: {train_metrics['auc']:.4f}\")\n",
    "\n",
    "print(f\"Validation - Accuracy: {val_metrics['accuracy']:.4f}, Precision: {val_metrics['precision']:.4f}, \"\n",
    "      f\"Recall: {val_metrics['recall']:.4f}, F1: {val_metrics['f1_score']:.4f}, AUC: {val_metrics['auc']:.4f}\")\n",
    "\n",
    "print(f\"Test - Accuracy: {test_metrics['accuracy']:.4f}, Precision: {test_metrics['precision']:.4f}, \"\n",
    "      f\"Recall: {test_metrics['recall']:.4f}, F1: {test_metrics['f1_score']:.4f}, AUC: {test_metrics['auc']:.4f}\")\n",
    "\n",
    "# Save metrics to file\n",
    "with open(f'{model_name}_metrics.txt', 'w') as f:\n",
    "    f.write(f\"{model_name} Results:\\n\")\n",
    "    f.write(f\"Training - Accuracy: {train_metrics['accuracy']:.4f}, Precision: {train_metrics['precision']:.4f}, \"\n",
    "            f\"Recall: {train_metrics['recall']:.4f}, F1: {train_metrics['f1_score']:.4f}, AUC: {train_metrics['auc']:.4f}\\n\")\n",
    "    f.write(f\"Validation - Accuracy: {val_metrics['accuracy']:.4f}, Precision: {val_metrics['precision']:.4f}, \"\n",
    "            f\"Recall: {val_metrics['recall']:.4f}, F1: {val_metrics['f1_score']:.4f}, AUC: {val_metrics['auc']:.4f}\\n\")\n",
    "    f.write(f\"Test - Accuracy: {test_metrics['accuracy']:.4f}, Precision: {test_metrics['precision']:.4f}, \"\n",
    "            f\"Recall: {test_metrics['recall']:.4f}, F1: {test_metrics['f1_score']:.4f}, AUC: {test_metrics['auc']:.4f}\\n\")\n",
    "\n",
    "print(f\"{model_name} model training and evaluation complete!\")"
   ]
  },
  {
   "cell_type": "markdown",
   "metadata": {
    "id": "O9SfpKzDzKl4"
   },
   "source": [
    "4. EfficientNetB0 Model"
   ]
  },
  {
   "cell_type": "code",
   "execution_count": 40,
   "metadata": {
    "id": "kdy6LrubCXzr"
   },
   "outputs": [],
   "source": [
    "def create_efficientnet_classifier(input_shape, num_classes):\n",
    "    \"\"\"\n",
    "    Create a transfer learning model for waste classification using EfficientNetB0\n",
    "    \"\"\"\n",
    "    # Initialize EfficientNetB0 base model\n",
    "    base_model = EfficientNetB0(weights='imagenet', include_top=False, input_shape=input_shape)\n",
    "\n",
    "    # Freeze all layers in the base model\n",
    "    for layer in base_model.layers:\n",
    "        layer.trainable = False\n",
    "\n",
    "    # Get the output from the base model\n",
    "    x = base_model.output\n",
    "\n",
    "    # Add custom classification head with regularization techniques\n",
    "    x = GlobalAveragePooling2D()(x)\n",
    "    x = BatchNormalization()(x)\n",
    "    x = Dense(256, activation='relu', kernel_regularizer=l2(0.001))(x)\n",
    "    x = BatchNormalization()(x)\n",
    "    x = Dropout(0.2)(x)  # 20% dropout rate as specified\n",
    "\n",
    "    # Final classification layer with softmax\n",
    "    predictions = Dense(num_classes, activation='softmax', kernel_regularizer=l2(0.001))(x)\n",
    "\n",
    "    # Create and compile the model with lower learning rate\n",
    "    model = Model(inputs=base_model.input, outputs=predictions)\n",
    "    model.compile(\n",
    "        optimizer=Adam(learning_rate=0.0001),  # Optimized lower learning rate\n",
    "        loss='categorical_crossentropy',\n",
    "        metrics=['accuracy']\n",
    "    )\n",
    "\n",
    "    return model"
   ]
  },
  {
   "cell_type": "code",
   "execution_count": 41,
   "metadata": {
    "colab": {
     "base_uri": "https://localhost:8080/"
    },
    "id": "qBdsH1OoCYBe",
    "outputId": "7adcf3c0-fb29-49f8-abbc-2c14e30ec85c"
   },
   "outputs": [
    {
     "name": "stdout",
     "output_type": "stream",
     "text": [
      "Downloading data from https://storage.googleapis.com/keras-applications/efficientnetb0_notop.h5\n",
      "\u001b[1m16705208/16705208\u001b[0m \u001b[32m━━━━━━━━━━━━━━━━━━━━\u001b[0m\u001b[37m\u001b[0m \u001b[1m0s\u001b[0m 0us/step\n"
     ]
    }
   ],
   "source": [
    "# Set up model name and create it\n",
    "model_name = 'EfficientNetB0'\n",
    "input_shape = (*image_size, 3)\n",
    "efficientnet_model = create_efficientnet_classifier(input_shape, num_classes)\n",
    "\n",
    "callbacks = [\n",
    "    DelayedEarlyStopping(\n",
    "        min_epochs=50,            # Start monitoring only after 50 epochs\n",
    "        monitor='val_loss',\n",
    "        patience=10,\n",
    "        verbose=1,\n",
    "        restore_best_weights=True\n",
    "    ),\n",
    "    ModelCheckpoint(\n",
    "        f'{model_name}_waste_classifier.h5',\n",
    "        monitor='val_loss',\n",
    "        save_best_only=True,\n",
    "        verbose=1\n",
    "    ),\n",
    "    # Add learning rate reduction\n",
    "    ReduceLROnPlateau(\n",
    "        monitor='val_loss',\n",
    "        factor=0.5,\n",
    "        patience=5,\n",
    "        min_lr=0.00001,\n",
    "        verbose=1\n",
    "    )\n",
    "]\n"
   ]
  },
  {
   "cell_type": "code",
   "execution_count": 42,
   "metadata": {
    "colab": {
     "base_uri": "https://localhost:8080/"
    },
    "id": "wFZD8t4eCYHH",
    "outputId": "db3232af-40e0-447c-b4dd-6626b045b10e"
   },
   "outputs": [
    {
     "name": "stdout",
     "output_type": "stream",
     "text": [
      "Training EfficientNetB0 model with minimum 50 epochs...\n",
      "Epoch 1/100\n",
      "\u001b[1m607/607\u001b[0m \u001b[32m━━━━━━━━━━━━━━━━━━━━\u001b[0m\u001b[37m\u001b[0m \u001b[1m0s\u001b[0m 115ms/step - accuracy: 0.2948 - loss: 2.7359\n",
      "Epoch 1: val_loss improved from inf to 1.89394, saving model to EfficientNetB0_waste_classifier.h5\n"
     ]
    },
    {
     "name": "stderr",
     "output_type": "stream",
     "text": [
      "WARNING:absl:You are saving your model as an HDF5 file via `model.save()` or `keras.saving.save_model(model)`. This file format is considered legacy. We recommend using instead the native Keras format, e.g. `model.save('my_model.keras')` or `keras.saving.save_model(model, 'my_model.keras')`. \n"
     ]
    },
    {
     "name": "stdout",
     "output_type": "stream",
     "text": [
      "\b\b\b\b\b\b\b\b\b\b\b\b\b\b\b\b\b\b\b\b\b\b\b\b\b\b\b\b\b\b\b\b\b\b\b\b\b\b\b\b\b\b\b\b\b\b\b\b\b\b\b\b\b\b\b\b\b\b\b\b\b\b\b\b\b\b\b\b\b\b\b\b\b\b\b\b\r",
      "\u001b[1m607/607\u001b[0m \u001b[32m━━━━━━━━━━━━━━━━━━━━\u001b[0m\u001b[37m\u001b[0m \u001b[1m110s\u001b[0m 140ms/step - accuracy: 0.2950 - loss: 2.7353 - val_accuracy: 0.5641 - val_loss: 1.8939 - learning_rate: 1.0000e-04\n",
      "Epoch 2/100\n",
      "\u001b[1m607/607\u001b[0m \u001b[32m━━━━━━━━━━━━━━━━━━━━\u001b[0m\u001b[37m\u001b[0m \u001b[1m0s\u001b[0m 95ms/step - accuracy: 0.5460 - loss: 1.7898\n",
      "Epoch 2: val_loss improved from 1.89394 to 1.62313, saving model to EfficientNetB0_waste_classifier.h5\n"
     ]
    },
    {
     "name": "stderr",
     "output_type": "stream",
     "text": [
      "WARNING:absl:You are saving your model as an HDF5 file via `model.save()` or `keras.saving.save_model(model)`. This file format is considered legacy. We recommend using instead the native Keras format, e.g. `model.save('my_model.keras')` or `keras.saving.save_model(model, 'my_model.keras')`. \n"
     ]
    },
    {
     "name": "stdout",
     "output_type": "stream",
     "text": [
      "\b\b\b\b\b\b\b\b\b\b\b\b\b\b\b\b\b\b\b\b\b\b\b\b\b\b\b\b\b\b\b\b\b\b\b\b\b\b\b\b\b\b\b\b\b\b\b\b\b\b\b\b\b\b\b\b\b\b\b\b\b\b\b\b\b\b\b\b\b\b\b\b\b\b\b\r",
      "\u001b[1m607/607\u001b[0m \u001b[32m━━━━━━━━━━━━━━━━━━━━\u001b[0m\u001b[37m\u001b[0m \u001b[1m64s\u001b[0m 105ms/step - accuracy: 0.5461 - loss: 1.7896 - val_accuracy: 0.6518 - val_loss: 1.6231 - learning_rate: 1.0000e-04\n",
      "Epoch 3/100\n",
      "\u001b[1m607/607\u001b[0m \u001b[32m━━━━━━━━━━━━━━━━━━━━\u001b[0m\u001b[37m\u001b[0m \u001b[1m0s\u001b[0m 95ms/step - accuracy: 0.6324 - loss: 1.5521\n",
      "Epoch 3: val_loss improved from 1.62313 to 1.48397, saving model to EfficientNetB0_waste_classifier.h5\n"
     ]
    },
    {
     "name": "stderr",
     "output_type": "stream",
     "text": [
      "WARNING:absl:You are saving your model as an HDF5 file via `model.save()` or `keras.saving.save_model(model)`. This file format is considered legacy. We recommend using instead the native Keras format, e.g. `model.save('my_model.keras')` or `keras.saving.save_model(model, 'my_model.keras')`. \n"
     ]
    },
    {
     "name": "stdout",
     "output_type": "stream",
     "text": [
      "\b\b\b\b\b\b\b\b\b\b\b\b\b\b\b\b\b\b\b\b\b\b\b\b\b\b\b\b\b\b\b\b\b\b\b\b\b\b\b\b\b\b\b\b\b\b\b\b\b\b\b\b\b\b\b\b\b\b\b\b\b\b\b\b\b\b\b\b\b\b\b\b\b\b\b\r",
      "\u001b[1m607/607\u001b[0m \u001b[32m━━━━━━━━━━━━━━━━━━━━\u001b[0m\u001b[37m\u001b[0m \u001b[1m63s\u001b[0m 104ms/step - accuracy: 0.6325 - loss: 1.5521 - val_accuracy: 0.6806 - val_loss: 1.4840 - learning_rate: 1.0000e-04\n",
      "Epoch 4/100\n",
      "\u001b[1m607/607\u001b[0m \u001b[32m━━━━━━━━━━━━━━━━━━━━\u001b[0m\u001b[37m\u001b[0m \u001b[1m0s\u001b[0m 95ms/step - accuracy: 0.6810 - loss: 1.3990\n",
      "Epoch 4: val_loss improved from 1.48397 to 1.46121, saving model to EfficientNetB0_waste_classifier.h5\n"
     ]
    },
    {
     "name": "stderr",
     "output_type": "stream",
     "text": [
      "WARNING:absl:You are saving your model as an HDF5 file via `model.save()` or `keras.saving.save_model(model)`. This file format is considered legacy. We recommend using instead the native Keras format, e.g. `model.save('my_model.keras')` or `keras.saving.save_model(model, 'my_model.keras')`. \n"
     ]
    },
    {
     "name": "stdout",
     "output_type": "stream",
     "text": [
      "\b\b\b\b\b\b\b\b\b\b\b\b\b\b\b\b\b\b\b\b\b\b\b\b\b\b\b\b\b\b\b\b\b\b\b\b\b\b\b\b\b\b\b\b\b\b\b\b\b\b\b\b\b\b\b\b\b\b\b\b\b\b\b\b\b\b\b\b\b\b\b\b\b\b\b\r",
      "\u001b[1m607/607\u001b[0m \u001b[32m━━━━━━━━━━━━━━━━━━━━\u001b[0m\u001b[37m\u001b[0m \u001b[1m64s\u001b[0m 105ms/step - accuracy: 0.6810 - loss: 1.3990 - val_accuracy: 0.6937 - val_loss: 1.4612 - learning_rate: 1.0000e-04\n",
      "Epoch 5/100\n",
      "\u001b[1m607/607\u001b[0m \u001b[32m━━━━━━━━━━━━━━━━━━━━\u001b[0m\u001b[37m\u001b[0m \u001b[1m0s\u001b[0m 95ms/step - accuracy: 0.7170 - loss: 1.3159\n",
      "Epoch 5: val_loss improved from 1.46121 to 1.38458, saving model to EfficientNetB0_waste_classifier.h5\n"
     ]
    },
    {
     "name": "stderr",
     "output_type": "stream",
     "text": [
      "WARNING:absl:You are saving your model as an HDF5 file via `model.save()` or `keras.saving.save_model(model)`. This file format is considered legacy. We recommend using instead the native Keras format, e.g. `model.save('my_model.keras')` or `keras.saving.save_model(model, 'my_model.keras')`. \n"
     ]
    },
    {
     "name": "stdout",
     "output_type": "stream",
     "text": [
      "\b\b\b\b\b\b\b\b\b\b\b\b\b\b\b\b\b\b\b\b\b\b\b\b\b\b\b\b\b\b\b\b\b\b\b\b\b\b\b\b\b\b\b\b\b\b\b\b\b\b\b\b\b\b\b\b\b\b\b\b\b\b\b\b\b\b\b\b\b\b\b\b\b\b\b\r",
      "\u001b[1m607/607\u001b[0m \u001b[32m━━━━━━━━━━━━━━━━━━━━\u001b[0m\u001b[37m\u001b[0m \u001b[1m64s\u001b[0m 105ms/step - accuracy: 0.7170 - loss: 1.3158 - val_accuracy: 0.7042 - val_loss: 1.3846 - learning_rate: 1.0000e-04\n",
      "Epoch 6/100\n",
      "\u001b[1m607/607\u001b[0m \u001b[32m━━━━━━━━━━━━━━━━━━━━\u001b[0m\u001b[37m\u001b[0m \u001b[1m0s\u001b[0m 95ms/step - accuracy: 0.7162 - loss: 1.2567\n",
      "Epoch 6: val_loss did not improve from 1.38458\n",
      "\u001b[1m607/607\u001b[0m \u001b[32m━━━━━━━━━━━━━━━━━━━━\u001b[0m\u001b[37m\u001b[0m \u001b[1m63s\u001b[0m 104ms/step - accuracy: 0.7162 - loss: 1.2567 - val_accuracy: 0.7173 - val_loss: 1.3908 - learning_rate: 1.0000e-04\n",
      "Epoch 7/100\n",
      "\u001b[1m607/607\u001b[0m \u001b[32m━━━━━━━━━━━━━━━━━━━━\u001b[0m\u001b[37m\u001b[0m \u001b[1m0s\u001b[0m 95ms/step - accuracy: 0.7330 - loss: 1.2391\n",
      "Epoch 7: val_loss improved from 1.38458 to 1.32430, saving model to EfficientNetB0_waste_classifier.h5\n"
     ]
    },
    {
     "name": "stderr",
     "output_type": "stream",
     "text": [
      "WARNING:absl:You are saving your model as an HDF5 file via `model.save()` or `keras.saving.save_model(model)`. This file format is considered legacy. We recommend using instead the native Keras format, e.g. `model.save('my_model.keras')` or `keras.saving.save_model(model, 'my_model.keras')`. \n"
     ]
    },
    {
     "name": "stdout",
     "output_type": "stream",
     "text": [
      "\b\b\b\b\b\b\b\b\b\b\b\b\b\b\b\b\b\b\b\b\b\b\b\b\b\b\b\b\b\b\b\b\b\b\b\b\b\b\b\b\b\b\b\b\b\b\b\b\b\b\b\b\b\b\b\b\b\b\b\b\b\b\b\b\b\b\b\b\b\b\b\b\b\b\b\r",
      "\u001b[1m607/607\u001b[0m \u001b[32m━━━━━━━━━━━━━━━━━━━━\u001b[0m\u001b[37m\u001b[0m \u001b[1m64s\u001b[0m 105ms/step - accuracy: 0.7330 - loss: 1.2391 - val_accuracy: 0.7107 - val_loss: 1.3243 - learning_rate: 1.0000e-04\n",
      "Epoch 8/100\n",
      "\u001b[1m607/607\u001b[0m \u001b[32m━━━━━━━━━━━━━━━━━━━━\u001b[0m\u001b[37m\u001b[0m \u001b[1m0s\u001b[0m 95ms/step - accuracy: 0.7413 - loss: 1.1976\n",
      "Epoch 8: val_loss improved from 1.32430 to 1.31027, saving model to EfficientNetB0_waste_classifier.h5\n"
     ]
    },
    {
     "name": "stderr",
     "output_type": "stream",
     "text": [
      "WARNING:absl:You are saving your model as an HDF5 file via `model.save()` or `keras.saving.save_model(model)`. This file format is considered legacy. We recommend using instead the native Keras format, e.g. `model.save('my_model.keras')` or `keras.saving.save_model(model, 'my_model.keras')`. \n"
     ]
    },
    {
     "name": "stdout",
     "output_type": "stream",
     "text": [
      "\b\b\b\b\b\b\b\b\b\b\b\b\b\b\b\b\b\b\b\b\b\b\b\b\b\b\b\b\b\b\b\b\b\b\b\b\b\b\b\b\b\b\b\b\b\b\b\b\b\b\b\b\b\b\b\b\b\b\b\b\b\b\b\b\b\b\b\b\b\b\b\b\b\b\b\r",
      "\u001b[1m607/607\u001b[0m \u001b[32m━━━━━━━━━━━━━━━━━━━━\u001b[0m\u001b[37m\u001b[0m \u001b[1m63s\u001b[0m 104ms/step - accuracy: 0.7413 - loss: 1.1977 - val_accuracy: 0.7251 - val_loss: 1.3103 - learning_rate: 1.0000e-04\n",
      "Epoch 9/100\n",
      "\u001b[1m607/607\u001b[0m \u001b[32m━━━━━━━━━━━━━━━━━━━━\u001b[0m\u001b[37m\u001b[0m \u001b[1m0s\u001b[0m 95ms/step - accuracy: 0.7669 - loss: 1.1297\n",
      "Epoch 9: val_loss did not improve from 1.31027\n",
      "\u001b[1m607/607\u001b[0m \u001b[32m━━━━━━━━━━━━━━━━━━━━\u001b[0m\u001b[37m\u001b[0m \u001b[1m63s\u001b[0m 104ms/step - accuracy: 0.7669 - loss: 1.1297 - val_accuracy: 0.7212 - val_loss: 1.3222 - learning_rate: 1.0000e-04\n",
      "Epoch 10/100\n",
      "\u001b[1m607/607\u001b[0m \u001b[32m━━━━━━━━━━━━━━━━━━━━\u001b[0m\u001b[37m\u001b[0m \u001b[1m0s\u001b[0m 95ms/step - accuracy: 0.7519 - loss: 1.1326\n",
      "Epoch 10: val_loss did not improve from 1.31027\n",
      "\u001b[1m607/607\u001b[0m \u001b[32m━━━━━━━━━━━━━━━━━━━━\u001b[0m\u001b[37m\u001b[0m \u001b[1m63s\u001b[0m 104ms/step - accuracy: 0.7519 - loss: 1.1326 - val_accuracy: 0.7291 - val_loss: 1.3186 - learning_rate: 1.0000e-04\n",
      "Epoch 11/100\n",
      "\u001b[1m607/607\u001b[0m \u001b[32m━━━━━━━━━━━━━━━━━━━━\u001b[0m\u001b[37m\u001b[0m \u001b[1m0s\u001b[0m 95ms/step - accuracy: 0.7670 - loss: 1.1086\n",
      "Epoch 11: val_loss did not improve from 1.31027\n",
      "\u001b[1m607/607\u001b[0m \u001b[32m━━━━━━━━━━━━━━━━━━━━\u001b[0m\u001b[37m\u001b[0m \u001b[1m63s\u001b[0m 104ms/step - accuracy: 0.7670 - loss: 1.1086 - val_accuracy: 0.7277 - val_loss: 1.3277 - learning_rate: 1.0000e-04\n",
      "Epoch 12/100\n",
      "\u001b[1m607/607\u001b[0m \u001b[32m━━━━━━━━━━━━━━━━━━━━\u001b[0m\u001b[37m\u001b[0m \u001b[1m0s\u001b[0m 95ms/step - accuracy: 0.7901 - loss: 1.0696\n",
      "Epoch 12: val_loss improved from 1.31027 to 1.26156, saving model to EfficientNetB0_waste_classifier.h5\n"
     ]
    },
    {
     "name": "stderr",
     "output_type": "stream",
     "text": [
      "WARNING:absl:You are saving your model as an HDF5 file via `model.save()` or `keras.saving.save_model(model)`. This file format is considered legacy. We recommend using instead the native Keras format, e.g. `model.save('my_model.keras')` or `keras.saving.save_model(model, 'my_model.keras')`. \n"
     ]
    },
    {
     "name": "stdout",
     "output_type": "stream",
     "text": [
      "\b\b\b\b\b\b\b\b\b\b\b\b\b\b\b\b\b\b\b\b\b\b\b\b\b\b\b\b\b\b\b\b\b\b\b\b\b\b\b\b\b\b\b\b\b\b\b\b\b\b\b\b\b\b\b\b\b\b\b\b\b\b\b\b\b\b\b\b\b\b\b\b\b\b\b\r",
      "\u001b[1m607/607\u001b[0m \u001b[32m━━━━━━━━━━━━━━━━━━━━\u001b[0m\u001b[37m\u001b[0m \u001b[1m63s\u001b[0m 104ms/step - accuracy: 0.7901 - loss: 1.0697 - val_accuracy: 0.7343 - val_loss: 1.2616 - learning_rate: 1.0000e-04\n",
      "Epoch 13/100\n",
      "\u001b[1m607/607\u001b[0m \u001b[32m━━━━━━━━━━━━━━━━━━━━\u001b[0m\u001b[37m\u001b[0m \u001b[1m0s\u001b[0m 95ms/step - accuracy: 0.7866 - loss: 1.0489\n",
      "Epoch 13: val_loss did not improve from 1.26156\n",
      "\u001b[1m607/607\u001b[0m \u001b[32m━━━━━━━━━━━━━━━━━━━━\u001b[0m\u001b[37m\u001b[0m \u001b[1m63s\u001b[0m 104ms/step - accuracy: 0.7866 - loss: 1.0489 - val_accuracy: 0.7395 - val_loss: 1.2770 - learning_rate: 1.0000e-04\n",
      "Epoch 14/100\n",
      "\u001b[1m607/607\u001b[0m \u001b[32m━━━━━━━━━━━━━━━━━━━━\u001b[0m\u001b[37m\u001b[0m \u001b[1m0s\u001b[0m 95ms/step - accuracy: 0.7785 - loss: 1.0444\n",
      "Epoch 14: val_loss did not improve from 1.26156\n",
      "\u001b[1m607/607\u001b[0m \u001b[32m━━━━━━━━━━━━━━━━━━━━\u001b[0m\u001b[37m\u001b[0m \u001b[1m63s\u001b[0m 104ms/step - accuracy: 0.7785 - loss: 1.0444 - val_accuracy: 0.7343 - val_loss: 1.2666 - learning_rate: 1.0000e-04\n",
      "Epoch 15/100\n",
      "\u001b[1m607/607\u001b[0m \u001b[32m━━━━━━━━━━━━━━━━━━━━\u001b[0m\u001b[37m\u001b[0m \u001b[1m0s\u001b[0m 95ms/step - accuracy: 0.8057 - loss: 1.0155\n",
      "Epoch 15: val_loss improved from 1.26156 to 1.23982, saving model to EfficientNetB0_waste_classifier.h5\n"
     ]
    },
    {
     "name": "stderr",
     "output_type": "stream",
     "text": [
      "WARNING:absl:You are saving your model as an HDF5 file via `model.save()` or `keras.saving.save_model(model)`. This file format is considered legacy. We recommend using instead the native Keras format, e.g. `model.save('my_model.keras')` or `keras.saving.save_model(model, 'my_model.keras')`. \n"
     ]
    },
    {
     "name": "stdout",
     "output_type": "stream",
     "text": [
      "\b\b\b\b\b\b\b\b\b\b\b\b\b\b\b\b\b\b\b\b\b\b\b\b\b\b\b\b\b\b\b\b\b\b\b\b\b\b\b\b\b\b\b\b\b\b\b\b\b\b\b\b\b\b\b\b\b\b\b\b\b\b\b\b\b\b\b\b\b\b\b\b\b\b\b\r",
      "\u001b[1m607/607\u001b[0m \u001b[32m━━━━━━━━━━━━━━━━━━━━\u001b[0m\u001b[37m\u001b[0m \u001b[1m63s\u001b[0m 104ms/step - accuracy: 0.8057 - loss: 1.0155 - val_accuracy: 0.7435 - val_loss: 1.2398 - learning_rate: 1.0000e-04\n",
      "Epoch 16/100\n",
      "\u001b[1m607/607\u001b[0m \u001b[32m━━━━━━━━━━━━━━━━━━━━\u001b[0m\u001b[37m\u001b[0m \u001b[1m0s\u001b[0m 95ms/step - accuracy: 0.8132 - loss: 0.9500\n",
      "Epoch 16: val_loss improved from 1.23982 to 1.21263, saving model to EfficientNetB0_waste_classifier.h5\n"
     ]
    },
    {
     "name": "stderr",
     "output_type": "stream",
     "text": [
      "WARNING:absl:You are saving your model as an HDF5 file via `model.save()` or `keras.saving.save_model(model)`. This file format is considered legacy. We recommend using instead the native Keras format, e.g. `model.save('my_model.keras')` or `keras.saving.save_model(model, 'my_model.keras')`. \n"
     ]
    },
    {
     "name": "stdout",
     "output_type": "stream",
     "text": [
      "\b\b\b\b\b\b\b\b\b\b\b\b\b\b\b\b\b\b\b\b\b\b\b\b\b\b\b\b\b\b\b\b\b\b\b\b\b\b\b\b\b\b\b\b\b\b\b\b\b\b\b\b\b\b\b\b\b\b\b\b\b\b\b\b\b\b\b\b\b\b\b\b\b\b\b\r",
      "\u001b[1m607/607\u001b[0m \u001b[32m━━━━━━━━━━━━━━━━━━━━\u001b[0m\u001b[37m\u001b[0m \u001b[1m63s\u001b[0m 104ms/step - accuracy: 0.8131 - loss: 0.9500 - val_accuracy: 0.7605 - val_loss: 1.2126 - learning_rate: 1.0000e-04\n",
      "Epoch 17/100\n",
      "\u001b[1m607/607\u001b[0m \u001b[32m━━━━━━━━━━━━━━━━━━━━\u001b[0m\u001b[37m\u001b[0m \u001b[1m0s\u001b[0m 95ms/step - accuracy: 0.8157 - loss: 0.9590\n",
      "Epoch 17: val_loss did not improve from 1.21263\n",
      "\u001b[1m607/607\u001b[0m \u001b[32m━━━━━━━━━━━━━━━━━━━━\u001b[0m\u001b[37m\u001b[0m \u001b[1m63s\u001b[0m 104ms/step - accuracy: 0.8157 - loss: 0.9591 - val_accuracy: 0.7644 - val_loss: 1.2405 - learning_rate: 1.0000e-04\n",
      "Epoch 18/100\n",
      "\u001b[1m607/607\u001b[0m \u001b[32m━━━━━━━━━━━━━━━━━━━━\u001b[0m\u001b[37m\u001b[0m \u001b[1m0s\u001b[0m 95ms/step - accuracy: 0.8030 - loss: 0.9748\n",
      "Epoch 18: val_loss did not improve from 1.21263\n",
      "\u001b[1m607/607\u001b[0m \u001b[32m━━━━━━━━━━━━━━━━━━━━\u001b[0m\u001b[37m\u001b[0m \u001b[1m63s\u001b[0m 104ms/step - accuracy: 0.8030 - loss: 0.9748 - val_accuracy: 0.7605 - val_loss: 1.2167 - learning_rate: 1.0000e-04\n",
      "Epoch 19/100\n",
      "\u001b[1m607/607\u001b[0m \u001b[32m━━━━━━━━━━━━━━━━━━━━\u001b[0m\u001b[37m\u001b[0m \u001b[1m0s\u001b[0m 95ms/step - accuracy: 0.8163 - loss: 0.9600\n",
      "Epoch 19: val_loss did not improve from 1.21263\n",
      "\u001b[1m607/607\u001b[0m \u001b[32m━━━━━━━━━━━━━━━━━━━━\u001b[0m\u001b[37m\u001b[0m \u001b[1m63s\u001b[0m 104ms/step - accuracy: 0.8163 - loss: 0.9600 - val_accuracy: 0.7487 - val_loss: 1.2571 - learning_rate: 1.0000e-04\n",
      "Epoch 20/100\n",
      "\u001b[1m607/607\u001b[0m \u001b[32m━━━━━━━━━━━━━━━━━━━━\u001b[0m\u001b[37m\u001b[0m \u001b[1m0s\u001b[0m 96ms/step - accuracy: 0.8223 - loss: 0.9062\n",
      "Epoch 20: val_loss did not improve from 1.21263\n",
      "\u001b[1m607/607\u001b[0m \u001b[32m━━━━━━━━━━━━━━━━━━━━\u001b[0m\u001b[37m\u001b[0m \u001b[1m63s\u001b[0m 105ms/step - accuracy: 0.8223 - loss: 0.9062 - val_accuracy: 0.7526 - val_loss: 1.2140 - learning_rate: 1.0000e-04\n",
      "Epoch 21/100\n",
      "\u001b[1m607/607\u001b[0m \u001b[32m━━━━━━━━━━━━━━━━━━━━\u001b[0m\u001b[37m\u001b[0m \u001b[1m0s\u001b[0m 95ms/step - accuracy: 0.8092 - loss: 0.9378\n",
      "Epoch 21: val_loss improved from 1.21263 to 1.18158, saving model to EfficientNetB0_waste_classifier.h5\n"
     ]
    },
    {
     "name": "stderr",
     "output_type": "stream",
     "text": [
      "WARNING:absl:You are saving your model as an HDF5 file via `model.save()` or `keras.saving.save_model(model)`. This file format is considered legacy. We recommend using instead the native Keras format, e.g. `model.save('my_model.keras')` or `keras.saving.save_model(model, 'my_model.keras')`. \n"
     ]
    },
    {
     "name": "stdout",
     "output_type": "stream",
     "text": [
      "\b\b\b\b\b\b\b\b\b\b\b\b\b\b\b\b\b\b\b\b\b\b\b\b\b\b\b\b\b\b\b\b\b\b\b\b\b\b\b\b\b\b\b\b\b\b\b\b\b\b\b\b\b\b\b\b\b\b\b\b\b\b\b\b\b\b\b\b\b\b\b\b\b\b\b\r",
      "\u001b[1m607/607\u001b[0m \u001b[32m━━━━━━━━━━━━━━━━━━━━\u001b[0m\u001b[37m\u001b[0m \u001b[1m64s\u001b[0m 105ms/step - accuracy: 0.8092 - loss: 0.9379 - val_accuracy: 0.7696 - val_loss: 1.1816 - learning_rate: 1.0000e-04\n",
      "Epoch 22/100\n",
      "\u001b[1m607/607\u001b[0m \u001b[32m━━━━━━━━━━━━━━━━━━━━\u001b[0m\u001b[37m\u001b[0m \u001b[1m0s\u001b[0m 95ms/step - accuracy: 0.8200 - loss: 0.9543\n",
      "Epoch 22: val_loss improved from 1.18158 to 1.16698, saving model to EfficientNetB0_waste_classifier.h5\n"
     ]
    },
    {
     "name": "stderr",
     "output_type": "stream",
     "text": [
      "WARNING:absl:You are saving your model as an HDF5 file via `model.save()` or `keras.saving.save_model(model)`. This file format is considered legacy. We recommend using instead the native Keras format, e.g. `model.save('my_model.keras')` or `keras.saving.save_model(model, 'my_model.keras')`. \n"
     ]
    },
    {
     "name": "stdout",
     "output_type": "stream",
     "text": [
      "\b\b\b\b\b\b\b\b\b\b\b\b\b\b\b\b\b\b\b\b\b\b\b\b\b\b\b\b\b\b\b\b\b\b\b\b\b\b\b\b\b\b\b\b\b\b\b\b\b\b\b\b\b\b\b\b\b\b\b\b\b\b\b\b\b\b\b\b\b\b\b\b\b\b\b\r",
      "\u001b[1m607/607\u001b[0m \u001b[32m━━━━━━━━━━━━━━━━━━━━\u001b[0m\u001b[37m\u001b[0m \u001b[1m64s\u001b[0m 105ms/step - accuracy: 0.8200 - loss: 0.9543 - val_accuracy: 0.7723 - val_loss: 1.1670 - learning_rate: 1.0000e-04\n",
      "Epoch 23/100\n",
      "\u001b[1m607/607\u001b[0m \u001b[32m━━━━━━━━━━━━━━━━━━━━\u001b[0m\u001b[37m\u001b[0m \u001b[1m0s\u001b[0m 95ms/step - accuracy: 0.8254 - loss: 0.9214\n",
      "Epoch 23: val_loss improved from 1.16698 to 1.16389, saving model to EfficientNetB0_waste_classifier.h5\n"
     ]
    },
    {
     "name": "stderr",
     "output_type": "stream",
     "text": [
      "WARNING:absl:You are saving your model as an HDF5 file via `model.save()` or `keras.saving.save_model(model)`. This file format is considered legacy. We recommend using instead the native Keras format, e.g. `model.save('my_model.keras')` or `keras.saving.save_model(model, 'my_model.keras')`. \n"
     ]
    },
    {
     "name": "stdout",
     "output_type": "stream",
     "text": [
      "\b\b\b\b\b\b\b\b\b\b\b\b\b\b\b\b\b\b\b\b\b\b\b\b\b\b\b\b\b\b\b\b\b\b\b\b\b\b\b\b\b\b\b\b\b\b\b\b\b\b\b\b\b\b\b\b\b\b\b\b\b\b\b\b\b\b\b\b\b\b\b\b\b\b\b\r",
      "\u001b[1m607/607\u001b[0m \u001b[32m━━━━━━━━━━━━━━━━━━━━\u001b[0m\u001b[37m\u001b[0m \u001b[1m63s\u001b[0m 104ms/step - accuracy: 0.8254 - loss: 0.9213 - val_accuracy: 0.7605 - val_loss: 1.1639 - learning_rate: 1.0000e-04\n",
      "Epoch 24/100\n",
      "\u001b[1m607/607\u001b[0m \u001b[32m━━━━━━━━━━━━━━━━━━━━\u001b[0m\u001b[37m\u001b[0m \u001b[1m0s\u001b[0m 96ms/step - accuracy: 0.8358 - loss: 0.8740\n",
      "Epoch 24: val_loss improved from 1.16389 to 1.16208, saving model to EfficientNetB0_waste_classifier.h5\n"
     ]
    },
    {
     "name": "stderr",
     "output_type": "stream",
     "text": [
      "WARNING:absl:You are saving your model as an HDF5 file via `model.save()` or `keras.saving.save_model(model)`. This file format is considered legacy. We recommend using instead the native Keras format, e.g. `model.save('my_model.keras')` or `keras.saving.save_model(model, 'my_model.keras')`. \n"
     ]
    },
    {
     "name": "stdout",
     "output_type": "stream",
     "text": [
      "\b\b\b\b\b\b\b\b\b\b\b\b\b\b\b\b\b\b\b\b\b\b\b\b\b\b\b\b\b\b\b\b\b\b\b\b\b\b\b\b\b\b\b\b\b\b\b\b\b\b\b\b\b\b\b\b\b\b\b\b\b\b\b\b\b\b\b\b\b\b\b\b\b\b\b\r",
      "\u001b[1m607/607\u001b[0m \u001b[32m━━━━━━━━━━━━━━━━━━━━\u001b[0m\u001b[37m\u001b[0m \u001b[1m64s\u001b[0m 106ms/step - accuracy: 0.8358 - loss: 0.8741 - val_accuracy: 0.7696 - val_loss: 1.1621 - learning_rate: 1.0000e-04\n",
      "Epoch 25/100\n",
      "\u001b[1m607/607\u001b[0m \u001b[32m━━━━━━━━━━━━━━━━━━━━\u001b[0m\u001b[37m\u001b[0m \u001b[1m0s\u001b[0m 95ms/step - accuracy: 0.8344 - loss: 0.9102\n",
      "Epoch 25: val_loss did not improve from 1.16208\n",
      "\u001b[1m607/607\u001b[0m \u001b[32m━━━━━━━━━━━━━━━━━━━━\u001b[0m\u001b[37m\u001b[0m \u001b[1m63s\u001b[0m 104ms/step - accuracy: 0.8344 - loss: 0.9101 - val_accuracy: 0.7762 - val_loss: 1.1686 - learning_rate: 1.0000e-04\n",
      "Epoch 26/100\n",
      "\u001b[1m607/607\u001b[0m \u001b[32m━━━━━━━━━━━━━━━━━━━━\u001b[0m\u001b[37m\u001b[0m \u001b[1m0s\u001b[0m 95ms/step - accuracy: 0.8285 - loss: 0.8518\n",
      "Epoch 26: val_loss improved from 1.16208 to 1.13618, saving model to EfficientNetB0_waste_classifier.h5\n"
     ]
    },
    {
     "name": "stderr",
     "output_type": "stream",
     "text": [
      "WARNING:absl:You are saving your model as an HDF5 file via `model.save()` or `keras.saving.save_model(model)`. This file format is considered legacy. We recommend using instead the native Keras format, e.g. `model.save('my_model.keras')` or `keras.saving.save_model(model, 'my_model.keras')`. \n"
     ]
    },
    {
     "name": "stdout",
     "output_type": "stream",
     "text": [
      "\b\b\b\b\b\b\b\b\b\b\b\b\b\b\b\b\b\b\b\b\b\b\b\b\b\b\b\b\b\b\b\b\b\b\b\b\b\b\b\b\b\b\b\b\b\b\b\b\b\b\b\b\b\b\b\b\b\b\b\b\b\b\b\b\b\b\b\b\b\b\b\b\b\b\b\r",
      "\u001b[1m607/607\u001b[0m \u001b[32m━━━━━━━━━━━━━━━━━━━━\u001b[0m\u001b[37m\u001b[0m \u001b[1m63s\u001b[0m 104ms/step - accuracy: 0.8285 - loss: 0.8518 - val_accuracy: 0.7880 - val_loss: 1.1362 - learning_rate: 1.0000e-04\n",
      "Epoch 27/100\n",
      "\u001b[1m607/607\u001b[0m \u001b[32m━━━━━━━━━━━━━━━━━━━━\u001b[0m\u001b[37m\u001b[0m \u001b[1m0s\u001b[0m 95ms/step - accuracy: 0.8291 - loss: 0.8890\n",
      "Epoch 27: val_loss improved from 1.13618 to 1.12879, saving model to EfficientNetB0_waste_classifier.h5\n"
     ]
    },
    {
     "name": "stderr",
     "output_type": "stream",
     "text": [
      "WARNING:absl:You are saving your model as an HDF5 file via `model.save()` or `keras.saving.save_model(model)`. This file format is considered legacy. We recommend using instead the native Keras format, e.g. `model.save('my_model.keras')` or `keras.saving.save_model(model, 'my_model.keras')`. \n"
     ]
    },
    {
     "name": "stdout",
     "output_type": "stream",
     "text": [
      "\b\b\b\b\b\b\b\b\b\b\b\b\b\b\b\b\b\b\b\b\b\b\b\b\b\b\b\b\b\b\b\b\b\b\b\b\b\b\b\b\b\b\b\b\b\b\b\b\b\b\b\b\b\b\b\b\b\b\b\b\b\b\b\b\b\b\b\b\b\b\b\b\b\b\b\r",
      "\u001b[1m607/607\u001b[0m \u001b[32m━━━━━━━━━━━━━━━━━━━━\u001b[0m\u001b[37m\u001b[0m \u001b[1m64s\u001b[0m 105ms/step - accuracy: 0.8291 - loss: 0.8890 - val_accuracy: 0.7788 - val_loss: 1.1288 - learning_rate: 1.0000e-04\n",
      "Epoch 28/100\n",
      "\u001b[1m607/607\u001b[0m \u001b[32m━━━━━━━━━━━━━━━━━━━━\u001b[0m\u001b[37m\u001b[0m \u001b[1m0s\u001b[0m 95ms/step - accuracy: 0.8074 - loss: 0.9187\n",
      "Epoch 28: val_loss improved from 1.12879 to 1.11342, saving model to EfficientNetB0_waste_classifier.h5\n"
     ]
    },
    {
     "name": "stderr",
     "output_type": "stream",
     "text": [
      "WARNING:absl:You are saving your model as an HDF5 file via `model.save()` or `keras.saving.save_model(model)`. This file format is considered legacy. We recommend using instead the native Keras format, e.g. `model.save('my_model.keras')` or `keras.saving.save_model(model, 'my_model.keras')`. \n"
     ]
    },
    {
     "name": "stdout",
     "output_type": "stream",
     "text": [
      "\b\b\b\b\b\b\b\b\b\b\b\b\b\b\b\b\b\b\b\b\b\b\b\b\b\b\b\b\b\b\b\b\b\b\b\b\b\b\b\b\b\b\b\b\b\b\b\b\b\b\b\b\b\b\b\b\b\b\b\b\b\b\b\b\b\b\b\b\b\b\b\b\b\b\b\r",
      "\u001b[1m607/607\u001b[0m \u001b[32m━━━━━━━━━━━━━━━━━━━━\u001b[0m\u001b[37m\u001b[0m \u001b[1m63s\u001b[0m 105ms/step - accuracy: 0.8074 - loss: 0.9187 - val_accuracy: 0.7788 - val_loss: 1.1134 - learning_rate: 1.0000e-04\n",
      "Epoch 29/100\n",
      "\u001b[1m607/607\u001b[0m \u001b[32m━━━━━━━━━━━━━━━━━━━━\u001b[0m\u001b[37m\u001b[0m \u001b[1m0s\u001b[0m 95ms/step - accuracy: 0.8505 - loss: 0.8307\n",
      "Epoch 29: val_loss did not improve from 1.11342\n",
      "\u001b[1m607/607\u001b[0m \u001b[32m━━━━━━━━━━━━━━━━━━━━\u001b[0m\u001b[37m\u001b[0m \u001b[1m63s\u001b[0m 104ms/step - accuracy: 0.8505 - loss: 0.8307 - val_accuracy: 0.7801 - val_loss: 1.1525 - learning_rate: 1.0000e-04\n",
      "Epoch 30/100\n",
      "\u001b[1m607/607\u001b[0m \u001b[32m━━━━━━━━━━━━━━━━━━━━\u001b[0m\u001b[37m\u001b[0m \u001b[1m0s\u001b[0m 95ms/step - accuracy: 0.8414 - loss: 0.8402\n",
      "Epoch 30: val_loss did not improve from 1.11342\n",
      "\u001b[1m607/607\u001b[0m \u001b[32m━━━━━━━━━━━━━━━━━━━━\u001b[0m\u001b[37m\u001b[0m \u001b[1m63s\u001b[0m 104ms/step - accuracy: 0.8414 - loss: 0.8402 - val_accuracy: 0.7853 - val_loss: 1.1581 - learning_rate: 1.0000e-04\n",
      "Epoch 31/100\n",
      "\u001b[1m607/607\u001b[0m \u001b[32m━━━━━━━━━━━━━━━━━━━━\u001b[0m\u001b[37m\u001b[0m \u001b[1m0s\u001b[0m 95ms/step - accuracy: 0.8552 - loss: 0.8036\n",
      "Epoch 31: val_loss did not improve from 1.11342\n",
      "\u001b[1m607/607\u001b[0m \u001b[32m━━━━━━━━━━━━━━━━━━━━\u001b[0m\u001b[37m\u001b[0m \u001b[1m63s\u001b[0m 104ms/step - accuracy: 0.8552 - loss: 0.8036 - val_accuracy: 0.7840 - val_loss: 1.1236 - learning_rate: 1.0000e-04\n",
      "Epoch 32/100\n",
      "\u001b[1m607/607\u001b[0m \u001b[32m━━━━━━━━━━━━━━━━━━━━\u001b[0m\u001b[37m\u001b[0m \u001b[1m0s\u001b[0m 95ms/step - accuracy: 0.8401 - loss: 0.8354\n",
      "Epoch 32: val_loss did not improve from 1.11342\n",
      "\u001b[1m607/607\u001b[0m \u001b[32m━━━━━━━━━━━━━━━━━━━━\u001b[0m\u001b[37m\u001b[0m \u001b[1m63s\u001b[0m 104ms/step - accuracy: 0.8401 - loss: 0.8354 - val_accuracy: 0.7840 - val_loss: 1.1148 - learning_rate: 1.0000e-04\n",
      "Epoch 33/100\n",
      "\u001b[1m607/607\u001b[0m \u001b[32m━━━━━━━━━━━━━━━━━━━━\u001b[0m\u001b[37m\u001b[0m \u001b[1m0s\u001b[0m 95ms/step - accuracy: 0.8395 - loss: 0.8312\n",
      "Epoch 33: val_loss improved from 1.11342 to 1.10082, saving model to EfficientNetB0_waste_classifier.h5\n"
     ]
    },
    {
     "name": "stderr",
     "output_type": "stream",
     "text": [
      "WARNING:absl:You are saving your model as an HDF5 file via `model.save()` or `keras.saving.save_model(model)`. This file format is considered legacy. We recommend using instead the native Keras format, e.g. `model.save('my_model.keras')` or `keras.saving.save_model(model, 'my_model.keras')`. \n"
     ]
    },
    {
     "name": "stdout",
     "output_type": "stream",
     "text": [
      "\b\b\b\b\b\b\b\b\b\b\b\b\b\b\b\b\b\b\b\b\b\b\b\b\b\b\b\b\b\b\b\b\b\b\b\b\b\b\b\b\b\b\b\b\b\b\b\b\b\b\b\b\b\b\b\b\b\b\b\b\b\b\b\b\b\b\b\b\b\b\b\b\b\b\b\r",
      "\u001b[1m607/607\u001b[0m \u001b[32m━━━━━━━━━━━━━━━━━━━━\u001b[0m\u001b[37m\u001b[0m \u001b[1m63s\u001b[0m 104ms/step - accuracy: 0.8395 - loss: 0.8312 - val_accuracy: 0.7814 - val_loss: 1.1008 - learning_rate: 1.0000e-04\n",
      "Epoch 34/100\n",
      "\u001b[1m607/607\u001b[0m \u001b[32m━━━━━━━━━━━━━━━━━━━━\u001b[0m\u001b[37m\u001b[0m \u001b[1m0s\u001b[0m 95ms/step - accuracy: 0.8575 - loss: 0.8079\n",
      "Epoch 34: val_loss did not improve from 1.10082\n",
      "\u001b[1m607/607\u001b[0m \u001b[32m━━━━━━━━━━━━━━━━━━━━\u001b[0m\u001b[37m\u001b[0m \u001b[1m64s\u001b[0m 105ms/step - accuracy: 0.8575 - loss: 0.8079 - val_accuracy: 0.7788 - val_loss: 1.1206 - learning_rate: 1.0000e-04\n",
      "Epoch 35/100\n",
      "\u001b[1m607/607\u001b[0m \u001b[32m━━━━━━━━━━━━━━━━━━━━\u001b[0m\u001b[37m\u001b[0m \u001b[1m0s\u001b[0m 95ms/step - accuracy: 0.8448 - loss: 0.8023\n",
      "Epoch 35: val_loss did not improve from 1.10082\n",
      "\u001b[1m607/607\u001b[0m \u001b[32m━━━━━━━━━━━━━━━━━━━━\u001b[0m\u001b[37m\u001b[0m \u001b[1m63s\u001b[0m 103ms/step - accuracy: 0.8448 - loss: 0.8024 - val_accuracy: 0.7827 - val_loss: 1.1226 - learning_rate: 1.0000e-04\n",
      "Epoch 36/100\n",
      "\u001b[1m607/607\u001b[0m \u001b[32m━━━━━━━━━━━━━━━━━━━━\u001b[0m\u001b[37m\u001b[0m \u001b[1m0s\u001b[0m 95ms/step - accuracy: 0.8534 - loss: 0.7915\n",
      "Epoch 36: val_loss did not improve from 1.10082\n",
      "\u001b[1m607/607\u001b[0m \u001b[32m━━━━━━━━━━━━━━━━━━━━\u001b[0m\u001b[37m\u001b[0m \u001b[1m63s\u001b[0m 103ms/step - accuracy: 0.8534 - loss: 0.7915 - val_accuracy: 0.7853 - val_loss: 1.1302 - learning_rate: 1.0000e-04\n",
      "Epoch 37/100\n",
      "\u001b[1m607/607\u001b[0m \u001b[32m━━━━━━━━━━━━━━━━━━━━\u001b[0m\u001b[37m\u001b[0m \u001b[1m0s\u001b[0m 95ms/step - accuracy: 0.8542 - loss: 0.8032\n",
      "Epoch 37: val_loss did not improve from 1.10082\n",
      "\u001b[1m607/607\u001b[0m \u001b[32m━━━━━━━━━━━━━━━━━━━━\u001b[0m\u001b[37m\u001b[0m \u001b[1m63s\u001b[0m 104ms/step - accuracy: 0.8542 - loss: 0.8032 - val_accuracy: 0.7866 - val_loss: 1.1250 - learning_rate: 1.0000e-04\n",
      "Epoch 38/100\n",
      "\u001b[1m607/607\u001b[0m \u001b[32m━━━━━━━━━━━━━━━━━━━━\u001b[0m\u001b[37m\u001b[0m \u001b[1m0s\u001b[0m 95ms/step - accuracy: 0.8570 - loss: 0.7963\n",
      "Epoch 38: val_loss improved from 1.10082 to 1.09129, saving model to EfficientNetB0_waste_classifier.h5\n"
     ]
    },
    {
     "name": "stderr",
     "output_type": "stream",
     "text": [
      "WARNING:absl:You are saving your model as an HDF5 file via `model.save()` or `keras.saving.save_model(model)`. This file format is considered legacy. We recommend using instead the native Keras format, e.g. `model.save('my_model.keras')` or `keras.saving.save_model(model, 'my_model.keras')`. \n"
     ]
    },
    {
     "name": "stdout",
     "output_type": "stream",
     "text": [
      "\b\b\b\b\b\b\b\b\b\b\b\b\b\b\b\b\b\b\b\b\b\b\b\b\b\b\b\b\b\b\b\b\b\b\b\b\b\b\b\b\b\b\b\b\b\b\b\b\b\b\b\b\b\b\b\b\b\b\b\b\b\b\b\b\b\b\b\b\b\b\b\b\b\b\b\r",
      "\u001b[1m607/607\u001b[0m \u001b[32m━━━━━━━━━━━━━━━━━━━━\u001b[0m\u001b[37m\u001b[0m \u001b[1m63s\u001b[0m 104ms/step - accuracy: 0.8570 - loss: 0.7963 - val_accuracy: 0.7840 - val_loss: 1.0913 - learning_rate: 1.0000e-04\n",
      "Epoch 39/100\n",
      "\u001b[1m607/607\u001b[0m \u001b[32m━━━━━━━━━━━━━━━━━━━━\u001b[0m\u001b[37m\u001b[0m \u001b[1m0s\u001b[0m 95ms/step - accuracy: 0.8566 - loss: 0.7739\n",
      "Epoch 39: val_loss improved from 1.09129 to 1.08867, saving model to EfficientNetB0_waste_classifier.h5\n"
     ]
    },
    {
     "name": "stderr",
     "output_type": "stream",
     "text": [
      "WARNING:absl:You are saving your model as an HDF5 file via `model.save()` or `keras.saving.save_model(model)`. This file format is considered legacy. We recommend using instead the native Keras format, e.g. `model.save('my_model.keras')` or `keras.saving.save_model(model, 'my_model.keras')`. \n"
     ]
    },
    {
     "name": "stdout",
     "output_type": "stream",
     "text": [
      "\b\b\b\b\b\b\b\b\b\b\b\b\b\b\b\b\b\b\b\b\b\b\b\b\b\b\b\b\b\b\b\b\b\b\b\b\b\b\b\b\b\b\b\b\b\b\b\b\b\b\b\b\b\b\b\b\b\b\b\b\b\b\b\b\b\b\b\b\b\b\b\b\b\b\b\r",
      "\u001b[1m607/607\u001b[0m \u001b[32m━━━━━━━━━━━━━━━━━━━━\u001b[0m\u001b[37m\u001b[0m \u001b[1m64s\u001b[0m 105ms/step - accuracy: 0.8566 - loss: 0.7739 - val_accuracy: 0.7840 - val_loss: 1.0887 - learning_rate: 1.0000e-04\n",
      "Epoch 40/100\n",
      "\u001b[1m607/607\u001b[0m \u001b[32m━━━━━━━━━━━━━━━━━━━━\u001b[0m\u001b[37m\u001b[0m \u001b[1m0s\u001b[0m 96ms/step - accuracy: 0.8633 - loss: 0.7597\n",
      "Epoch 40: val_loss did not improve from 1.08867\n",
      "\u001b[1m607/607\u001b[0m \u001b[32m━━━━━━━━━━━━━━━━━━━━\u001b[0m\u001b[37m\u001b[0m \u001b[1m64s\u001b[0m 105ms/step - accuracy: 0.8632 - loss: 0.7597 - val_accuracy: 0.8024 - val_loss: 1.0921 - learning_rate: 1.0000e-04\n",
      "Epoch 41/100\n",
      "\u001b[1m607/607\u001b[0m \u001b[32m━━━━━━━━━━━━━━━━━━━━\u001b[0m\u001b[37m\u001b[0m \u001b[1m0s\u001b[0m 95ms/step - accuracy: 0.8683 - loss: 0.7504\n",
      "Epoch 41: val_loss did not improve from 1.08867\n",
      "\u001b[1m607/607\u001b[0m \u001b[32m━━━━━━━━━━━━━━━━━━━━\u001b[0m\u001b[37m\u001b[0m \u001b[1m63s\u001b[0m 104ms/step - accuracy: 0.8683 - loss: 0.7504 - val_accuracy: 0.7919 - val_loss: 1.1046 - learning_rate: 1.0000e-04\n",
      "Epoch 42/100\n",
      "\u001b[1m607/607\u001b[0m \u001b[32m━━━━━━━━━━━━━━━━━━━━\u001b[0m\u001b[37m\u001b[0m \u001b[1m0s\u001b[0m 95ms/step - accuracy: 0.8781 - loss: 0.7136\n",
      "Epoch 42: val_loss improved from 1.08867 to 1.06021, saving model to EfficientNetB0_waste_classifier.h5\n"
     ]
    },
    {
     "name": "stderr",
     "output_type": "stream",
     "text": [
      "WARNING:absl:You are saving your model as an HDF5 file via `model.save()` or `keras.saving.save_model(model)`. This file format is considered legacy. We recommend using instead the native Keras format, e.g. `model.save('my_model.keras')` or `keras.saving.save_model(model, 'my_model.keras')`. \n"
     ]
    },
    {
     "name": "stdout",
     "output_type": "stream",
     "text": [
      "\b\b\b\b\b\b\b\b\b\b\b\b\b\b\b\b\b\b\b\b\b\b\b\b\b\b\b\b\b\b\b\b\b\b\b\b\b\b\b\b\b\b\b\b\b\b\b\b\b\b\b\b\b\b\b\b\b\b\b\b\b\b\b\b\b\b\b\b\b\b\b\b\b\b\b\r",
      "\u001b[1m607/607\u001b[0m \u001b[32m━━━━━━━━━━━━━━━━━━━━\u001b[0m\u001b[37m\u001b[0m \u001b[1m64s\u001b[0m 105ms/step - accuracy: 0.8781 - loss: 0.7136 - val_accuracy: 0.7971 - val_loss: 1.0602 - learning_rate: 1.0000e-04\n",
      "Epoch 43/100\n",
      "\u001b[1m607/607\u001b[0m \u001b[32m━━━━━━━━━━━━━━━━━━━━\u001b[0m\u001b[37m\u001b[0m \u001b[1m0s\u001b[0m 95ms/step - accuracy: 0.8444 - loss: 0.7842\n",
      "Epoch 43: val_loss did not improve from 1.06021\n",
      "\u001b[1m607/607\u001b[0m \u001b[32m━━━━━━━━━━━━━━━━━━━━\u001b[0m\u001b[37m\u001b[0m \u001b[1m63s\u001b[0m 104ms/step - accuracy: 0.8444 - loss: 0.7842 - val_accuracy: 0.7801 - val_loss: 1.0881 - learning_rate: 1.0000e-04\n",
      "Epoch 44/100\n",
      "\u001b[1m607/607\u001b[0m \u001b[32m━━━━━━━━━━━━━━━━━━━━\u001b[0m\u001b[37m\u001b[0m \u001b[1m0s\u001b[0m 96ms/step - accuracy: 0.8548 - loss: 0.7565\n",
      "Epoch 44: val_loss did not improve from 1.06021\n",
      "\u001b[1m607/607\u001b[0m \u001b[32m━━━━━━━━━━━━━━━━━━━━\u001b[0m\u001b[37m\u001b[0m \u001b[1m63s\u001b[0m 104ms/step - accuracy: 0.8548 - loss: 0.7565 - val_accuracy: 0.7893 - val_loss: 1.0826 - learning_rate: 1.0000e-04\n",
      "Epoch 45/100\n",
      "\u001b[1m607/607\u001b[0m \u001b[32m━━━━━━━━━━━━━━━━━━━━\u001b[0m\u001b[37m\u001b[0m \u001b[1m0s\u001b[0m 96ms/step - accuracy: 0.8571 - loss: 0.7511\n",
      "Epoch 45: val_loss did not improve from 1.06021\n",
      "\u001b[1m607/607\u001b[0m \u001b[32m━━━━━━━━━━━━━━━━━━━━\u001b[0m\u001b[37m\u001b[0m \u001b[1m63s\u001b[0m 105ms/step - accuracy: 0.8571 - loss: 0.7512 - val_accuracy: 0.7853 - val_loss: 1.1027 - learning_rate: 1.0000e-04\n",
      "Epoch 46/100\n",
      "\u001b[1m607/607\u001b[0m \u001b[32m━━━━━━━━━━━━━━━━━━━━\u001b[0m\u001b[37m\u001b[0m \u001b[1m0s\u001b[0m 95ms/step - accuracy: 0.8537 - loss: 0.7613\n",
      "Epoch 46: val_loss did not improve from 1.06021\n",
      "\u001b[1m607/607\u001b[0m \u001b[32m━━━━━━━━━━━━━━━━━━━━\u001b[0m\u001b[37m\u001b[0m \u001b[1m63s\u001b[0m 104ms/step - accuracy: 0.8537 - loss: 0.7613 - val_accuracy: 0.7880 - val_loss: 1.0798 - learning_rate: 1.0000e-04\n",
      "Epoch 47/100\n",
      "\u001b[1m607/607\u001b[0m \u001b[32m━━━━━━━━━━━━━━━━━━━━\u001b[0m\u001b[37m\u001b[0m \u001b[1m0s\u001b[0m 95ms/step - accuracy: 0.8671 - loss: 0.7049\n",
      "Epoch 47: val_loss did not improve from 1.06021\n",
      "\n",
      "Epoch 47: ReduceLROnPlateau reducing learning rate to 4.999999873689376e-05.\n",
      "\u001b[1m607/607\u001b[0m \u001b[32m━━━━━━━━━━━━━━━━━━━━\u001b[0m\u001b[37m\u001b[0m \u001b[1m63s\u001b[0m 104ms/step - accuracy: 0.8671 - loss: 0.7049 - val_accuracy: 0.7971 - val_loss: 1.0725 - learning_rate: 1.0000e-04\n",
      "Epoch 48/100\n",
      "\u001b[1m607/607\u001b[0m \u001b[32m━━━━━━━━━━━━━━━━━━━━\u001b[0m\u001b[37m\u001b[0m \u001b[1m0s\u001b[0m 95ms/step - accuracy: 0.8547 - loss: 0.7145\n",
      "Epoch 48: val_loss did not improve from 1.06021\n",
      "\u001b[1m607/607\u001b[0m \u001b[32m━━━━━━━━━━━━━━━━━━━━\u001b[0m\u001b[37m\u001b[0m \u001b[1m63s\u001b[0m 104ms/step - accuracy: 0.8547 - loss: 0.7145 - val_accuracy: 0.7919 - val_loss: 1.0889 - learning_rate: 5.0000e-05\n",
      "Epoch 49/100\n",
      "\u001b[1m607/607\u001b[0m \u001b[32m━━━━━━━━━━━━━━━━━━━━\u001b[0m\u001b[37m\u001b[0m \u001b[1m0s\u001b[0m 96ms/step - accuracy: 0.8718 - loss: 0.7062\n",
      "Epoch 49: val_loss did not improve from 1.06021\n",
      "\u001b[1m607/607\u001b[0m \u001b[32m━━━━━━━━━━━━━━━━━━━━\u001b[0m\u001b[37m\u001b[0m \u001b[1m63s\u001b[0m 104ms/step - accuracy: 0.8718 - loss: 0.7062 - val_accuracy: 0.7958 - val_loss: 1.0668 - learning_rate: 5.0000e-05\n",
      "Epoch 50/100\n",
      "\u001b[1m607/607\u001b[0m \u001b[32m━━━━━━━━━━━━━━━━━━━━\u001b[0m\u001b[37m\u001b[0m \u001b[1m0s\u001b[0m 96ms/step - accuracy: 0.8793 - loss: 0.7011\n",
      "Epoch 50: val_loss did not improve from 1.06021\n",
      "\u001b[1m607/607\u001b[0m \u001b[32m━━━━━━━━━━━━━━━━━━━━\u001b[0m\u001b[37m\u001b[0m \u001b[1m64s\u001b[0m 105ms/step - accuracy: 0.8793 - loss: 0.7011 - val_accuracy: 0.7984 - val_loss: 1.0713 - learning_rate: 5.0000e-05\n",
      "Epoch 51/100\n",
      "\u001b[1m607/607\u001b[0m \u001b[32m━━━━━━━━━━━━━━━━━━━━\u001b[0m\u001b[37m\u001b[0m \u001b[1m0s\u001b[0m 95ms/step - accuracy: 0.8875 - loss: 0.6668\n",
      "Epoch 51: val_loss did not improve from 1.06021\n",
      "\u001b[1m607/607\u001b[0m \u001b[32m━━━━━━━━━━━━━━━━━━━━\u001b[0m\u001b[37m\u001b[0m \u001b[1m63s\u001b[0m 104ms/step - accuracy: 0.8875 - loss: 0.6669 - val_accuracy: 0.7958 - val_loss: 1.0789 - learning_rate: 5.0000e-05\n",
      "Epoch 52/100\n",
      "\u001b[1m607/607\u001b[0m \u001b[32m━━━━━━━━━━━━━━━━━━━━\u001b[0m\u001b[37m\u001b[0m \u001b[1m0s\u001b[0m 95ms/step - accuracy: 0.8675 - loss: 0.7082\n",
      "Epoch 52: val_loss did not improve from 1.06021\n",
      "\n",
      "Epoch 52: ReduceLROnPlateau reducing learning rate to 2.499999936844688e-05.\n",
      "\u001b[1m607/607\u001b[0m \u001b[32m━━━━━━━━━━━━━━━━━━━━\u001b[0m\u001b[37m\u001b[0m \u001b[1m63s\u001b[0m 104ms/step - accuracy: 0.8675 - loss: 0.7081 - val_accuracy: 0.7945 - val_loss: 1.0768 - learning_rate: 5.0000e-05\n",
      "Epoch 53/100\n",
      "\u001b[1m607/607\u001b[0m \u001b[32m━━━━━━━━━━━━━━━━━━━━\u001b[0m\u001b[37m\u001b[0m \u001b[1m0s\u001b[0m 95ms/step - accuracy: 0.8761 - loss: 0.6797\n",
      "Epoch 53: val_loss did not improve from 1.06021\n",
      "\u001b[1m607/607\u001b[0m \u001b[32m━━━━━━━━━━━━━━━━━━━━\u001b[0m\u001b[37m\u001b[0m \u001b[1m63s\u001b[0m 104ms/step - accuracy: 0.8761 - loss: 0.6797 - val_accuracy: 0.7932 - val_loss: 1.0756 - learning_rate: 2.5000e-05\n",
      "Epoch 54/100\n",
      "\u001b[1m607/607\u001b[0m \u001b[32m━━━━━━━━━━━━━━━━━━━━\u001b[0m\u001b[37m\u001b[0m \u001b[1m0s\u001b[0m 95ms/step - accuracy: 0.8818 - loss: 0.6759\n",
      "Epoch 54: val_loss did not improve from 1.06021\n",
      "\u001b[1m607/607\u001b[0m \u001b[32m━━━━━━━━━━━━━━━━━━━━\u001b[0m\u001b[37m\u001b[0m \u001b[1m63s\u001b[0m 104ms/step - accuracy: 0.8818 - loss: 0.6759 - val_accuracy: 0.7880 - val_loss: 1.0844 - learning_rate: 2.5000e-05\n",
      "Epoch 55/100\n",
      "\u001b[1m607/607\u001b[0m \u001b[32m━━━━━━━━━━━━━━━━━━━━\u001b[0m\u001b[37m\u001b[0m \u001b[1m0s\u001b[0m 95ms/step - accuracy: 0.8796 - loss: 0.6760\n",
      "Epoch 55: val_loss did not improve from 1.06021\n",
      "\u001b[1m607/607\u001b[0m \u001b[32m━━━━━━━━━━━━━━━━━━━━\u001b[0m\u001b[37m\u001b[0m \u001b[1m63s\u001b[0m 104ms/step - accuracy: 0.8796 - loss: 0.6760 - val_accuracy: 0.7906 - val_loss: 1.0663 - learning_rate: 2.5000e-05\n",
      "Epoch 56/100\n",
      "\u001b[1m607/607\u001b[0m \u001b[32m━━━━━━━━━━━━━━━━━━━━\u001b[0m\u001b[37m\u001b[0m \u001b[1m0s\u001b[0m 95ms/step - accuracy: 0.8811 - loss: 0.6726\n",
      "Epoch 56: val_loss did not improve from 1.06021\n",
      "\u001b[1m607/607\u001b[0m \u001b[32m━━━━━━━━━━━━━━━━━━━━\u001b[0m\u001b[37m\u001b[0m \u001b[1m63s\u001b[0m 104ms/step - accuracy: 0.8811 - loss: 0.6726 - val_accuracy: 0.7958 - val_loss: 1.0813 - learning_rate: 2.5000e-05\n",
      "Epoch 57/100\n",
      "\u001b[1m607/607\u001b[0m \u001b[32m━━━━━━━━━━━━━━━━━━━━\u001b[0m\u001b[37m\u001b[0m \u001b[1m0s\u001b[0m 95ms/step - accuracy: 0.8707 - loss: 0.6705\n",
      "Epoch 57: val_loss did not improve from 1.06021\n",
      "\n",
      "Epoch 57: ReduceLROnPlateau reducing learning rate to 1.249999968422344e-05.\n",
      "\u001b[1m607/607\u001b[0m \u001b[32m━━━━━━━━━━━━━━━━━━━━\u001b[0m\u001b[37m\u001b[0m \u001b[1m63s\u001b[0m 103ms/step - accuracy: 0.8707 - loss: 0.6705 - val_accuracy: 0.7971 - val_loss: 1.0817 - learning_rate: 2.5000e-05\n",
      "Epoch 58/100\n",
      "\u001b[1m607/607\u001b[0m \u001b[32m━━━━━━━━━━━━━━━━━━━━\u001b[0m\u001b[37m\u001b[0m \u001b[1m0s\u001b[0m 95ms/step - accuracy: 0.8863 - loss: 0.6405\n",
      "Epoch 58: val_loss did not improve from 1.06021\n",
      "\u001b[1m607/607\u001b[0m \u001b[32m━━━━━━━━━━━━━━━━━━━━\u001b[0m\u001b[37m\u001b[0m \u001b[1m63s\u001b[0m 104ms/step - accuracy: 0.8863 - loss: 0.6405 - val_accuracy: 0.7932 - val_loss: 1.0750 - learning_rate: 1.2500e-05\n",
      "Epoch 59/100\n",
      "\u001b[1m607/607\u001b[0m \u001b[32m━━━━━━━━━━━━━━━━━━━━\u001b[0m\u001b[37m\u001b[0m \u001b[1m0s\u001b[0m 96ms/step - accuracy: 0.8670 - loss: 0.7040\n",
      "Epoch 59: val_loss did not improve from 1.06021\n",
      "\u001b[1m607/607\u001b[0m \u001b[32m━━━━━━━━━━━━━━━━━━━━\u001b[0m\u001b[37m\u001b[0m \u001b[1m64s\u001b[0m 105ms/step - accuracy: 0.8670 - loss: 0.7040 - val_accuracy: 0.7932 - val_loss: 1.0828 - learning_rate: 1.2500e-05\n",
      "Epoch 60/100\n",
      "\u001b[1m607/607\u001b[0m \u001b[32m━━━━━━━━━━━━━━━━━━━━\u001b[0m\u001b[37m\u001b[0m \u001b[1m0s\u001b[0m 96ms/step - accuracy: 0.8860 - loss: 0.6563\n",
      "Epoch 60: val_loss did not improve from 1.06021\n",
      "\u001b[1m607/607\u001b[0m \u001b[32m━━━━━━━━━━━━━━━━━━━━\u001b[0m\u001b[37m\u001b[0m \u001b[1m64s\u001b[0m 105ms/step - accuracy: 0.8860 - loss: 0.6563 - val_accuracy: 0.7945 - val_loss: 1.0856 - learning_rate: 1.2500e-05\n",
      "Epoch 61/100\n",
      "\u001b[1m607/607\u001b[0m \u001b[32m━━━━━━━━━━━━━━━━━━━━\u001b[0m\u001b[37m\u001b[0m \u001b[1m0s\u001b[0m 95ms/step - accuracy: 0.8737 - loss: 0.6780\n",
      "Epoch 61: val_loss did not improve from 1.06021\n",
      "\u001b[1m607/607\u001b[0m \u001b[32m━━━━━━━━━━━━━━━━━━━━\u001b[0m\u001b[37m\u001b[0m \u001b[1m63s\u001b[0m 104ms/step - accuracy: 0.8737 - loss: 0.6780 - val_accuracy: 0.7997 - val_loss: 1.0698 - learning_rate: 1.2500e-05\n",
      "Epoch 62/100\n",
      "\u001b[1m607/607\u001b[0m \u001b[32m━━━━━━━━━━━━━━━━━━━━\u001b[0m\u001b[37m\u001b[0m \u001b[1m0s\u001b[0m 95ms/step - accuracy: 0.8990 - loss: 0.6164\n",
      "Epoch 62: val_loss did not improve from 1.06021\n",
      "\n",
      "Epoch 62: ReduceLROnPlateau reducing learning rate to 1e-05.\n",
      "\u001b[1m607/607\u001b[0m \u001b[32m━━━━━━━━━━━━━━━━━━━━\u001b[0m\u001b[37m\u001b[0m \u001b[1m63s\u001b[0m 104ms/step - accuracy: 0.8990 - loss: 0.6165 - val_accuracy: 0.7984 - val_loss: 1.0776 - learning_rate: 1.2500e-05\n",
      "Epoch 63/100\n",
      "\u001b[1m607/607\u001b[0m \u001b[32m━━━━━━━━━━━━━━━━━━━━\u001b[0m\u001b[37m\u001b[0m \u001b[1m0s\u001b[0m 96ms/step - accuracy: 0.8784 - loss: 0.6897\n",
      "Epoch 63: val_loss did not improve from 1.06021\n",
      "\u001b[1m607/607\u001b[0m \u001b[32m━━━━━━━━━━━━━━━━━━━━\u001b[0m\u001b[37m\u001b[0m \u001b[1m64s\u001b[0m 105ms/step - accuracy: 0.8784 - loss: 0.6897 - val_accuracy: 0.8010 - val_loss: 1.0700 - learning_rate: 1.0000e-05\n",
      "Epoch 64/100\n",
      "\u001b[1m607/607\u001b[0m \u001b[32m━━━━━━━━━━━━━━━━━━━━\u001b[0m\u001b[37m\u001b[0m \u001b[1m0s\u001b[0m 95ms/step - accuracy: 0.8863 - loss: 0.6539\n",
      "Epoch 64: val_loss improved from 1.06021 to 1.05922, saving model to EfficientNetB0_waste_classifier.h5\n"
     ]
    },
    {
     "name": "stderr",
     "output_type": "stream",
     "text": [
      "WARNING:absl:You are saving your model as an HDF5 file via `model.save()` or `keras.saving.save_model(model)`. This file format is considered legacy. We recommend using instead the native Keras format, e.g. `model.save('my_model.keras')` or `keras.saving.save_model(model, 'my_model.keras')`. \n"
     ]
    },
    {
     "name": "stdout",
     "output_type": "stream",
     "text": [
      "\b\b\b\b\b\b\b\b\b\b\b\b\b\b\b\b\b\b\b\b\b\b\b\b\b\b\b\b\b\b\b\b\b\b\b\b\b\b\b\b\b\b\b\b\b\b\b\b\b\b\b\b\b\b\b\b\b\b\b\b\b\b\b\b\b\b\b\b\b\b\b\b\b\b\b\r",
      "\u001b[1m607/607\u001b[0m \u001b[32m━━━━━━━━━━━━━━━━━━━━\u001b[0m\u001b[37m\u001b[0m \u001b[1m64s\u001b[0m 105ms/step - accuracy: 0.8863 - loss: 0.6539 - val_accuracy: 0.8037 - val_loss: 1.0592 - learning_rate: 1.0000e-05\n",
      "Epoch 65/100\n",
      "\u001b[1m607/607\u001b[0m \u001b[32m━━━━━━━━━━━━━━━━━━━━\u001b[0m\u001b[37m\u001b[0m \u001b[1m0s\u001b[0m 95ms/step - accuracy: 0.8843 - loss: 0.6739\n",
      "Epoch 65: val_loss improved from 1.05922 to 1.05711, saving model to EfficientNetB0_waste_classifier.h5\n"
     ]
    },
    {
     "name": "stderr",
     "output_type": "stream",
     "text": [
      "WARNING:absl:You are saving your model as an HDF5 file via `model.save()` or `keras.saving.save_model(model)`. This file format is considered legacy. We recommend using instead the native Keras format, e.g. `model.save('my_model.keras')` or `keras.saving.save_model(model, 'my_model.keras')`. \n"
     ]
    },
    {
     "name": "stdout",
     "output_type": "stream",
     "text": [
      "\b\b\b\b\b\b\b\b\b\b\b\b\b\b\b\b\b\b\b\b\b\b\b\b\b\b\b\b\b\b\b\b\b\b\b\b\b\b\b\b\b\b\b\b\b\b\b\b\b\b\b\b\b\b\b\b\b\b\b\b\b\b\b\b\b\b\b\b\b\b\b\b\b\b\b\r",
      "\u001b[1m607/607\u001b[0m \u001b[32m━━━━━━━━━━━━━━━━━━━━\u001b[0m\u001b[37m\u001b[0m \u001b[1m63s\u001b[0m 105ms/step - accuracy: 0.8843 - loss: 0.6739 - val_accuracy: 0.7997 - val_loss: 1.0571 - learning_rate: 1.0000e-05\n",
      "Epoch 66/100\n",
      "\u001b[1m607/607\u001b[0m \u001b[32m━━━━━━━━━━━━━━━━━━━━\u001b[0m\u001b[37m\u001b[0m \u001b[1m0s\u001b[0m 95ms/step - accuracy: 0.8845 - loss: 0.6684\n",
      "Epoch 66: val_loss did not improve from 1.05711\n",
      "\u001b[1m607/607\u001b[0m \u001b[32m━━━━━━━━━━━━━━━━━━━━\u001b[0m\u001b[37m\u001b[0m \u001b[1m63s\u001b[0m 104ms/step - accuracy: 0.8845 - loss: 0.6684 - val_accuracy: 0.7997 - val_loss: 1.0617 - learning_rate: 1.0000e-05\n",
      "Epoch 67/100\n",
      "\u001b[1m607/607\u001b[0m \u001b[32m━━━━━━━━━━━━━━━━━━━━\u001b[0m\u001b[37m\u001b[0m \u001b[1m0s\u001b[0m 96ms/step - accuracy: 0.8835 - loss: 0.6621\n",
      "Epoch 67: val_loss did not improve from 1.05711\n",
      "\u001b[1m607/607\u001b[0m \u001b[32m━━━━━━━━━━━━━━━━━━━━\u001b[0m\u001b[37m\u001b[0m \u001b[1m64s\u001b[0m 105ms/step - accuracy: 0.8835 - loss: 0.6621 - val_accuracy: 0.7958 - val_loss: 1.0582 - learning_rate: 1.0000e-05\n",
      "Epoch 68/100\n",
      "\u001b[1m607/607\u001b[0m \u001b[32m━━━━━━━━━━━━━━━━━━━━\u001b[0m\u001b[37m\u001b[0m \u001b[1m0s\u001b[0m 96ms/step - accuracy: 0.8869 - loss: 0.6535\n",
      "Epoch 68: val_loss did not improve from 1.05711\n",
      "\u001b[1m607/607\u001b[0m \u001b[32m━━━━━━━━━━━━━━━━━━━━\u001b[0m\u001b[37m\u001b[0m \u001b[1m63s\u001b[0m 105ms/step - accuracy: 0.8869 - loss: 0.6535 - val_accuracy: 0.7945 - val_loss: 1.0660 - learning_rate: 1.0000e-05\n",
      "Epoch 69/100\n",
      "\u001b[1m607/607\u001b[0m \u001b[32m━━━━━━━━━━━━━━━━━━━━\u001b[0m\u001b[37m\u001b[0m \u001b[1m0s\u001b[0m 95ms/step - accuracy: 0.8851 - loss: 0.6471\n",
      "Epoch 69: val_loss improved from 1.05711 to 1.05191, saving model to EfficientNetB0_waste_classifier.h5\n"
     ]
    },
    {
     "name": "stderr",
     "output_type": "stream",
     "text": [
      "WARNING:absl:You are saving your model as an HDF5 file via `model.save()` or `keras.saving.save_model(model)`. This file format is considered legacy. We recommend using instead the native Keras format, e.g. `model.save('my_model.keras')` or `keras.saving.save_model(model, 'my_model.keras')`. \n"
     ]
    },
    {
     "name": "stdout",
     "output_type": "stream",
     "text": [
      "\b\b\b\b\b\b\b\b\b\b\b\b\b\b\b\b\b\b\b\b\b\b\b\b\b\b\b\b\b\b\b\b\b\b\b\b\b\b\b\b\b\b\b\b\b\b\b\b\b\b\b\b\b\b\b\b\b\b\b\b\b\b\b\b\b\b\b\b\b\b\b\b\b\b\b\r",
      "\u001b[1m607/607\u001b[0m \u001b[32m━━━━━━━━━━━━━━━━━━━━\u001b[0m\u001b[37m\u001b[0m \u001b[1m64s\u001b[0m 106ms/step - accuracy: 0.8852 - loss: 0.6471 - val_accuracy: 0.7971 - val_loss: 1.0519 - learning_rate: 1.0000e-05\n",
      "Epoch 70/100\n",
      "\u001b[1m607/607\u001b[0m \u001b[32m━━━━━━━━━━━━━━━━━━━━\u001b[0m\u001b[37m\u001b[0m \u001b[1m0s\u001b[0m 95ms/step - accuracy: 0.8855 - loss: 0.6566\n",
      "Epoch 70: val_loss did not improve from 1.05191\n",
      "\u001b[1m607/607\u001b[0m \u001b[32m━━━━━━━━━━━━━━━━━━━━\u001b[0m\u001b[37m\u001b[0m \u001b[1m63s\u001b[0m 104ms/step - accuracy: 0.8855 - loss: 0.6566 - val_accuracy: 0.7971 - val_loss: 1.0587 - learning_rate: 1.0000e-05\n",
      "Epoch 71/100\n",
      "\u001b[1m607/607\u001b[0m \u001b[32m━━━━━━━━━━━━━━━━━━━━\u001b[0m\u001b[37m\u001b[0m \u001b[1m0s\u001b[0m 95ms/step - accuracy: 0.8908 - loss: 0.6448\n",
      "Epoch 71: val_loss did not improve from 1.05191\n",
      "\u001b[1m607/607\u001b[0m \u001b[32m━━━━━━━━━━━━━━━━━━━━\u001b[0m\u001b[37m\u001b[0m \u001b[1m63s\u001b[0m 104ms/step - accuracy: 0.8908 - loss: 0.6449 - val_accuracy: 0.7932 - val_loss: 1.0698 - learning_rate: 1.0000e-05\n",
      "Epoch 72/100\n",
      "\u001b[1m607/607\u001b[0m \u001b[32m━━━━━━━━━━━━━━━━━━━━\u001b[0m\u001b[37m\u001b[0m \u001b[1m0s\u001b[0m 95ms/step - accuracy: 0.8872 - loss: 0.6558\n",
      "Epoch 72: val_loss did not improve from 1.05191\n",
      "\u001b[1m607/607\u001b[0m \u001b[32m━━━━━━━━━━━━━━━━━━━━\u001b[0m\u001b[37m\u001b[0m \u001b[1m63s\u001b[0m 104ms/step - accuracy: 0.8872 - loss: 0.6558 - val_accuracy: 0.7945 - val_loss: 1.0643 - learning_rate: 1.0000e-05\n",
      "Epoch 73/100\n",
      "\u001b[1m607/607\u001b[0m \u001b[32m━━━━━━━━━━━━━━━━━━━━\u001b[0m\u001b[37m\u001b[0m \u001b[1m0s\u001b[0m 95ms/step - accuracy: 0.8734 - loss: 0.6604\n",
      "Epoch 73: val_loss did not improve from 1.05191\n",
      "\u001b[1m607/607\u001b[0m \u001b[32m━━━━━━━━━━━━━━━━━━━━\u001b[0m\u001b[37m\u001b[0m \u001b[1m64s\u001b[0m 105ms/step - accuracy: 0.8734 - loss: 0.6604 - val_accuracy: 0.8024 - val_loss: 1.0566 - learning_rate: 1.0000e-05\n",
      "Epoch 74/100\n",
      "\u001b[1m607/607\u001b[0m \u001b[32m━━━━━━━━━━━━━━━━━━━━\u001b[0m\u001b[37m\u001b[0m \u001b[1m0s\u001b[0m 94ms/step - accuracy: 0.8851 - loss: 0.6506\n",
      "Epoch 74: val_loss did not improve from 1.05191\n",
      "\u001b[1m607/607\u001b[0m \u001b[32m━━━━━━━━━━━━━━━━━━━━\u001b[0m\u001b[37m\u001b[0m \u001b[1m63s\u001b[0m 103ms/step - accuracy: 0.8851 - loss: 0.6506 - val_accuracy: 0.7997 - val_loss: 1.0665 - learning_rate: 1.0000e-05\n",
      "Epoch 75/100\n",
      "\u001b[1m607/607\u001b[0m \u001b[32m━━━━━━━━━━━━━━━━━━━━\u001b[0m\u001b[37m\u001b[0m \u001b[1m0s\u001b[0m 95ms/step - accuracy: 0.8905 - loss: 0.6606\n",
      "Epoch 75: val_loss did not improve from 1.05191\n",
      "\u001b[1m607/607\u001b[0m \u001b[32m━━━━━━━━━━━━━━━━━━━━\u001b[0m\u001b[37m\u001b[0m \u001b[1m63s\u001b[0m 104ms/step - accuracy: 0.8905 - loss: 0.6606 - val_accuracy: 0.7984 - val_loss: 1.0552 - learning_rate: 1.0000e-05\n",
      "Epoch 76/100\n",
      "\u001b[1m607/607\u001b[0m \u001b[32m━━━━━━━━━━━━━━━━━━━━\u001b[0m\u001b[37m\u001b[0m \u001b[1m0s\u001b[0m 96ms/step - accuracy: 0.8822 - loss: 0.6662\n",
      "Epoch 76: val_loss did not improve from 1.05191\n",
      "\u001b[1m607/607\u001b[0m \u001b[32m━━━━━━━━━━━━━━━━━━━━\u001b[0m\u001b[37m\u001b[0m \u001b[1m64s\u001b[0m 105ms/step - accuracy: 0.8822 - loss: 0.6661 - val_accuracy: 0.8010 - val_loss: 1.0519 - learning_rate: 1.0000e-05\n",
      "Epoch 77/100\n",
      "\u001b[1m607/607\u001b[0m \u001b[32m━━━━━━━━━━━━━━━━━━━━\u001b[0m\u001b[37m\u001b[0m \u001b[1m0s\u001b[0m 95ms/step - accuracy: 0.8771 - loss: 0.6759\n",
      "Epoch 77: val_loss improved from 1.05191 to 1.04425, saving model to EfficientNetB0_waste_classifier.h5\n"
     ]
    },
    {
     "name": "stderr",
     "output_type": "stream",
     "text": [
      "WARNING:absl:You are saving your model as an HDF5 file via `model.save()` or `keras.saving.save_model(model)`. This file format is considered legacy. We recommend using instead the native Keras format, e.g. `model.save('my_model.keras')` or `keras.saving.save_model(model, 'my_model.keras')`. \n"
     ]
    },
    {
     "name": "stdout",
     "output_type": "stream",
     "text": [
      "\b\b\b\b\b\b\b\b\b\b\b\b\b\b\b\b\b\b\b\b\b\b\b\b\b\b\b\b\b\b\b\b\b\b\b\b\b\b\b\b\b\b\b\b\b\b\b\b\b\b\b\b\b\b\b\b\b\b\b\b\b\b\b\b\b\b\b\b\b\b\b\b\b\b\b\r",
      "\u001b[1m607/607\u001b[0m \u001b[32m━━━━━━━━━━━━━━━━━━━━\u001b[0m\u001b[37m\u001b[0m \u001b[1m64s\u001b[0m 105ms/step - accuracy: 0.8771 - loss: 0.6759 - val_accuracy: 0.8050 - val_loss: 1.0442 - learning_rate: 1.0000e-05\n",
      "Epoch 78/100\n",
      "\u001b[1m607/607\u001b[0m \u001b[32m━━━━━━━━━━━━━━━━━━━━\u001b[0m\u001b[37m\u001b[0m \u001b[1m0s\u001b[0m 95ms/step - accuracy: 0.8868 - loss: 0.6529\n",
      "Epoch 78: val_loss did not improve from 1.04425\n",
      "\u001b[1m607/607\u001b[0m \u001b[32m━━━━━━━━━━━━━━━━━━━━\u001b[0m\u001b[37m\u001b[0m \u001b[1m63s\u001b[0m 104ms/step - accuracy: 0.8868 - loss: 0.6529 - val_accuracy: 0.7997 - val_loss: 1.0523 - learning_rate: 1.0000e-05\n",
      "Epoch 79/100\n",
      "\u001b[1m607/607\u001b[0m \u001b[32m━━━━━━━━━━━━━━━━━━━━\u001b[0m\u001b[37m\u001b[0m \u001b[1m0s\u001b[0m 95ms/step - accuracy: 0.8935 - loss: 0.6342\n",
      "Epoch 79: val_loss improved from 1.04425 to 1.04363, saving model to EfficientNetB0_waste_classifier.h5\n"
     ]
    },
    {
     "name": "stderr",
     "output_type": "stream",
     "text": [
      "WARNING:absl:You are saving your model as an HDF5 file via `model.save()` or `keras.saving.save_model(model)`. This file format is considered legacy. We recommend using instead the native Keras format, e.g. `model.save('my_model.keras')` or `keras.saving.save_model(model, 'my_model.keras')`. \n"
     ]
    },
    {
     "name": "stdout",
     "output_type": "stream",
     "text": [
      "\b\b\b\b\b\b\b\b\b\b\b\b\b\b\b\b\b\b\b\b\b\b\b\b\b\b\b\b\b\b\b\b\b\b\b\b\b\b\b\b\b\b\b\b\b\b\b\b\b\b\b\b\b\b\b\b\b\b\b\b\b\b\b\b\b\b\b\b\b\b\b\b\b\b\b\r",
      "\u001b[1m607/607\u001b[0m \u001b[32m━━━━━━━━━━━━━━━━━━━━\u001b[0m\u001b[37m\u001b[0m \u001b[1m64s\u001b[0m 105ms/step - accuracy: 0.8935 - loss: 0.6342 - val_accuracy: 0.8010 - val_loss: 1.0436 - learning_rate: 1.0000e-05\n",
      "Epoch 80/100\n",
      "\u001b[1m607/607\u001b[0m \u001b[32m━━━━━━━━━━━━━━━━━━━━\u001b[0m\u001b[37m\u001b[0m \u001b[1m0s\u001b[0m 95ms/step - accuracy: 0.8837 - loss: 0.6430\n",
      "Epoch 80: val_loss improved from 1.04363 to 1.04027, saving model to EfficientNetB0_waste_classifier.h5\n"
     ]
    },
    {
     "name": "stderr",
     "output_type": "stream",
     "text": [
      "WARNING:absl:You are saving your model as an HDF5 file via `model.save()` or `keras.saving.save_model(model)`. This file format is considered legacy. We recommend using instead the native Keras format, e.g. `model.save('my_model.keras')` or `keras.saving.save_model(model, 'my_model.keras')`. \n"
     ]
    },
    {
     "name": "stdout",
     "output_type": "stream",
     "text": [
      "\b\b\b\b\b\b\b\b\b\b\b\b\b\b\b\b\b\b\b\b\b\b\b\b\b\b\b\b\b\b\b\b\b\b\b\b\b\b\b\b\b\b\b\b\b\b\b\b\b\b\b\b\b\b\b\b\b\b\b\b\b\b\b\b\b\b\b\b\b\b\b\b\b\b\b\r",
      "\u001b[1m607/607\u001b[0m \u001b[32m━━━━━━━━━━━━━━━━━━━━\u001b[0m\u001b[37m\u001b[0m \u001b[1m64s\u001b[0m 105ms/step - accuracy: 0.8836 - loss: 0.6430 - val_accuracy: 0.8010 - val_loss: 1.0403 - learning_rate: 1.0000e-05\n",
      "Epoch 81/100\n",
      "\u001b[1m607/607\u001b[0m \u001b[32m━━━━━━━━━━━━━━━━━━━━\u001b[0m\u001b[37m\u001b[0m \u001b[1m0s\u001b[0m 95ms/step - accuracy: 0.9008 - loss: 0.6054\n",
      "Epoch 81: val_loss did not improve from 1.04027\n",
      "\u001b[1m607/607\u001b[0m \u001b[32m━━━━━━━━━━━━━━━━━━━━\u001b[0m\u001b[37m\u001b[0m \u001b[1m63s\u001b[0m 104ms/step - accuracy: 0.9007 - loss: 0.6054 - val_accuracy: 0.7984 - val_loss: 1.0522 - learning_rate: 1.0000e-05\n",
      "Epoch 82/100\n",
      "\u001b[1m607/607\u001b[0m \u001b[32m━━━━━━━━━━━━━━━━━━━━\u001b[0m\u001b[37m\u001b[0m \u001b[1m0s\u001b[0m 95ms/step - accuracy: 0.8805 - loss: 0.6482\n",
      "Epoch 82: val_loss did not improve from 1.04027\n",
      "\u001b[1m607/607\u001b[0m \u001b[32m━━━━━━━━━━━━━━━━━━━━\u001b[0m\u001b[37m\u001b[0m \u001b[1m63s\u001b[0m 104ms/step - accuracy: 0.8805 - loss: 0.6482 - val_accuracy: 0.8024 - val_loss: 1.0518 - learning_rate: 1.0000e-05\n",
      "Epoch 83/100\n",
      "\u001b[1m607/607\u001b[0m \u001b[32m━━━━━━━━━━━━━━━━━━━━\u001b[0m\u001b[37m\u001b[0m \u001b[1m0s\u001b[0m 95ms/step - accuracy: 0.8891 - loss: 0.6436\n",
      "Epoch 83: val_loss did not improve from 1.04027\n",
      "\u001b[1m607/607\u001b[0m \u001b[32m━━━━━━━━━━━━━━━━━━━━\u001b[0m\u001b[37m\u001b[0m \u001b[1m63s\u001b[0m 104ms/step - accuracy: 0.8891 - loss: 0.6436 - val_accuracy: 0.8076 - val_loss: 1.0510 - learning_rate: 1.0000e-05\n",
      "Epoch 84/100\n",
      "\u001b[1m607/607\u001b[0m \u001b[32m━━━━━━━━━━━━━━━━━━━━\u001b[0m\u001b[37m\u001b[0m \u001b[1m0s\u001b[0m 95ms/step - accuracy: 0.8998 - loss: 0.6127\n",
      "Epoch 84: val_loss did not improve from 1.04027\n",
      "\u001b[1m607/607\u001b[0m \u001b[32m━━━━━━━━━━━━━━━━━━━━\u001b[0m\u001b[37m\u001b[0m \u001b[1m63s\u001b[0m 104ms/step - accuracy: 0.8997 - loss: 0.6128 - val_accuracy: 0.8076 - val_loss: 1.0497 - learning_rate: 1.0000e-05\n",
      "Epoch 85/100\n",
      "\u001b[1m607/607\u001b[0m \u001b[32m━━━━━━━━━━━━━━━━━━━━\u001b[0m\u001b[37m\u001b[0m \u001b[1m0s\u001b[0m 95ms/step - accuracy: 0.8927 - loss: 0.6267\n",
      "Epoch 85: val_loss did not improve from 1.04027\n",
      "\u001b[1m607/607\u001b[0m \u001b[32m━━━━━━━━━━━━━━━━━━━━\u001b[0m\u001b[37m\u001b[0m \u001b[1m63s\u001b[0m 104ms/step - accuracy: 0.8927 - loss: 0.6267 - val_accuracy: 0.8024 - val_loss: 1.0512 - learning_rate: 1.0000e-05\n",
      "Epoch 86/100\n",
      "\u001b[1m607/607\u001b[0m \u001b[32m━━━━━━━━━━━━━━━━━━━━\u001b[0m\u001b[37m\u001b[0m \u001b[1m0s\u001b[0m 95ms/step - accuracy: 0.8890 - loss: 0.6420\n",
      "Epoch 86: val_loss did not improve from 1.04027\n",
      "\u001b[1m607/607\u001b[0m \u001b[32m━━━━━━━━━━━━━━━━━━━━\u001b[0m\u001b[37m\u001b[0m \u001b[1m63s\u001b[0m 105ms/step - accuracy: 0.8890 - loss: 0.6420 - val_accuracy: 0.7971 - val_loss: 1.0429 - learning_rate: 1.0000e-05\n",
      "Epoch 87/100\n",
      "\u001b[1m607/607\u001b[0m \u001b[32m━━━━━━━━━━━━━━━━━━━━\u001b[0m\u001b[37m\u001b[0m \u001b[1m0s\u001b[0m 95ms/step - accuracy: 0.8907 - loss: 0.6321\n",
      "Epoch 87: val_loss did not improve from 1.04027\n",
      "\u001b[1m607/607\u001b[0m \u001b[32m━━━━━━━━━━━━━━━━━━━━\u001b[0m\u001b[37m\u001b[0m \u001b[1m63s\u001b[0m 104ms/step - accuracy: 0.8907 - loss: 0.6321 - val_accuracy: 0.8024 - val_loss: 1.0427 - learning_rate: 1.0000e-05\n",
      "Epoch 88/100\n",
      "\u001b[1m607/607\u001b[0m \u001b[32m━━━━━━━━━━━━━━━━━━━━\u001b[0m\u001b[37m\u001b[0m \u001b[1m0s\u001b[0m 95ms/step - accuracy: 0.8943 - loss: 0.6085\n",
      "Epoch 88: val_loss did not improve from 1.04027\n",
      "\u001b[1m607/607\u001b[0m \u001b[32m━━━━━━━━━━━━━━━━━━━━\u001b[0m\u001b[37m\u001b[0m \u001b[1m63s\u001b[0m 104ms/step - accuracy: 0.8943 - loss: 0.6085 - val_accuracy: 0.7958 - val_loss: 1.0500 - learning_rate: 1.0000e-05\n",
      "Epoch 89/100\n",
      "\u001b[1m607/607\u001b[0m \u001b[32m━━━━━━━━━━━━━━━━━━━━\u001b[0m\u001b[37m\u001b[0m \u001b[1m0s\u001b[0m 95ms/step - accuracy: 0.8866 - loss: 0.6119\n",
      "Epoch 89: val_loss improved from 1.04027 to 1.03763, saving model to EfficientNetB0_waste_classifier.h5\n"
     ]
    },
    {
     "name": "stderr",
     "output_type": "stream",
     "text": [
      "WARNING:absl:You are saving your model as an HDF5 file via `model.save()` or `keras.saving.save_model(model)`. This file format is considered legacy. We recommend using instead the native Keras format, e.g. `model.save('my_model.keras')` or `keras.saving.save_model(model, 'my_model.keras')`. \n"
     ]
    },
    {
     "name": "stdout",
     "output_type": "stream",
     "text": [
      "\b\b\b\b\b\b\b\b\b\b\b\b\b\b\b\b\b\b\b\b\b\b\b\b\b\b\b\b\b\b\b\b\b\b\b\b\b\b\b\b\b\b\b\b\b\b\b\b\b\b\b\b\b\b\b\b\b\b\b\b\b\b\b\b\b\b\b\b\b\b\b\b\b\b\b\r",
      "\u001b[1m607/607\u001b[0m \u001b[32m━━━━━━━━━━━━━━━━━━━━\u001b[0m\u001b[37m\u001b[0m \u001b[1m64s\u001b[0m 105ms/step - accuracy: 0.8866 - loss: 0.6119 - val_accuracy: 0.7971 - val_loss: 1.0376 - learning_rate: 1.0000e-05\n",
      "Epoch 90/100\n",
      "\u001b[1m607/607\u001b[0m \u001b[32m━━━━━━━━━━━━━━━━━━━━\u001b[0m\u001b[37m\u001b[0m \u001b[1m0s\u001b[0m 95ms/step - accuracy: 0.8785 - loss: 0.6526\n",
      "Epoch 90: val_loss did not improve from 1.03763\n",
      "\u001b[1m607/607\u001b[0m \u001b[32m━━━━━━━━━━━━━━━━━━━━\u001b[0m\u001b[37m\u001b[0m \u001b[1m63s\u001b[0m 104ms/step - accuracy: 0.8785 - loss: 0.6526 - val_accuracy: 0.7997 - val_loss: 1.0541 - learning_rate: 1.0000e-05\n",
      "Epoch 91/100\n",
      "\u001b[1m607/607\u001b[0m \u001b[32m━━━━━━━━━━━━━━━━━━━━\u001b[0m\u001b[37m\u001b[0m \u001b[1m0s\u001b[0m 95ms/step - accuracy: 0.8680 - loss: 0.6787\n",
      "Epoch 91: val_loss did not improve from 1.03763\n",
      "\u001b[1m607/607\u001b[0m \u001b[32m━━━━━━━━━━━━━━━━━━━━\u001b[0m\u001b[37m\u001b[0m \u001b[1m63s\u001b[0m 104ms/step - accuracy: 0.8680 - loss: 0.6786 - val_accuracy: 0.7945 - val_loss: 1.0481 - learning_rate: 1.0000e-05\n",
      "Epoch 92/100\n",
      "\u001b[1m607/607\u001b[0m \u001b[32m━━━━━━━━━━━━━━━━━━━━\u001b[0m\u001b[37m\u001b[0m \u001b[1m0s\u001b[0m 95ms/step - accuracy: 0.8945 - loss: 0.6407\n",
      "Epoch 92: val_loss did not improve from 1.03763\n",
      "\u001b[1m607/607\u001b[0m \u001b[32m━━━━━━━━━━━━━━━━━━━━\u001b[0m\u001b[37m\u001b[0m \u001b[1m63s\u001b[0m 104ms/step - accuracy: 0.8945 - loss: 0.6407 - val_accuracy: 0.7971 - val_loss: 1.0472 - learning_rate: 1.0000e-05\n",
      "Epoch 93/100\n",
      "\u001b[1m607/607\u001b[0m \u001b[32m━━━━━━━━━━━━━━━━━━━━\u001b[0m\u001b[37m\u001b[0m \u001b[1m0s\u001b[0m 96ms/step - accuracy: 0.8932 - loss: 0.6224\n",
      "Epoch 93: val_loss did not improve from 1.03763\n",
      "\u001b[1m607/607\u001b[0m \u001b[32m━━━━━━━━━━━━━━━━━━━━\u001b[0m\u001b[37m\u001b[0m \u001b[1m63s\u001b[0m 105ms/step - accuracy: 0.8932 - loss: 0.6224 - val_accuracy: 0.8024 - val_loss: 1.0426 - learning_rate: 1.0000e-05\n",
      "Epoch 94/100\n",
      "\u001b[1m607/607\u001b[0m \u001b[32m━━━━━━━━━━━━━━━━━━━━\u001b[0m\u001b[37m\u001b[0m \u001b[1m0s\u001b[0m 96ms/step - accuracy: 0.9008 - loss: 0.6256\n",
      "Epoch 94: val_loss did not improve from 1.03763\n",
      "\u001b[1m607/607\u001b[0m \u001b[32m━━━━━━━━━━━━━━━━━━━━\u001b[0m\u001b[37m\u001b[0m \u001b[1m64s\u001b[0m 105ms/step - accuracy: 0.9008 - loss: 0.6256 - val_accuracy: 0.7958 - val_loss: 1.0501 - learning_rate: 1.0000e-05\n",
      "Epoch 95/100\n",
      "\u001b[1m607/607\u001b[0m \u001b[32m━━━━━━━━━━━━━━━━━━━━\u001b[0m\u001b[37m\u001b[0m \u001b[1m0s\u001b[0m 95ms/step - accuracy: 0.8907 - loss: 0.6377\n",
      "Epoch 95: val_loss did not improve from 1.03763\n",
      "\u001b[1m607/607\u001b[0m \u001b[32m━━━━━━━━━━━━━━━━━━━━\u001b[0m\u001b[37m\u001b[0m \u001b[1m63s\u001b[0m 104ms/step - accuracy: 0.8907 - loss: 0.6377 - val_accuracy: 0.7958 - val_loss: 1.0506 - learning_rate: 1.0000e-05\n",
      "Epoch 96/100\n",
      "\u001b[1m607/607\u001b[0m \u001b[32m━━━━━━━━━━━━━━━━━━━━\u001b[0m\u001b[37m\u001b[0m \u001b[1m0s\u001b[0m 95ms/step - accuracy: 0.9016 - loss: 0.5973\n",
      "Epoch 96: val_loss did not improve from 1.03763\n",
      "\u001b[1m607/607\u001b[0m \u001b[32m━━━━━━━━━━━━━━━━━━━━\u001b[0m\u001b[37m\u001b[0m \u001b[1m63s\u001b[0m 104ms/step - accuracy: 0.9016 - loss: 0.5973 - val_accuracy: 0.7971 - val_loss: 1.0576 - learning_rate: 1.0000e-05\n",
      "Epoch 97/100\n",
      "\u001b[1m607/607\u001b[0m \u001b[32m━━━━━━━━━━━━━━━━━━━━\u001b[0m\u001b[37m\u001b[0m \u001b[1m0s\u001b[0m 95ms/step - accuracy: 0.8854 - loss: 0.6308\n",
      "Epoch 97: val_loss did not improve from 1.03763\n",
      "\u001b[1m607/607\u001b[0m \u001b[32m━━━━━━━━━━━━━━━━━━━━\u001b[0m\u001b[37m\u001b[0m \u001b[1m63s\u001b[0m 104ms/step - accuracy: 0.8854 - loss: 0.6308 - val_accuracy: 0.8037 - val_loss: 1.0521 - learning_rate: 1.0000e-05\n",
      "Epoch 98/100\n",
      "\u001b[1m607/607\u001b[0m \u001b[32m━━━━━━━━━━━━━━━━━━━━\u001b[0m\u001b[37m\u001b[0m \u001b[1m0s\u001b[0m 95ms/step - accuracy: 0.8903 - loss: 0.6100\n",
      "Epoch 98: val_loss did not improve from 1.03763\n",
      "\u001b[1m607/607\u001b[0m \u001b[32m━━━━━━━━━━━━━━━━━━━━\u001b[0m\u001b[37m\u001b[0m \u001b[1m63s\u001b[0m 104ms/step - accuracy: 0.8903 - loss: 0.6100 - val_accuracy: 0.7932 - val_loss: 1.0524 - learning_rate: 1.0000e-05\n",
      "Epoch 99/100\n",
      "\u001b[1m607/607\u001b[0m \u001b[32m━━━━━━━━━━━━━━━━━━━━\u001b[0m\u001b[37m\u001b[0m \u001b[1m0s\u001b[0m 96ms/step - accuracy: 0.8886 - loss: 0.6188\n",
      "Epoch 99: val_loss did not improve from 1.03763\n",
      "\u001b[1m607/607\u001b[0m \u001b[32m━━━━━━━━━━━━━━━━━━━━\u001b[0m\u001b[37m\u001b[0m \u001b[1m64s\u001b[0m 105ms/step - accuracy: 0.8886 - loss: 0.6188 - val_accuracy: 0.7997 - val_loss: 1.0564 - learning_rate: 1.0000e-05\n",
      "Epoch 99: early stopping\n",
      "Restoring model weights from the end of the best epoch: 89.\n"
     ]
    }
   ],
   "source": [
    "# Train the model using the same non-normalized data generators\n",
    "print(f\"Training {model_name} model with minimum 50 epochs...\")\n",
    "epochs = 100  # Maximum number of epochs\n",
    "history_efficientnet = efficientnet_model.fit(\n",
    "    train_gen,  # Reuse existing generator (no normalization)\n",
    "    validation_data=val_gen,\n",
    "    epochs=epochs,\n",
    "    callbacks=callbacks,\n",
    "    verbose=1\n",
    ")"
   ]
  },
  {
   "cell_type": "code",
   "execution_count": 43,
   "metadata": {
    "colab": {
     "base_uri": "https://localhost:8080/",
     "height": 460
    },
    "id": "Mg7OK0kNCYNe",
    "outputId": "cf98d171-6015-4a8f-e001-7cdfaf301826"
   },
   "outputs": [
    {
     "data": {
      "image/png": "[encoded data removed]",
      "text/plain": [
       "<Figure size 1200x500 with 2 Axes>"
      ]
     },
     "metadata": {},
     "output_type": "display_data"
    }
   ],
   "source": [
    "# Plot training history\n",
    "plt.figure(figsize=(12, 5))\n",
    "plt.subplot(1, 2, 1)\n",
    "plt.plot(history_efficientnet.history['loss'], label='Training Loss')\n",
    "plt.plot(history_efficientnet.history['val_loss'], label='Validation Loss')\n",
    "plt.title(f'{model_name} - Loss')\n",
    "plt.xlabel('Epoch')\n",
    "plt.ylabel('Loss')\n",
    "plt.legend()\n",
    "\n",
    "plt.subplot(1, 2, 2)\n",
    "plt.plot(history_efficientnet.history['accuracy'], label='Training Accuracy')\n",
    "plt.plot(history_efficientnet.history['val_accuracy'], label='Validation Accuracy')\n",
    "plt.title(f'{model_name} - Accuracy')\n",
    "plt.xlabel('Epoch')\n",
    "plt.ylabel('Accuracy')\n",
    "plt.legend()\n",
    "plt.tight_layout()\n",
    "plt.savefig(f'{model_name}_training_history.png')\n",
    "plt.show()"
   ]
  },
  {
   "cell_type": "code",
   "execution_count": 44,
   "metadata": {
    "colab": {
     "base_uri": "https://localhost:8080/"
    },
    "id": "BP9zjOQgCYU2",
    "outputId": "26189573-07ee-4764-92dc-ba517e1aa151"
   },
   "outputs": [
    {
     "name": "stdout",
     "output_type": "stream",
     "text": [
      "\n",
      "Evaluating EfficientNetB0 model...\n"
     ]
    }
   ],
   "source": [
    "# Plot learning rate if available\n",
    "if 'lr' in history_efficientnet.history:\n",
    "    plt.figure(figsize=(8, 3))\n",
    "    plt.plot(history_efficientnet.history['lr'])\n",
    "    plt.title('Learning Rate')\n",
    "    plt.xlabel('Epoch')\n",
    "    plt.ylabel('Learning Rate')\n",
    "    plt.yscale('log')\n",
    "    plt.savefig(f'{model_name}_learning_rate.png')\n",
    "    plt.show()\n",
    "\n",
    "# Evaluate the model\n",
    "print(f\"\\nEvaluating {model_name} model...\")\n",
    "train_metrics = evaluate_model(efficientnet_model, train_gen, classes)\n",
    "val_metrics = evaluate_model(efficientnet_model, val_gen, classes)\n",
    "test_metrics = evaluate_model(efficientnet_model, test_gen, classes)\n"
   ]
  },
  {
   "cell_type": "code",
   "execution_count": 45,
   "metadata": {
    "colab": {
     "base_uri": "https://localhost:8080/"
    },
    "id": "yZBCvEQCCYa8",
    "outputId": "9f320581-9ba2-485b-b27b-ff0a194cca61"
   },
   "outputs": [
    {
     "name": "stdout",
     "output_type": "stream",
     "text": [
      "\n",
      "EfficientNetB0 Results:\n",
      "Training - Accuracy: 0.9835, Precision: 0.9836, Recall: 0.9835, F1: 0.9835, AUC: 0.9997\n",
      "Validation - Accuracy: 0.7971, Precision: 0.7955, Recall: 0.7971, F1: 0.7937, AUC: 0.9693\n",
      "Test - Accuracy: 0.8029, Precision: 0.8028, Recall: 0.8029, F1: 0.7991, AUC: 0.9763\n",
      "EfficientNetB0 model training and evaluation complete!\n"
     ]
    }
   ],
   "source": [
    "# Display metrics\n",
    "print(f\"\\n{model_name} Results:\")\n",
    "print(f\"Training - Accuracy: {train_metrics['accuracy']:.4f}, Precision: {train_metrics['precision']:.4f}, \"\n",
    "      f\"Recall: {train_metrics['recall']:.4f}, F1: {train_metrics['f1_score']:.4f}, AUC: {train_metrics['auc']:.4f}\")\n",
    "\n",
    "print(f\"Validation - Accuracy: {val_metrics['accuracy']:.4f}, Precision: {val_metrics['precision']:.4f}, \"\n",
    "      f\"Recall: {val_metrics['recall']:.4f}, F1: {val_metrics['f1_score']:.4f}, AUC: {val_metrics['auc']:.4f}\")\n",
    "\n",
    "print(f\"Test - Accuracy: {test_metrics['accuracy']:.4f}, Precision: {test_metrics['precision']:.4f}, \"\n",
    "      f\"Recall: {test_metrics['recall']:.4f}, F1: {test_metrics['f1_score']:.4f}, AUC: {test_metrics['auc']:.4f}\")\n",
    "\n",
    "# Save metrics to file\n",
    "with open(f'{model_name}_metrics.txt', 'w') as f:\n",
    "    f.write(f\"{model_name} Results:\\n\")\n",
    "    f.write(f\"Training - Accuracy: {train_metrics['accuracy']:.4f}, Precision: {train_metrics['precision']:.4f}, \"\n",
    "            f\"Recall: {train_metrics['recall']:.4f}, F1: {train_metrics['f1_score']:.4f}, AUC: {train_metrics['auc']:.4f}\\n\")\n",
    "    f.write(f\"Validation - Accuracy: {val_metrics['accuracy']:.4f}, Precision: {val_metrics['precision']:.4f}, \"\n",
    "            f\"Recall: {val_metrics['recall']:.4f}, F1: {val_metrics['f1_score']:.4f}, AUC: {val_metrics['auc']:.4f}\\n\")\n",
    "    f.write(f\"Test - Accuracy: {test_metrics['accuracy']:.4f}, Precision: {test_metrics['precision']:.4f}, \"\n",
    "            f\"Recall: {test_metrics['recall']:.4f}, F1: {test_metrics['f1_score']:.4f}, AUC: {test_metrics['auc']:.4f}\\n\")\n",
    "\n",
    "print(f\"{model_name} model training and evaluation complete!\")"
   ]
  },
  {
   "cell_type": "code",
   "execution_count": 53,
   "metadata": {
    "id": "2rUG_iMFCYhz"
   },
   "outputs": [],
   "source": [
    "model_names = ['ResNet50', 'ResNet101', 'VGG16', 'EfficientNetB0']  # Updated to include all four models\n",
    "metrics_types = ['Accuracy', 'Precision', 'Recall', 'F1', 'AUC']\n",
    "results = {}\n",
    "\n",
    "# Extract results from files\n",
    "for model_name in model_names:\n",
    "    try:\n",
    "        with open(f'{model_name}_metrics.txt', 'r') as f:\n",
    "            lines = f.readlines()\n",
    "\n",
    "            # Results format: [Training, Validation, Test]\n",
    "            results[model_name] = {'Training': {}, 'Validation': {}, 'Test': {}}\n",
    "\n",
    "            for i, dataset in enumerate(['Training', 'Validation', 'Test']):\n",
    "                if i+1 < len(lines):  # Safety check\n",
    "                    metrics = lines[i+1].strip().split(', ')\n",
    "                    for metric in metrics:\n",
    "                        try:\n",
    "                            name, value = metric.split(': ')\n",
    "                            # Extract key metrics\n",
    "                            if 'Accuracy' in name:\n",
    "                                results[model_name][dataset]['Accuracy'] = float(value)\n",
    "                            elif 'Precision' in name:\n",
    "                                results[model_name][dataset]['Precision'] = float(value)\n",
    "                            elif 'Recall' in name:\n",
    "                                results[model_name][dataset]['Recall'] = float(value)\n",
    "                            elif 'F1' in name:\n",
    "                                results[model_name][dataset]['F1'] = float(value)\n",
    "                            elif 'AUC' in name:\n",
    "                                results[model_name][dataset]['AUC'] = float(value)\n",
    "                        except ValueError as e:\n",
    "                            print(f\"Error parsing metric: {metric}, {e}\")\n",
    "    except Exception as e:\n",
    "        print(f\"Could not load metrics for {model_name}: {e}\")\n"
   ]
  },
  {
   "cell_type": "code",
   "execution_count": 54,
   "metadata": {
    "colab": {
     "base_uri": "https://localhost:8080/",
     "height": 1000
    },
    "id": "uv9O5_THxqBa",
    "outputId": "a6c9f68d-6392-4d37-f7df-403854cb33ce"
   },
   "outputs": [
    {
     "data": {
      "image/png": "[encoded data removed]",
      "text/plain": [
       "<Figure size 1000x600 with 1 Axes>"
      ]
     },
     "metadata": {},
     "output_type": "display_data"
    },
    {
     "data": {
      "image/png": "[encoded data removed]",
      "text/plain": [
       "<Figure size 1000x600 with 1 Axes>"
      ]
     },
     "metadata": {},
     "output_type": "display_data"
    },
    {
     "data": {
      "image/png": "[encoded data removed]",
      "text/plain": [
       "<Figure size 1000x600 with 1 Axes>"
      ]
     },
     "metadata": {},
     "output_type": "display_data"
    },
    {
     "data": {
      "image/png": "[encoded data removed]",
      "text/plain": [
       "<Figure size 1000x600 with 1 Axes>"
      ]
     },
     "metadata": {},
     "output_type": "display_data"
    },
    {
     "data": {
      "image/png": "[encoded data removed]",
      "text/plain": [
       "<Figure size 1000x600 with 1 Axes>"
      ]
     },
     "metadata": {},
     "output_type": "display_data"
    }
   ],
   "source": [
    "# Create comparison plots for each metric individually\n",
    "for metric_name in ['Accuracy', 'Precision', 'Recall', 'F1', 'AUC']:\n",
    "    plt.figure(figsize=(10, 6))\n",
    "\n",
    "    # Prepare data for plotting\n",
    "    train_values = []\n",
    "    val_values = []\n",
    "    test_values = []\n",
    "\n",
    "    for model_name in model_names:\n",
    "        if model_name in results:\n",
    "            train_values.append(results[model_name]['Training'].get(metric_name, 0))\n",
    "            val_values.append(results[model_name]['Validation'].get(metric_name, 0))\n",
    "            test_values.append(results[model_name]['Test'].get(metric_name, 0))\n",
    "\n",
    "    # Set up bar positions\n",
    "    x = np.arange(len(model_names))\n",
    "    width = 0.25\n",
    "\n",
    "    # Create bars\n",
    "    plt.bar(x - width, train_values, width, label='Training')\n",
    "    plt.bar(x, val_values, width, label='Validation')\n",
    "    plt.bar(x + width, test_values, width, label='Test')\n",
    "\n",
    "    # Add labels and title\n",
    "    plt.xlabel('Model')\n",
    "    plt.ylabel(metric_name)\n",
    "    plt.title(f'Comparison of {metric_name}')\n",
    "    plt.xticks(x, model_names)\n",
    "    plt.ylim(0, 1.0)\n",
    "    plt.legend()\n",
    "\n",
    "    plt.tight_layout()\n",
    "    plt.savefig(f'model_comparison_{metric_name}.png')\n",
    "    plt.show()"
   ]
  },
  {
   "cell_type": "code",
   "execution_count": 56,
   "metadata": {
    "colab": {
     "base_uri": "https://localhost:8080/"
    },
    "id": "ytnPQywQCYvl",
    "outputId": "8bcaa457-e7dd-4ab1-dc10-0966312b546c"
   },
   "outputs": [
    {
     "name": "stdout",
     "output_type": "stream",
     "text": [
      "\n",
      "Model Comparison Summary (Test Set Metrics):\n",
      "================================================================================\n",
      "Model           | Accuracy   | Precision  | Recall     | F1 Score   | AUC       \n",
      "--------------------------------------------------------------------------------\n",
      "ResNet50        | 0.7453      | 0.7535      | 0.7453      | 0.7386      | 0.9625\n",
      "ResNet101       | 0.7495      | 0.7456      | 0.7495      | 0.7425      | 0.9615\n",
      "VGG16           | 0.7254      | 0.7297      | 0.7254      | 0.7212      | 0.9522\n",
      "EfficientNetB0  | 0.8029      | 0.8028      | 0.8029      | 0.7991      | 0.9763\n",
      "================================================================================\n"
     ]
    }
   ],
   "source": [
    "# Create a summary table\n",
    "print(\"\\nModel Comparison Summary (Test Set Metrics):\")\n",
    "print(\"=\" * 80)\n",
    "print(f\"{'Model':<15} | {'Accuracy':<10} | {'Precision':<10} | {'Recall':<10} | {'F1 Score':<10} | {'AUC':<10}\")\n",
    "print(\"-\" * 80)\n",
    "\n",
    "for model_name in model_names:\n",
    "    if model_name in results:\n",
    "        test_metrics = results[model_name]['Test']\n",
    "        print(f\"{model_name:<15} | \"\n",
    "              f\"{test_metrics.get('Accuracy', 0):.4f}      | \"\n",
    "              f\"{test_metrics.get('Precision', 0):.4f}      | \"\n",
    "              f\"{test_metrics.get('Recall', 0):.4f}      | \"\n",
    "              f\"{test_metrics.get('F1', 0):.4f}      | \"\n",
    "              f\"{test_metrics.get('AUC', 0):.4f}\")\n",
    "\n",
    "print(\"=\" * 80)"
   ]
  },
  {
   "cell_type": "code",
   "execution_count": 58,
   "metadata": {
    "colab": {
     "base_uri": "https://localhost:8080/"
    },
    "id": "guL3Wg4vCY3L",
    "outputId": "f8a26a9e-fd61-46fa-db88-025f1096e8de"
   },
   "outputs": [
    {
     "name": "stdout",
     "output_type": "stream",
     "text": [
      "\n",
      "Best Performing Models by Metric:\n",
      "Accuracy:  EfficientNetB0 (Score: 0.8029)\n",
      "Precision: EfficientNetB0 (Score: 0.8028)\n",
      "Recall:    EfficientNetB0 (Score: 0.8029)\n",
      "F1:        EfficientNetB0 (Score: 0.7991)\n",
      "AUC:       EfficientNetB0 (Score: 0.9763)\n",
      "\n",
      "Overall Analysis:\n",
      "The model that outperforms others most consistently is: EfficientNetB0\n"
     ]
    }
   ],
   "source": [
    "best_models = {}\n",
    "for metric_name in ['Accuracy', 'Precision', 'Recall', 'F1', 'AUC']:\n",
    "    best_score = 0\n",
    "    best_model = \"\"\n",
    "\n",
    "    for model_name in model_names:\n",
    "        if model_name in results:\n",
    "            score = results[model_name]['Test'].get(metric_name, 0)\n",
    "            if score > best_score:\n",
    "                best_score = score\n",
    "                best_model = model_name\n",
    "\n",
    "    best_models[metric_name] = (best_model, best_score)\n",
    "\n",
    "print(\"\\nBest Performing Models by Metric:\")\n",
    "for metric, (model, score) in best_models.items():\n",
    "    print(f\"{metric+':':<10} {model} (Score: {score:.4f})\")\n",
    "\n",
    "print(\"\\nOverall Analysis:\")\n",
    "# Count how many metrics each model wins\n",
    "winner_counts = {}\n",
    "for metric, (model, _) in best_models.items():\n",
    "    winner_counts[model] = winner_counts.get(model, 0) + 1\n",
    "\n",
    "overall_best = max(winner_counts.items(), key=lambda x: x[1])[0]\n",
    "print(f\"The model that outperforms others most consistently is: {overall_best}\")"
   ]
  },
  {
   "cell_type": "code",
   "execution_count": 59,
   "metadata": {
    "colab": {
     "base_uri": "https://localhost:8080/"
    },
    "id": "s4U4TCuS10Xd",
    "outputId": "6e70a530-6b38-4eef-f83f-27f21e122f17"
   },
   "outputs": [
    {
     "name": "stdout",
     "output_type": "stream",
     "text": [
      "\n",
      "Class Distribution Analysis:\n",
      "================================================================================\n",
      "Class           | Training   | Validation | Test       | Val %     \n",
      "--------------------------------------------------------------------------------\n",
      "1-Cardboard     | 294        | 74         | 93         | 20.11%\n",
      "2-Food Organics | 262        | 66         | 83         | 20.12%\n",
      "3-Glass         | 268        | 68         | 84         | 20.24%\n",
      "4-Metal         | 505        | 127        | 158        | 20.09%\n",
      "5-Miscellaneous Trash | 316        | 80         | 99         | 20.20%\n",
      "6-Paper         | 320        | 80         | 100        | 20.00%\n",
      "7-Plastic       | 588        | 148        | 185        | 20.11%\n",
      "8-Textile Trash | 203        | 51         | 64         | 20.08%\n",
      "9-Vegetation    | 278        | 70         | 88         | 20.11%\n",
      "================================================================================\n"
     ]
    }
   ],
   "source": [
    "# 1. Verify class balance in validation set\n",
    "class_counts = {}\n",
    "for cls in classes:\n",
    "    class_counts[cls] = {\n",
    "        'train': sum(1 for path in train_paths if os.path.basename(os.path.dirname(path)) == cls),\n",
    "        'val': sum(1 for path in val_paths if os.path.basename(os.path.dirname(path)) == cls),\n",
    "        'test': sum(1 for path in test_paths if os.path.basename(os.path.dirname(path)) == cls)\n",
    "    }\n",
    "\n",
    "print(\"\\nClass Distribution Analysis:\")\n",
    "print(\"=\" * 80)\n",
    "print(f\"{'Class':<15} | {'Training':<10} | {'Validation':<10} | {'Test':<10} | {'Val %':<10}\")\n",
    "print(\"-\" * 80)\n",
    "\n",
    "for cls, counts in class_counts.items():\n",
    "    train_count = counts['train']\n",
    "    val_count = counts['val']\n",
    "    test_count = counts['test']\n",
    "    total_train_val = train_count + val_count\n",
    "    val_percentage = (val_count / total_train_val) * 100\n",
    "\n",
    "    print(f\"{cls:<15} | {train_count:<10} | {val_count:<10} | {test_count:<10} | {val_percentage:.2f}%\")\n",
    "\n",
    "print(\"=\" * 80)\n"
   ]
  },
  {
   "cell_type": "code",
   "execution_count": 60,
   "metadata": {
    "id": "bWrvpV8o14y4"
   },
   "outputs": [],
   "source": [
    "# 2. Calculate and visualize per-class metrics for the best model\n",
    "from sklearn.metrics import precision_recall_fscore_support, roc_auc_score\n",
    "\n",
    "def calculate_per_class_metrics(model, data_generator, class_names):\n",
    "    \"\"\"Calculate detailed per-class metrics\"\"\"\n",
    "    # Create non-shuffled generator\n",
    "    eval_gen = WasteImageGenerator(\n",
    "        data_generator.img_paths,\n",
    "        data_generator.labels,\n",
    "        data_generator.batch_size,\n",
    "        data_generator.img_size,\n",
    "        augment=False,\n",
    "        shuffle=False\n",
    "    )\n",
    "\n",
    "    # Collect predictions\n",
    "    y_true = []\n",
    "    y_pred = []\n",
    "    y_scores = []\n",
    "\n",
    "    for i in range(len(eval_gen)):\n",
    "        x_batch, y_batch = eval_gen[i]\n",
    "        batch_preds = model.predict(x_batch, verbose=0)\n",
    "\n",
    "        y_true.extend(np.argmax(y_batch, axis=1))\n",
    "        y_pred.extend(np.argmax(batch_preds, axis=1))\n",
    "        y_scores.extend(batch_preds)\n",
    "\n",
    "    # Convert to arrays\n",
    "    y_true = np.array(y_true)\n",
    "    y_pred = np.array(y_pred)\n",
    "    y_scores = np.array(y_scores)\n",
    "\n",
    "    # Calculate metrics\n",
    "    precision, recall, f1, support = precision_recall_fscore_support(\n",
    "        y_true, y_pred, average=None, labels=range(len(class_names))\n",
    "    )\n",
    "\n",
    "    # For AUC, convert to one-hot\n",
    "    y_true_onehot = np.zeros((len(y_true), len(class_names)))\n",
    "    for i, label in enumerate(y_true):\n",
    "        y_true_onehot[i, label] = 1\n",
    "\n",
    "    # Calculate AUC for each class\n",
    "    auc = []\n",
    "    for i in range(len(class_names)):\n",
    "        try:\n",
    "            auc.append(roc_auc_score(y_true_onehot[:, i], y_scores[:, i]))\n",
    "        except:\n",
    "            auc.append(np.nan)  # In case of errors\n",
    "\n",
    "    # Create dataframe\n",
    "    metrics_df = pd.DataFrame({\n",
    "        'Class': class_names,\n",
    "        'Precision': precision,\n",
    "        'Recall': recall,\n",
    "        'F1': f1,\n",
    "        'AUC': auc,\n",
    "        'Support': support\n",
    "    })\n",
    "\n",
    "    return metrics_df"
   ]
  },
  {
   "cell_type": "code",
   "execution_count": 62,
   "metadata": {
    "colab": {
     "base_uri": "https://localhost:8080/"
    },
    "id": "R02Y0fIg146q",
    "outputId": "81e04e83-cac8-4353-9625-4fb927688a83"
   },
   "outputs": [
    {
     "name": "stdout",
     "output_type": "stream",
     "text": [
      "\n",
      "Per-Class Metrics for Best Model (EfficientNetB0) on Test Set:\n",
      "                Class  Precision   Recall       F1      AUC  Support\n",
      "          1-Cardboard   0.797753 0.763441 0.780220 0.987411       93\n",
      "      2-Food Organics   0.721649 0.843373 0.777778 0.979804       83\n",
      "              3-Glass   0.807692 0.750000 0.777778 0.973454       84\n",
      "              4-Metal   0.787709 0.892405 0.836795 0.985433      158\n",
      "5-Miscellaneous Trash   0.720588 0.494949 0.586826 0.921165       99\n",
      "              6-Paper   0.821429 0.920000 0.867925 0.994883      100\n",
      "            7-Plastic   0.839779 0.821622 0.830601 0.975981      185\n",
      "      8-Textile Trash   0.750000 0.796875 0.772727 0.979635       64\n",
      "         9-Vegetation   0.939024 0.875000 0.905882 0.987193       88\n"
     ]
    }
   ],
   "source": [
    "import pandas as pd\n",
    "# Calculate and display metrics for best model\n",
    "best_model_name = overall_best  # From previous analysis\n",
    "if best_model_name == 'ResNet50':\n",
    "    best_model = resnet50_model\n",
    "elif best_model_name == 'ResNet101':\n",
    "    best_model = resnet101_model\n",
    "elif best_model_name == 'VGG16':\n",
    "    best_model = vgg16_model\n",
    "else:\n",
    "    best_model = efficientnet_model\n",
    "\n",
    "# Get per-class metrics for test set\n",
    "print(f\"\\nPer-Class Metrics for Best Model ({best_model_name}) on Test Set:\")\n",
    "per_class_metrics = calculate_per_class_metrics(best_model, test_gen, classes)\n",
    "print(per_class_metrics.to_string(index=False))\n"
   ]
  },
  {
   "cell_type": "code",
   "execution_count": 64,
   "metadata": {
    "colab": {
     "base_uri": "https://localhost:8080/",
     "height": 734
    },
    "id": "qi0XdCaN15Fy",
    "outputId": "1dc90f28-fca3-4dfe-9cc2-d0fadf4bd9a0"
   },
   "outputs": [
    {
     "data": {
      "image/png": "[encoded data removed]",
      "text/plain": [
       "<Figure size 1500x1000 with 4 Axes>"
      ]
     },
     "metadata": {},
     "output_type": "display_data"
    }
   ],
   "source": [
    "import seaborn as sns\n",
    "# Visualize per-class metrics\n",
    "plt.figure(figsize=(15, 10))\n",
    "for i, metric in enumerate(['Precision', 'Recall', 'F1', 'AUC']):\n",
    "    plt.subplot(2, 2, i+1)\n",
    "    sns.barplot(x='Class', y=metric, data=per_class_metrics)\n",
    "    plt.title(f'Per-Class {metric}')\n",
    "    plt.xticks(rotation=45)\n",
    "    plt.ylim(0, 1.0)\n",
    "\n",
    "plt.tight_layout()\n",
    "plt.savefig(f'{best_model_name}_per_class_metrics.png')\n",
    "plt.show()"
   ]
  },
  {
   "cell_type": "code",
   "execution_count": 66,
   "metadata": {
    "colab": {
     "base_uri": "https://localhost:8080/"
    },
    "id": "cpb38V1X15QS",
    "outputId": "e18c6943-9d9b-4712-ffc9-30df4481540e"
   },
   "outputs": [
    {
     "name": "stdout",
     "output_type": "stream",
     "text": [
      "\n",
      "Final Model Comparison and Conclusion:\n",
      "================================================================================\n",
      "Based on the comprehensive evaluation, we can conclude that:\n",
      "1. The model with the highest test accuracy is EfficientNetB0 (0.8029).\n",
      "2. The model with the best average ranking across all metrics is EfficientNetB0.\n",
      "3. For this waste classification task, the EfficientNetB0 model clearly outperforms the others.\n",
      "   It achieves the best results in 5 out of 5 evaluation metrics.\n",
      "\n",
      "Additional considerations:\n",
      "- ResNet50 and ResNet101: More parameters, potentially better feature extraction\n",
      "- VGG16: Simpler architecture, but more parameters\n",
      "- EfficientNetB0: Designed for efficiency, balancing accuracy and computational cost\n",
      "\n",
      "In conclusion, we recommend using the {overall_best} model for this waste classification task.\n",
      "================================================================================\n"
     ]
    }
   ],
   "source": [
    "# 3. Provide clear model comparison conclusion\n",
    "print(\"\\nFinal Model Comparison and Conclusion:\")\n",
    "print(\"=\" * 80)\n",
    "print(\"Based on the comprehensive evaluation, we can conclude that:\")\n",
    "\n",
    "# Determine best model based on test accuracy\n",
    "test_accuracies = {model: results[model]['Test']['Accuracy'] for model in results}\n",
    "highest_acc_model = max(test_accuracies.items(), key=lambda x: x[1])\n",
    "\n",
    "# Get average ranking across all metrics\n",
    "avg_rankings = {}\n",
    "for model in results:\n",
    "    ranks = []\n",
    "    for metric in ['Accuracy', 'Precision', 'Recall', 'F1', 'AUC']:\n",
    "        metric_values = [results[m]['Test'].get(metric, 0) for m in results]\n",
    "        sorted_models = [m for m, _ in sorted(zip(results.keys(), metric_values), key=lambda x: x[1], reverse=True)]\n",
    "        rank = sorted_models.index(model) + 1\n",
    "        ranks.append(rank)\n",
    "    avg_rankings[model] = np.mean(ranks)\n",
    "\n",
    "best_overall_model = min(avg_rankings.items(), key=lambda x: x[1])[0]\n",
    "\n",
    "print(f\"1. The model with the highest test accuracy is {highest_acc_model[0]} ({highest_acc_model[1]:.4f}).\")\n",
    "print(f\"2. The model with the best average ranking across all metrics is {best_overall_model}.\")\n",
    "print(f\"3. For this waste classification task, the {overall_best} model clearly outperforms the others.\")\n",
    "print(f\"   It achieves the best results in {winner_counts[overall_best]} out of 5 evaluation metrics.\")\n",
    "\n",
    "# Compare computational efficiency\n",
    "print(\"\\nAdditional considerations:\")\n",
    "print(\"- ResNet50 and ResNet101: More parameters, potentially better feature extraction\")\n",
    "print(\"- VGG16: Simpler architecture, but more parameters\")\n",
    "print(\"- EfficientNetB0: Designed for efficiency, balancing accuracy and computational cost\")\n",
    "\n",
    "print(\"\\nIn conclusion, we recommend using the {overall_best} model for this waste classification task.\")\n",
    "print(\"=\" * 80)\n"
   ]
  }
 ],
 "metadata": {
  "accelerator": "GPU",
  "colab": {
   "gpuType": "A100",
   "machine_shape": "hm",
   "provenance": [],
   "toc_visible": true
  },
  "kernelspec": {
   "display_name": "Python 3",
   "language": "python",
   "name": "python3"
  },
  "language_info": {
   "codemirror_mode": {
    "name": "ipython",
    "version": 3
   },
   "file_extension": ".py",
   "mimetype": "text/x-python",
   "name": "python",
   "nbconvert_exporter": "python",
   "pygments_lexer": "ipython3",
   "version": "3.8.8"
  }
 },
 "nbformat": 4,
 "nbformat_minor": 1
}
