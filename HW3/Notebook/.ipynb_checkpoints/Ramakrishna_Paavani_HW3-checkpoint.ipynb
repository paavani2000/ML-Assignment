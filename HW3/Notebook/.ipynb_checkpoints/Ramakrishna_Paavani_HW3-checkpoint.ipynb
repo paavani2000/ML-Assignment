{
 "cells": [
  {
   "cell_type": "markdown",
   "id": "7700de51",
   "metadata": {},
   "source": [
    "# Name: Paavani Ramakrishna\n",
    "# Git Username: paavani2000\n",
    "# USC id: 7696462483"
   ]
  },
  {
   "cell_type": "markdown",
   "id": "843ea6d3",
   "metadata": {},
   "source": [
    "# 1.Time Series Classification Part 1: Feature Creation/Extraction"
   ]
  },
  {
   "cell_type": "markdown",
   "id": "37f872c7",
   "metadata": {},
   "source": [
    "a) Download the AReM data from:\n",
    "https://archive.ics.uci.edu/ml/datasets/Activity+Recognition+system+based+on+Multisensor+data+fusion+%28AReM%29 . The dataset contains 7 folders that represent seven types of activities. In each folder, there are multiple files each of which represents an instant of a human performing an activity.1 Each file contains 6 time series collected from activities of the same person, which are called avg rss12, var rss12, avg rss13, var rss13, avg rss23, and var rss23. There are 88 instances in the dataset, each of which contains 6 time series and each time series has 480 consecutive values."
   ]
  },
  {
   "cell_type": "code",
   "execution_count": null,
   "id": "ce52e07b",
   "metadata": {},
   "outputs": [],
   "source": [
    "import pandas as pd\n",
    "import numpy as np"
   ]
  },
  {
   "cell_type": "code",
   "execution_count": null,
   "id": "3e269279",
   "metadata": {},
   "outputs": [],
   "source": [
    "root_dir = '../data/AReM/'\n",
    "activity_folders = ['bending1', 'bending2', 'cycling', 'lying', 'sitting', 'standing', 'walking']\n"
   ]
  },
  {
   "cell_type": "code",
   "execution_count": null,
   "id": "c132fd58",
   "metadata": {},
   "outputs": [],
   "source": [
    "import os\n",
    "import glob\n",
    "import pandas as pd\n",
    "\n",
    "# Define the root directory and test files list\n",
    "root_dir = \"path_to_data/\"  # Replace with your root directory\n",
    "test_files = [\"file1.csv\", \"file2.csv\"]  # Example: list of test files\n",
    "\n",
    "# Initialize lists to hold data and labels\n",
    "training_data = []\n",
    "testing_data = []\n",
    "training_labels = []\n",
    "testing_labels = []\n",
    "\n",
    "# Collect all activity folders (assuming each folder corresponds to an activity type)\n",
    "activity_folders = os.listdir(root_dir)\n",
    "\n",
    "# Loop through each activity folder\n",
    "for activity in activity_folders:\n",
    "    activity_path = os.path.join(root_dir, activity)\n",
    "    \n",
    "    if os.path.isdir(activity_path):  # Make sure we are working with a directory\n",
    "        # Get all CSV file paths for the current activity folder\n",
    "        path_pattern = os.path.join(activity_path, '*.csv')\n",
    "        \n",
    "        # Loop through all CSV files in the folder\n",
    "        for file_path in glob.glob(path_pattern):\n",
    "            try:\n",
    "                # Load the CSV file into a DataFrame, skipping the first 4 rows (header info)\n",
    "                data_frame = pd.read_csv(file_path, skiprows=4, on_bad_lines='skip')\n",
    "                \n",
    "                # Add a new column to the DataFrame with the activity label\n",
    "                data_frame['Activity'] = activity\n",
    "\n",
    "                # Assign the file to either training or testing set based on the file path\n",
    "                if os.path.basename(file_path) in test_files:\n",
    "                    # Add to test set\n",
    "                    testing_data.append(data_frame)\n",
    "                    testing_labels.append(activity)\n",
    "                else:\n",
    "                    # Add to training set\n",
    "                    training_data.append(data_frame)\n",
    "                    training_labels.append(activity)\n",
    "            \n",
    "            except Exception as e:\n",
    "                print(f\"Error reading file {file_path}: {e}\")\n",
    "                continue\n",
    "\n",
    "# Combine all training and testing data into single DataFrames\n",
    "training_data = pd.concat(training_data, ignore_index=True)\n",
    "testing_data = pd.concat(testing_data, ignore_index=True)\n",
    "\n",
    "# Display an overview of the data\n",
    "print(\"\\n--- Test Data Overview ---\")\n",
    "print(testing_data.head())  # Display first few rows of the test data\n",
    "\n",
    "print(\"\\n--- Training Data Overview ---\")\n",
    "print(training_data.head())  # Display first few rows of the training data\n",
    "\n",
    "# Optional: You can check the shape of the datasets for better insight\n",
    "print(f\"\\nTraining Data Shape: {training_data.shape}\")\n",
    "print(f\"Testing Data Shape: {testing_data.shape}\")\n",
    "\n",
    "# Example of accessing data and labels separately (if needed):\n",
    "print(\"\\nTraining Labels:\")\n",
    "print(training_labels)\n"
   ]
  },
  {
   "cell_type": "code",
   "execution_count": null,
   "id": "ff7a9f17",
   "metadata": {},
   "outputs": [],
   "source": []
  },
  {
   "cell_type": "code",
   "execution_count": null,
   "id": "0b829d88",
   "metadata": {},
   "outputs": [],
   "source": []
  },
  {
   "cell_type": "code",
   "execution_count": null,
   "id": "feac306c",
   "metadata": {},
   "outputs": [],
   "source": []
  },
  {
   "cell_type": "code",
   "execution_count": null,
   "id": "b4c7cef1",
   "metadata": {},
   "outputs": [],
   "source": []
  },
  {
   "cell_type": "code",
   "execution_count": null,
   "id": "b9d2ffad",
   "metadata": {},
   "outputs": [],
   "source": []
  },
  {
   "cell_type": "code",
   "execution_count": null,
   "id": "bea2a0d5",
   "metadata": {},
   "outputs": [],
   "source": []
  },
  {
   "cell_type": "code",
   "execution_count": null,
   "id": "fe44d3b4",
   "metadata": {},
   "outputs": [],
   "source": []
  }
 ],
 "metadata": {
  "kernelspec": {
   "display_name": "Python 3",
   "language": "python",
   "name": "python3"
  },
  "language_info": {
   "codemirror_mode": {
    "name": "ipython",
    "version": 3
   },
   "file_extension": ".py",
   "mimetype": "text/x-python",
   "name": "python",
   "nbconvert_exporter": "python",
   "pygments_lexer": "ipython3",
   "version": "3.8.8"
  }
 },
 "nbformat": 4,
 "nbformat_minor": 5
}
